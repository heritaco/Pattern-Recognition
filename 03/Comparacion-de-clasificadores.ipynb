{
 "cells": [
  {
   "cell_type": "markdown",
   "metadata": {},
   "source": [
    "<div style=\"position: relative; text-align: center; padding: 30px;\">\n",
    "  <h1><strong>Comparasión de Clasificadores</strong></h1>\n",
    "  <h3><strong>Walter y Heri</strong></h3>\n",
    "</div>"
   ]
  },
  {
   "cell_type": "markdown",
   "metadata": {},
   "source": [
    "**Objetivo:** El objetivo de esta actividad es que cada equipo cree una función que permita manejar diferentes formas de representación de clasificaciones."
   ]
  },
  {
   "cell_type": "markdown",
   "metadata": {},
   "source": [
    "**Instrucciones:**\n",
    "- Construye una clase en Python que reciba una clasificación en representación vectorial, y construya la representación matricial y de conjunto de conjuntos de la clasificación. Haz un método para cada conversión:  \n",
    "    - vectorial -> matricial.  \n",
    "    - vectorial -> conjunto de conjuntos.  \n",
    "- Guarda las tres representaciones como variables ocultas usando la nomenclatura \"__parameter\".  \n",
    "- Crea tres métodos getter para devolver cada representación.  \n",
    "- Construye un método para calcular los siguientes valores:  \n",
    "    - Entropía de una clasificación.  \n",
    "    - La entropía condicional de una clasificación dada otra clasificación.  \n",
    "    - La información mutua de una clasificación dada otra clasificación.  \n",
    "    - La variación de información de una clasificación dada otra clasificación.  "
   ]
  },
  {
   "cell_type": "code",
   "execution_count": null,
   "metadata": {
    "vscode": {
     "languageId": "plaintext"
    }
   },
   "outputs": [],
   "source": []
  }
 ],
 "metadata": {
  "language_info": {
   "name": "python"
  }
 },
 "nbformat": 4,
 "nbformat_minor": 2
}
