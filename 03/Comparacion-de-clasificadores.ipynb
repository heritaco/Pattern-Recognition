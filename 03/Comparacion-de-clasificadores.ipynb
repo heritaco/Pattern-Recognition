{
 "cells": [
  {
   "cell_type": "markdown",
   "metadata": {},
   "source": [
    "<div style=\"position: relative; text-align: center; padding: 30px;\">\n",
    "  <h1><strong>Comparasión de Clasificadores</strong></h1>\n",
    "  <h3><strong>Walter y Heri</strong></h3>\n",
    "</div>"
   ]
  },
  {
   "cell_type": "markdown",
   "metadata": {},
   "source": [
    "**Objetivo:** El objetivo de esta actividad es que cada equipo cree una función que permita manejar diferentes formas de representación de clasificaciones."
   ]
  },
  {
   "cell_type": "markdown",
   "metadata": {},
   "source": [
    "**Instrucciones:**\n",
    "- Construye una clase en Python que reciba una clasificación en representación vectorial, y construya la representación matricial y de conjunto de conjuntos de la clasificación. Haz un método para cada conversión:  \n",
    "    - vectorial -> matricial.  \n",
    "    - vectorial -> conjunto de conjuntos.  \n",
    "- Guarda las tres representaciones como variables ocultas usando la nomenclatura \"__parameter\".  \n",
    "- Crea tres métodos getter para devolver cada representación.  \n",
    "- Construye un método para calcular los siguientes valores:  \n",
    "    - Entropía de una clasificación.  \n",
    "    - La entropía condicional de una clasificación dada otra clasificación.  \n",
    "    - La información mutua de una clasificación dada otra clasificación.  \n",
    "    - La variación de información de una clasificación dada otra clasificación.  "
   ]
  },
  {
   "cell_type": "code",
   "execution_count": 155,
   "metadata": {},
   "outputs": [],
   "source": [
    "import numpy as np\n",
    "\n",
    "class MyClass():\n",
    "    def __init__(self, vector):\n",
    "        self.__vector = vector\n",
    "        self.__matrix = self.create_matrix()\n",
    "        self.__sets = self.create_sets()\n",
    "\n",
    "    def create_matrix(self):\n",
    "        # Get labels\n",
    "        labels = [] \n",
    "\n",
    "        for label in self.__vector:\n",
    "            if label not in labels:\n",
    "                labels.append(label) \n",
    "\n",
    "        # Create an empty matrix\n",
    "        matrix = [ [0] * len(labels) for i in range(len(self.__vector)) ]\n",
    "\n",
    "        # Fill the matrix\n",
    "        for label in range(len(self.__vector)): # for each label in the vector\n",
    "            matrix[label][labels.index(self.__vector[label])] = 1 # set the value to 1\n",
    "            # labels.index(self.__vector[label]) returns the index of the label in the labels list\n",
    "\n",
    "        return matrix\n",
    "    \n",
    "    def create_sets(self):\n",
    "        return None\n",
    "    \n",
    "    # ---\n",
    "    # Crea tres métodos getter para devolver cada representación. \n",
    "\n",
    "    def get_vector(self):\n",
    "        return self.__vector\n",
    "    \n",
    "    def get_matrix(self):\n",
    "        return self.__matrix\n",
    "    \n",
    "    def get_sets(self):\n",
    "        return self.__sets\n",
    "\n",
    "    \n",
    "    # ---\n",
    "    # Construye un método para calcular los siguientes valores:\n",
    "    # - Entropía de una clasificación.\n",
    "\n",
    "\n",
    "    def entropy(self):\n",
    "        entropy = 0\n",
    "\n",
    "        p = [] # create a list of probabilities\n",
    "        for label in self.__matrix[1]: # for each label in the matrix\n",
    "            p.append(self.__vector.count(label) / len(self.__vector)) # count the number of times the label appears in the vector\n",
    "        \n",
    "        for prob in p:\n",
    "            term = -prob * np.log2(prob)\n",
    "            entropy += term\n",
    "            \n",
    "        return entropy\n",
    "    \n",
    "    # - La entropía condicional de una clasificación dada otra clasificación.\n",
    "\n",
    "    def conditional_entropy(self, other):\n",
    "        conditional_entropy = 0\n",
    "\n",
    "        p = [] # create a list of probabilities\n",
    "\n",
    "        # Intersection between the two classifications\n",
    "        intersection = []\n",
    "\n",
    "        for i in range(len(self.__vector)):\n",
    "            if self.__vector[i] == other[i]:\n",
    "                intersection.append(self.__vector[i])\n",
    "        \n",
    "        for label in self.__matrix[1]: # for each label in the intersection\n",
    "            p.append(intersection.count(label) / len(intersection))\n",
    "\n",
    "        for prob in p:\n",
    "            term = -prob * np.log2(prob)\n",
    "            conditional_entropy += term\n",
    "\n",
    "        print(\"Intersection:\", intersection, \"Probabilities:\", p)\n",
    "        return conditional_entropy\n",
    "        # example usage: my_class.conditional_entropy([1, 1, 1, 1, 1, 0, 0, 0, 0, 0])\n",
    "\n",
    "    \n",
    "    # - La información mutua de una clasificación dada otra clasificación.\n",
    "\n",
    "    def mutual_information(self, other):\n",
    "        return self.entropy() - self.conditional_entropy(other)\n",
    "    \n"
   ]
  },
  {
   "cell_type": "code",
   "execution_count": 156,
   "metadata": {},
   "outputs": [
    {
     "data": {
      "text/plain": [
       "[[1, 0, 0],\n",
       " [1, 0, 0],\n",
       " [1, 0, 0],\n",
       " [0, 1, 0],\n",
       " [0, 1, 0],\n",
       " [0, 1, 0],\n",
       " [0, 0, 1],\n",
       " [0, 0, 1],\n",
       " [0, 0, 1]]"
      ]
     },
     "execution_count": 156,
     "metadata": {},
     "output_type": "execute_result"
    }
   ],
   "source": [
    "vector = (0, 0, 0, 1, 1, 1, 2, 2, 2)\n",
    "my_class = MyClass(vector)\n",
    "\n",
    "my_class.create_matrix()\n"
   ]
  },
  {
   "cell_type": "code",
   "execution_count": 157,
   "metadata": {},
   "outputs": [
    {
     "data": {
      "text/plain": [
       "1.584962500721156"
      ]
     },
     "execution_count": 157,
     "metadata": {},
     "output_type": "execute_result"
    }
   ],
   "source": [
    "my_class.entropy()"
   ]
  },
  {
   "cell_type": "code",
   "execution_count": 158,
   "metadata": {},
   "outputs": [
    {
     "name": "stdout",
     "output_type": "stream",
     "text": [
      "Intersection: [0, 0, 0, 1, 1, 1, 2, 2, 2] Probabilities: [0.3333333333333333, 0.3333333333333333, 0.3333333333333333]\n"
     ]
    },
    {
     "data": {
      "text/plain": [
       "1.584962500721156"
      ]
     },
     "execution_count": 158,
     "metadata": {},
     "output_type": "execute_result"
    }
   ],
   "source": [
    "my_class.conditional_entropy((0, 0, 0, 1, 1, 1, 2, 2, 2)) "
   ]
  },
  {
   "cell_type": "code",
   "execution_count": 159,
   "metadata": {},
   "outputs": [
    {
     "name": "stdout",
     "output_type": "stream",
     "text": [
      "Intersection: [0, 0, 0, 1, 1, 1, 2, 2, 2] Probabilities: [0.3333333333333333, 0.3333333333333333, 0.3333333333333333]\n"
     ]
    },
    {
     "data": {
      "text/plain": [
       "0.0"
      ]
     },
     "execution_count": 159,
     "metadata": {},
     "output_type": "execute_result"
    }
   ],
   "source": [
    "my_class.mutual_information((0, 0, 0, 1, 1, 1, 2, 2, 2))"
   ]
  }
 ],
 "metadata": {
  "kernelspec": {
   "display_name": "Python 3",
   "language": "python",
   "name": "python3"
  },
  "language_info": {
   "codemirror_mode": {
    "name": "ipython",
    "version": 3
   },
   "file_extension": ".py",
   "mimetype": "text/x-python",
   "name": "python",
   "nbconvert_exporter": "python",
   "pygments_lexer": "ipython3",
   "version": "3.12.1"
  }
 },
 "nbformat": 4,
 "nbformat_minor": 2
}
