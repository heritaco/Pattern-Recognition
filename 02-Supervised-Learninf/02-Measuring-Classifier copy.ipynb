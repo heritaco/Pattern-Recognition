{
  "cells": [
    {
      "cell_type": "markdown",
      "metadata": {
        "id": "A9ySdrZ8oS6i"
      },
      "source": [
        "<div style=\"position: relative; text-align: center; padding: 30px;\">\n",
        "  <h1><strong>Measuring Classifier Performance</strong></h1>\n",
        "</div>\n"
      ]
    },
    {
      "cell_type": "markdown",
      "metadata": {},
      "source": [
        "¿Qué son patrones?\n",
        "\n",
        "¿Qué son instancias?\n",
        "\n",
        "---\n",
        "\n",
        "M clases  \n",
        "N patrones\n",
        "\n",
        "\n",
        "---\n",
        "\n",
        "Ventajas y desventajas de las siguientes representaciones: \n",
        "\n",
        "Parejas\n",
        "\n",
        "Conjunto de conjuntos\n",
        "\n",
        "Matríz\n",
        "\n",
        "Vectores\n",
        "\n",
        "---\n",
        "\n",
        "Vamos a verlos en Matemáticas\n",
        "\n",
        "Computacionalmente se puede desarrollar de distintas maneras\n",
        "\n",
        "---\n",
        "\n",
        "¿Qué es mappear?\n",
        "\n",
        "---\n",
        "\n",
        "La intersección es un conjunto\n"
      ]
    },
    {
      "cell_type": "markdown",
      "metadata": {},
      "source": []
    }
  ],
  "metadata": {
    "colab": {
      "provenance": []
    },
    "kernelspec": {
      "display_name": "Python 3",
      "name": "python3"
    },
    "language_info": {
      "name": "python"
    }
  },
  "nbformat": 4,
  "nbformat_minor": 0
}
