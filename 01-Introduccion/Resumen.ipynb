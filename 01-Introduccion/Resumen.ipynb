{
 "cells": [
  {
   "cell_type": "markdown",
   "metadata": {},
   "source": [
    "vector de etiquetas correctas\n",
    "\n",
    "$$Y = (1, 2, 2, 3, 3, 3, 4, 4, 4, 4)$$"
   ]
  },
  {
   "cell_type": "markdown",
   "metadata": {},
   "source": [
    "matriz de pertenencia a clases\n",
    "\n",
    "$$\n",
    "Y =\n",
    "\\begin{bmatrix}\n",
    "1 & 0 & 0 & 0 \\\\\n",
    "0 & 1 & 0 & 0 \\\\\n",
    "0 & 1 & 0 & 0 \\\\\n",
    "0 & 0 & 1 & 0 \\\\\n",
    "0 & 0 & 1 & 0 \\\\\n",
    "0 & 0 & 1 & 0 \\\\\n",
    "0 & 0 & 0 & 1 \\\\\n",
    "0 & 0 & 0 & 1 \\\\\n",
    "0 & 0 & 0 & 1 \\\\\n",
    "0 & 0 & 0 & 1\n",
    "\\end{bmatrix}\n",
    "$$"
   ]
  },
  {
   "cell_type": "markdown",
   "metadata": {},
   "source": [
    "partición de las muestras en clases\n",
    "\n",
    "$$\n",
    "Y = \\left\\{ \\{1\\}, \\{2, 3\\}, \\{4, 5, 6\\}, \\{7, 8, 9, 10\\} \\right\\}\n",
    "$$\n"
   ]
  },
  {
   "cell_type": "markdown",
   "metadata": {},
   "source": [
    "# Predicciones"
   ]
  },
  {
   "cell_type": "markdown",
   "metadata": {},
   "source": [
    "vector de predicciones\n",
    "\n",
    "$$\\hat{Y} = (1, 1, 1, 1, 2, 2, 2, 3, 3, 4)$$"
   ]
  },
  {
   "cell_type": "markdown",
   "metadata": {},
   "source": [
    "matriz de pertenencia a clases\n",
    "\n",
    "$$\n",
    "\\hat{Y} =\n",
    "\\begin{bmatrix}\n",
    "1 & 0 & 0 & 0 \\\\\n",
    "1 & 0 & 0 & 0 \\\\\n",
    "1 & 0 & 0 & 0 \\\\\n",
    "1 & 0 & 0 & 0 \\\\\n",
    "0 & 1 & 0 & 0 \\\\\n",
    "0 & 1 & 0 & 0 \\\\\n",
    "0 & 1 & 0 & 0 \\\\\n",
    "0 & 0 & 1 & 0 \\\\\n",
    "0 & 0 & 1 & 0 \\\\\n",
    "0 & 0 & 0 & 1\n",
    "\\end{bmatrix}\n",
    "$$"
   ]
  },
  {
   "cell_type": "markdown",
   "metadata": {},
   "source": [
    "partición de las muestras en clases\n",
    "\n",
    "$$\n",
    "\\hat{Y} = \\left\\{ \\{1, 2, 3, 4\\}, \\{5, 6, 7\\}, \\{8, 9\\}, \\{10\\} \\right\\}\n",
    "$$\n",
    "\n",
    "\\begin{align*}\n",
    "\\hat{Y}_1 &= \\{1, 2, 3, 4\\} \\\\\n",
    "\\hat{Y}_2 &= \\{5, 6, 7\\} \\\\\n",
    "\\hat{Y}_3 &= \\{8, 9\\} \\\\\n",
    "\\hat{Y}_4 &= \\{10\\} \n",
    "\\end{align*}"
   ]
  },
  {
   "cell_type": "markdown",
   "metadata": {},
   "source": [
    "# Matriz de Confusion"
   ]
  },
  {
   "cell_type": "markdown",
   "metadata": {},
   "source": [
    "M clases  \n",
    "\n",
    "N patrones\n",
    "\n",
    "An instance is one observation or sample from a dataset, which typically contains features or attributes and can belong to a certain class in supervised learning.\n",
    "\n",
    "A pattern typically refers to the combination of features or attributes that define an instance. In pattern recognition, a pattern is a set of features that is recognized as belonging to a specific class or category."
   ]
  },
  {
   "cell_type": "markdown",
   "metadata": {},
   "source": [
    "Precisión\n",
    "\n",
    "|   | Predicted | $\\hat{y_1}$ | ... | $\\hat{y_m}$ |\n",
    "|------------------|-----------------|-----------------|-----|-----------------|\n",
    "| True        |                 |                |    |                 |\n",
    "| $Y_1$        |                 |               |    |                 |\n",
    "| ...        |                 |                |    |                 |\n",
    "| $Y_m$        |                 |                |    |                 |\n"
   ]
  },
  {
   "cell_type": "markdown",
   "metadata": {},
   "source": [
    "$$\n",
    "\\text{mc} = \n",
    "\\begin{bmatrix}\n",
    "|Y = 1, \\hat{Y} = 1|   & &  |Y = 1, \\hat{Y} = 2|   & &  \\dots & &  |Y = 1, \\hat{Y} = m|   \\\\\n",
    "|Y = 2, \\hat{Y} = 1|   & &  |Y = 2, \\hat{Y} = 2|   & &  \\dots & &  |Y = 2, \\hat{Y} = m|   \\\\\n",
    "|Y = 3, \\hat{Y} = 1|   & &  |Y = 3, \\hat{Y} = 2|   & &  \\dots & &  |Y = 3, \\hat{Y} = m|   \\\\\n",
    "\\vdots                 & &  \\vdots                 & &  \\ddots& &  \\vdots                 \\\\\n",
    "|Y = m, \\hat{Y} = 1|   & &  |Y = m, \\hat{Y} = 2|   & &  \\dots & &  |Y = m, \\hat{Y} = m|   \\\\\n",
    "\\end{bmatrix}\n",
    "$$"
   ]
  },
  {
   "cell_type": "markdown",
   "metadata": {},
   "source": [
    "$$Y = (1, 2, 2, 3, 3, 3, 4, 4, 4, 4)$$\n",
    "$$\\hat{Y} = (1, 1, 1, 1, 2, 2, 2, 3, 3, 4)$$"
   ]
  },
  {
   "cell_type": "markdown",
   "metadata": {},
   "source": [
    "$$\n",
    "\\text{mc} = \n",
    "\\begin{bmatrix}\n",
    "1 & 0 & 0 & 0 \\\\\n",
    "2 & 0 & 0 & 0 \\\\\n",
    "1 & 2 & 0 & 0 \\\\\n",
    "0 & 1 & 2 & 1\n",
    "\\end{bmatrix}\n",
    "$$"
   ]
  },
  {
   "cell_type": "code",
   "execution_count": 1,
   "metadata": {},
   "outputs": [
    {
     "name": "stdout",
     "output_type": "stream",
     "text": [
      "[[1 0 0 0]\n",
      " [2 0 0 0]\n",
      " [1 2 0 0]\n",
      " [0 1 2 1]]\n"
     ]
    },
    {
     "data": {
      "image/png": "[encoded data removed]",
      "text/plain": [
       "<Figure size 400x400 with 1 Axes>"
      ]
     },
     "metadata": {},
     "output_type": "display_data"
    }
   ],
   "source": [
    "from sklearn.metrics import confusion_matrix, ConfusionMatrixDisplay\n",
    "import matplotlib.pyplot as plt\n",
    "\n",
    "# True labels\n",
    "y_true = [1, 2, 2, 3, 3, 3, 4, 4, 4, 4]\n",
    "\n",
    "# Predicted labels\n",
    "y_pred = [1, 1, 1, 1, 2, 2, 2, 3, 3, 4]\n",
    "\n",
    "# Compute confusion matrix\n",
    "cm = confusion_matrix(y_true, y_pred)\n",
    "\n",
    "print(cm)\n",
    "\n",
    "# Display the confusion matrix\n",
    "fig, ax = plt.subplots(figsize=(4, 4))\n",
    "disp = ConfusionMatrixDisplay(confusion_matrix=cm, display_labels=[1, 2, 3, 4])\n",
    "disp.plot(cmap=\"OrRd\", ax=ax, colorbar=False)\n",
    "plt.show()"
   ]
  },
  {
   "cell_type": "markdown",
   "metadata": {},
   "source": [
    "## Metricas"
   ]
  },
  {
   "cell_type": "markdown",
   "metadata": {},
   "source": [
    "Matriz de Confusión con Totales\n",
    "\n",
    "$$\n",
    "\\text{mc} = \n",
    "\\begin{bmatrix}\n",
    "1 & 0 & 0 & 0 & | & 1 \\\\\n",
    "2 & 0 & 0 & 0 & | & 2 \\\\\n",
    "1 & 2 & 0 & 0 & | & 3 \\\\\n",
    "0 & 1 & 2 & 1 & | & 4 \\\\\n",
    "\\hline\n",
    "4 & 3 & 2 & 1 & | & 10\n",
    "\\end{bmatrix}\n",
    "$$\n"
   ]
  },
  {
   "cell_type": "markdown",
   "metadata": {},
   "source": [
    "$$\n",
    "\\text{mc} = \n",
    "\\begin{bmatrix}\n",
    "|Y = 1, \\hat{Y} = 1|   & &  |Y = 1, \\hat{Y} = 2|   & &  \\dots & &  |Y = 1, \\hat{Y} = m|  & | & p_1 \\\\\n",
    "|Y = 2, \\hat{Y} = 1|   & &  |Y = 2, \\hat{Y} = 2|   & &  \\dots & &  |Y = 2, \\hat{Y} = m|  & | & p_2 \\\\\n",
    "|Y = 3, \\hat{Y} = 1|   & &  |Y = 3, \\hat{Y} = 2|   & &  \\dots & &  |Y = 3, \\hat{Y} = m|  & | & p_3 \\\\\n",
    "\\vdots                 & &  \\vdots                 & &  \\ddots& &  \\vdots                 \\\\\n",
    "|Y = m, \\hat{Y} = 1|   & &  |Y = m, \\hat{Y} = 2|   & &  \\dots & &  |Y = m, \\hat{Y} = m|  & | & p_m \\\\\n",
    "\\hline\n",
    "s_1   & &  s_2   & &  \\dots & &  s_m  & | & n &    \\\\\n",
    "\\end{bmatrix}\n",
    "$$"
   ]
  },
  {
   "cell_type": "markdown",
   "metadata": {},
   "source": [
    "$$\n",
    "s_i = \\sum_{j=1}^m | Y = j, \\hat{Y} = i |, \\quad i \\in \\{1, 2, \\dots, m\\}\\\\\n",
    "p_i = \\sum_{j=1}^m | Y = i, \\hat{Y} = j |, \\quad i \\in \\{1, 2, \\dots, m\\}\n",
    "$$\n"
   ]
  },
  {
   "cell_type": "markdown",
   "metadata": {},
   "source": [
    "\n",
    "$$\n",
    "\\text{Accuracy} = \\frac{\\sum_{i=1}^m \\left| Y = i, \\hat{Y} = i \\right|}{n}\n",
    "$$\n",
    "\n",
    "$$\n",
    "\\text{Precision}_i = \\frac{|Y = i, \\hat{Y} = i|}{p_i} = \\frac{\\text{True Positives for class } i}{\\text{Total predicted as class } i}\n",
    "$$\n",
    "\n",
    "\n",
    "$$\n",
    "\\text{Sensibility}_i = \\frac{|Y = i, \\hat{Y} = i|}{s_i} = \\frac{\\text{True Positives for class } i}{\\text{Total actual instances of class } i}\n",
    "$$\n",
    "\n",
    "$$\n",
    "\\text{F1}_i = 2 \\cdot \\frac{\\text{Precision}_i \\cdot \\text{Recall}_i}{\\text{Precision}_i + \\text{Recall}_i}\n",
    "$$\n",
    "\n",
    "\n",
    "$$\n",
    "\\text{Macro-Precision} = \\frac{1}{m} \\sum_{i=1}^m \\text{Precision}_i\n",
    "$$\n",
    "\n",
    "$$\n",
    "\\text{Macro-Recall} = \\frac{1}{m} \\sum_{i=1}^m \\text{Recall}_i\n",
    "$$\n",
    "\n",
    "$$\n",
    "\\text{Macro-F1} = \\frac{1}{m} \\sum_{i=1}^m \\text{F1}_i\n",
    "$$\n",
    "\n",
    "\n",
    "$$\n",
    "\\text{Micro-Precision} = \\frac{\\sum_{i=1}^m \\text{True Positives}_i}{\\sum_{i=1}^m \\left(\\text{True Positives}_i + \\text{False Positives}_i\\right)}\n",
    "$$\n",
    "\n",
    "$$\n",
    "\\text{Micro-Recall} = \\frac{\\sum_{i=1}^m \\text{True Positives}_i}{\\sum_{i=1}^m \\left(\\text{True Positives}_i + \\text{False Negatives}_i\\right)}\n",
    "$$\n",
    "\n",
    "$$\n",
    "\\text{Micro-F1} = 2 \\cdot \\frac{\\text{Micro-Precision} \\cdot \\text{Micro-Recall}}{\\text{Micro-Precision} + \\text{Micro-Recall}}\n",
    "$$\n"
   ]
  },
  {
   "cell_type": "markdown",
   "metadata": {},
   "source": [
    "> The **error probability of the false positive**, known as a **type I error**, is denoted by $\\alpha$ (in which case the probability of the true positive is $1-\\alpha$).\n",
    "\n",
    "> The **error probability of a false negative**, known as a **type II error**, is denoted by $\\beta$ (and the probability of a true negative is $1-\\beta$).\n",
    "\n",
    "<table border=\"1\" style=\"border-collapse: collapse; text-align: center;\">\n",
    "   <caption style=\"font-weight: bold; margin-bottom: 10px;\"> <b>Confusion Matrix for the two-class problem.</b></caption>\n",
    "  <tr>\n",
    "    <th rowspan=\"2\">True Class</th>\n",
    "    <th colspan=\"2\">Predicted Class</th>\n",
    "    <th rowspan=\"2\">Total</th>\n",
    "  </tr>\n",
    "  <tr>\n",
    "    <th>Positive</th>\n",
    "    <th>Negative</th>\n",
    "  </tr>\n",
    "  <tr>\n",
    "    <td><b>Positive</b></td>\n",
    "    <td>tp : true positive</td>\n",
    "    <td>fn : false negative</td>\n",
    "    <td>p</td>\n",
    "  </tr>\n",
    "  <tr>\n",
    "    <td><b>Negative</b></td>\n",
    "    <td>fp : false positive</td>\n",
    "    <td>tn : true negative</td>\n",
    "    <td>n</td>\n",
    "  </tr>\n",
    "  <tr>\n",
    "    <td><b>Total</b></td>\n",
    "    <td>p'</td>\n",
    "    <td>n'</td>\n",
    "    <td>N</td>\n",
    "  </tr>\n",
    "</table>\n",
    "**Main performance measures**\n",
    "\n",
    "> **Total Error**\n",
    "$$e = \\frac{fp+fn}{N}=\\alpha + \\beta$$\n",
    "\n",
    "> **Accuracy** (*exactitud*), measures the proportion of correct predictions in relation to the total number of elements.\n",
    "$$\\frac{tp+tn}{N} = 1- e$$\n",
    "\n",
    "> **False alarm rate** (**false positive fraction**) $fp$-rate is the proportion of impostors we wrongly accept.\n",
    "$$\\frac{fp}{n}=\\alpha$$\n",
    "\n",
    "> **True positive rate**, **recall** or **sensitivity** $tp$-rate, measures what proportion of valid users (positive pattern) we authenticate. Intuitively, it is the ability of the classifier to find all the positive samples.\n",
    "$$ \\frac{tp}{p}=1-\\alpha$$\n",
    "\n",
    "> **Precision** measures the proportion of records classified as positive that actually are. Intuitively, precision is the ability to the classifier not to label as positive a sample that is negative.\n",
    "$$\\frac{tp}{p'}$$\n",
    "\n",
    "> **Specificity** is how well we detect the negatives.\n",
    "$$\\frac{tn}{n} = 1 - fp\\text{-rate}$$\n"
   ]
  },
  {
   "cell_type": "markdown",
   "metadata": {},
   "source": [
    "## Comparación de Modelos"
   ]
  },
  {
   "cell_type": "markdown",
   "metadata": {},
   "source": [
    "> **Set of sets representation**: As a set of sets, a set of classes consisting of the indices of the patterns within the class:\n",
    "$$y = \\left\\{\\begin{matrix} y_1 = \\{i \\ \\mid \\ x_i\\in C_1, \\ i=1,\\ldots, N\\}\\\\\n",
    "y_2 = \\{i \\ \\mid\\ x_i\\in C_2, \\ i=1,\\ldots, N\\}\\\\\n",
    "\\vdots\\\\\n",
    "y_M = \\{i \\ \\mid\\ x_i\\in C_M, \\ i=1,\\ldots, N\\}\\\\\n",
    "\\end{matrix}\\right\\}$$"
   ]
  },
  {
   "cell_type": "markdown",
   "metadata": {},
   "source": [
    "> **Vector representation**: As a vector of length $n$ where each element $i$ contains the label class $l$ to which it belongs.\n",
    "$$ y =[y_1, \\  y_2, \\  \\ldots, \\  y_N ], \\qquad \\text{where} \\ \\  y_i = l \\ | \\ x_i \\in C_l $$"
   ]
  },
  {
   "cell_type": "markdown",
   "metadata": {},
   "source": [
    "> **Matrix representation** As a binary matrix of $M \\times N$, where each cell $i,l$ is equal to 1 if $x_i \\in C_l$, and 0 otherwise.\n",
    "$$ y = [ y_{l, i} ], \\qquad y_{l,i} = \\begin{cases} 1 & \\text{if}  \\quad x_i\\in C_l\\\\\n",
    "0 & \\text{if} \\quad x_i \\not\\in C_l \\end{cases}, \\qquad l=1,\\ldots, M, \\ i=1,\\ldots, N$$"
   ]
  },
  {
   "cell_type": "markdown",
   "metadata": {},
   "source": [
    "Now, consider the following mappings:\n",
    "\n",
    "$$P(A, B) := \\frac{|A\\cap B|}{|B|}$$\n",
    "\n",
    "$$R(A, B) := \\frac{|A\\cap B|}{|A|}$$\n",
    "\n",
    "where $A$ and $B$ are sets."
   ]
  },
  {
   "cell_type": "markdown",
   "metadata": {},
   "source": [
    "Denote by $P(l)$, $l=1,\\ldots,M$ and $P'(l'), \\ l'=1,\\ldots, M$ the random variables associated with the classification $y$ and $y'$ (set of sets representation). That is, $P(l)$ is the probability of a pattern belonging to class $C_l$ in classification $y$.\n",
    "\n",
    "Let $P(l, l')$ represent the probability that a point belongs to $C_l$ in classification $y$ and to $C_{l'}$ in $y_l$, namely the joint distribution of random variables associated with the two classifications:\n",
    "$$P(l, l') = P(l \\cap l') = \\frac{|y_l \\cap y_{l'}|}{N}$$"
   ]
  },
  {
   "cell_type": "markdown",
   "metadata": {},
   "source": [
    "Now suppose that a sender wishes to transmit the value of a random variable to\n",
    "a receiver. The **average amount of information** that they transmit in the process is obtained by taking the expectation of $h(x)$ with respect to the distribution $p(x)$ and is given by\n",
    "$$H(x) = -*\\sum_x p(x) \\log_2 p(x)* = \\sum_x p(x) \\log_2 \\frac{1}{p(x)} $$"
   ]
  },
  {
   "cell_type": "markdown",
   "metadata": {},
   "source": [
    "$$\n",
    "P(Y, \\hat{Y} ) = \n",
    "\\frac{1}{n}\n",
    "\n",
    "\\begin{bmatrix}\n",
    "|Y = 1, \\hat{Y} = 1|   & &  |Y = 1, \\hat{Y} = 2|   & &  \\dots & &  |Y = 1, \\hat{Y} = m|   \\\\\n",
    "|Y = 2, \\hat{Y} = 1|   & &  |Y = 2, \\hat{Y} = 2|   & &  \\dots & &  |Y = 2, \\hat{Y} = m|   \\\\\n",
    "|Y = 3, \\hat{Y} = 1|   & &  |Y = 3, \\hat{Y} = 2|   & &  \\dots & &  |Y = 3, \\hat{Y} = m|   \\\\\n",
    "\\vdots                 & &  \\vdots                 & &  \\ddots& &  \\vdots                 \\\\\n",
    "|Y = m, \\hat{Y} = 1|   & &  |Y = m, \\hat{Y} = 2|   & &  \\dots & &  |Y = m, \\hat{Y} = m|   \\\\\n",
    "\\end{bmatrix}\n",
    "$$"
   ]
  },
  {
   "cell_type": "markdown",
   "metadata": {},
   "source": [
    "$$\n",
    "p(l, l') = \n",
    "\\begin{bmatrix}\n",
    ".1 & 0 & 0 & 0 \\\\\n",
    ".2 & 0 & 0 & 0 \\\\\n",
    ".1 & .2 & 0 & 0 \\\\\n",
    "0 & .1 & .2 & .1\n",
    "\\end{bmatrix}\n",
    "$$"
   ]
  },
  {
   "cell_type": "markdown",
   "metadata": {},
   "source": [
    "Cuando una columna es siempre igual, la informacion mutua es 0. Cuando cambian igual (o completamente diferente) es algo cerca de 0.5"
   ]
  },
  {
   "cell_type": "markdown",
   "metadata": {},
   "source": []
  }
 ],
 "metadata": {
  "kernelspec": {
   "display_name": "Python 3",
   "language": "python",
   "name": "python3"
  },
  "language_info": {
   "codemirror_mode": {
    "name": "ipython",
    "version": 3
   },
   "file_extension": ".py",
   "mimetype": "text/x-python",
   "name": "python",
   "nbconvert_exporter": "python",
   "pygments_lexer": "ipython3",
   "version": "3.12.1"
  }
 },
 "nbformat": 4,
 "nbformat_minor": 2
}
