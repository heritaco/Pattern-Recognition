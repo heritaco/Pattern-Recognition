{
 "cells": [
  {
   "cell_type": "markdown",
   "metadata": {},
   "source": [
    "Suppose a classification problem with $N$ patterns and $M$ classes, where the patterns are labeled with the variable $i=1,\\ldots,N$ and the classes with $l=1,...,M$."
   ]
  },
  {
   "cell_type": "markdown",
   "metadata": {},
   "source": [
    "# **Representaciones**"
   ]
  },
  {
   "cell_type": "markdown",
   "metadata": {},
   "source": [
    "**Matrix representation** As a binary matrix of $M \\times N$, where each cell $i,l$ is equal to 1 if $x_i \\in C_l$, and 0 otherwise.\n",
    "$$ y = [ y_{l, i} ], \\qquad y_{l,i} = \\begin{cases} 1 & \\text{if}  \\quad x_i\\in C_l\\\\\n",
    "0 & \\text{if} \\quad x_i \\not\\in C_l \\end{cases}, \\qquad l=1,\\ldots, M, \\ i=1,\\ldots, N$$"
   ]
  },
  {
   "cell_type": "markdown",
   "metadata": {},
   "source": [
    "**Set of sets representation**: As a set of sets, a set of classes consisting of the indices of the patterns within the class:\n",
    "$$y = \\left\\{\\begin{matrix} y_1 = \\{i \\ \\mid \\ x_i\\in C_1, \\ i=1,\\ldots, N\\}\\\\\n",
    "y_2 = \\{i \\ \\mid\\ x_i\\in C_2, \\ i=1,\\ldots, N\\}\\\\\n",
    "\\vdots\\\\\n",
    "y_M = \\{i \\ \\mid\\ x_i\\in C_M, \\ i=1,\\ldots, N\\}\\\\\n",
    "\\end{matrix}\\right\\}$$"
   ]
  },
  {
   "cell_type": "markdown",
   "metadata": {},
   "source": [
    "**Vector representation**: As a vector of length $n$ where each element $i$ contains the label class $l$ to which it belongs.\n",
    "$$ y =[y_1, \\  y_2, \\  \\ldots, \\  y_N ], \\qquad \\text{where} \\ \\  y_i = l \\ | \\ x_i \\in C_l $$"
   ]
  },
  {
   "cell_type": "markdown",
   "metadata": {},
   "source": [
    "## **Ejemplo**"
   ]
  },
  {
   "cell_type": "markdown",
   "metadata": {},
   "source": [
    "Vector de etiquetas correctas\n",
    "\n",
    "$$Y = (1, 2, 2, 3, 3, 3, 4, 4, 4, 4)$$"
   ]
  },
  {
   "cell_type": "markdown",
   "metadata": {},
   "source": [
    "Matriz de pertenencia a clases\n",
    "\n",
    "$$\n",
    "Y =\n",
    "\\begin{bmatrix}\n",
    "1 & 0 & 0 & 0 \\\\\n",
    "0 & 1 & 0 & 0 \\\\\n",
    "0 & 1 & 0 & 0 \\\\\n",
    "0 & 0 & 1 & 0 \\\\\n",
    "0 & 0 & 1 & 0 \\\\\n",
    "0 & 0 & 1 & 0 \\\\\n",
    "0 & 0 & 0 & 1 \\\\\n",
    "0 & 0 & 0 & 1 \\\\\n",
    "0 & 0 & 0 & 1 \\\\\n",
    "0 & 0 & 0 & 1\n",
    "\\end{bmatrix}\n",
    "$$"
   ]
  },
  {
   "cell_type": "markdown",
   "metadata": {},
   "source": [
    "Partición de las muestras en clases\n",
    "\n",
    "$$\n",
    "Y = \\left\\{ \\{1\\}, \\{2, 3\\}, \\{4, 5, 6\\}, \\{7, 8, 9, 10\\} \\right\\}\n",
    "$$\n"
   ]
  },
  {
   "cell_type": "markdown",
   "metadata": {},
   "source": [
    "### *Predicciones*"
   ]
  },
  {
   "cell_type": "markdown",
   "metadata": {},
   "source": [
    "Vector de predicciones\n",
    "\n",
    "$$\\hat{Y} = (1, 1, 1, 1, 2, 2, 2, 3, 3, 4)$$"
   ]
  },
  {
   "cell_type": "markdown",
   "metadata": {},
   "source": [
    "Matriz de pertenencia a clases\n",
    "\n",
    "$$\n",
    "\\hat{Y} =\n",
    "\\begin{bmatrix}\n",
    "1 & 0 & 0 & 0 \\\\\n",
    "1 & 0 & 0 & 0 \\\\\n",
    "1 & 0 & 0 & 0 \\\\\n",
    "1 & 0 & 0 & 0 \\\\\n",
    "0 & 1 & 0 & 0 \\\\\n",
    "0 & 1 & 0 & 0 \\\\\n",
    "0 & 1 & 0 & 0 \\\\\n",
    "0 & 0 & 1 & 0 \\\\\n",
    "0 & 0 & 1 & 0 \\\\\n",
    "0 & 0 & 0 & 1\n",
    "\\end{bmatrix}\n",
    "$$"
   ]
  },
  {
   "cell_type": "markdown",
   "metadata": {},
   "source": [
    "Partición de las muestras en clases\n",
    "\n",
    "$$\n",
    "\\hat{Y} = \\left\\{ \\{1, 2, 3, 4\\}, \\{5, 6, 7\\}, \\{8, 9\\}, \\{10\\} \\right\\}\n",
    "$$\n",
    "\n",
    "\\begin{align*}\n",
    "\\hat{Y}_1 &= \\{1, 2, 3, 4\\} \\\\\n",
    "\\hat{Y}_2 &= \\{5, 6, 7\\} \\\\\n",
    "\\hat{Y}_3 &= \\{8, 9\\} \\\\\n",
    "\\hat{Y}_4 &= \\{10\\} \n",
    "\\end{align*}"
   ]
  },
  {
   "cell_type": "markdown",
   "metadata": {},
   "source": [
    "# **Matriz de Confusion**"
   ]
  },
  {
   "cell_type": "markdown",
   "metadata": {},
   "source": [
    "Precisión\n",
    "\n",
    "|             | Predicted       | $\\hat{y_1}$    | ...| $\\hat{y_m}$     | Total |\n",
    "|-------------|-----------------|----------------|----|-----------------|-------|\n",
    "| True        |                 |                |    |                 |       |\n",
    "| $Y_1$       |                 |                |    |                 | $s_1$ |\n",
    "| ...         |                 |                |    |                 |       |\n",
    "| $Y_m$       |                 |                |    |                 | $s_m$ |\n",
    "| Total       |                 |     $p_1$      |... |      $p_m$      |       |"
   ]
  },
  {
   "cell_type": "markdown",
   "metadata": {},
   "source": [
    "$$\n",
    "p_i = \\sum_{j=1}^m | Y = i, \\hat{Y} = j |, \\quad i \\in \\{1, 2, \\dots, m\\} \\\\\n",
    "$$\n",
    "\n",
    "$$\n",
    "\\text{$p_i$ es el número de patrones que Predecimos en la clase $i$ }\n",
    "$$\n"
   ]
  },
  {
   "cell_type": "markdown",
   "metadata": {},
   "source": [
    "$$\n",
    "s_i =  \\sum_{j=1}^m | Y = j, \\hat{Y} = i |, \\quad i \\in \\{1, 2, \\dots, m\\}\\\\\n",
    "$$\n",
    "\n",
    "$$\n",
    "\\text{$s_i$ es el número de patrones que Sí son de la clase $i$ }\n",
    "$$\n",
    "\n",
    "\n"
   ]
  },
  {
   "cell_type": "markdown",
   "metadata": {},
   "source": [
    "$$\n",
    "M_c = \n",
    "\\begin{bmatrix}\n",
    "|Y = 1, \\hat{Y} = 1|   & &  |Y = 1, \\hat{Y} = 2|   & &  \\dots & &  |Y = 1, \\hat{Y} = m|   \\\\\n",
    "|Y = 2, \\hat{Y} = 1|   & &  |Y = 2, \\hat{Y} = 2|   & &  \\dots & &  |Y = 2, \\hat{Y} = m|   \\\\\n",
    "|Y = 3, \\hat{Y} = 1|   & &  |Y = 3, \\hat{Y} = 2|   & &  \\dots & &  |Y = 3, \\hat{Y} = m|   \\\\\n",
    "\\vdots                 & &  \\vdots                 & &  \\ddots& &  \\vdots                 \\\\\n",
    "|Y = m, \\hat{Y} = 1|   & &  |Y = m, \\hat{Y} = 2|   & &  \\dots & &  |Y = m, \\hat{Y} = m|   \\\\\n",
    "\\end{bmatrix}\n",
    "$$"
   ]
  },
  {
   "cell_type": "markdown",
   "metadata": {},
   "source": [
    "#### Ejemplo"
   ]
  },
  {
   "cell_type": "markdown",
   "metadata": {},
   "source": [
    "$$Y = (1, 2, 2, 3, 3, 3, 4, 4, 4, 4)$$\n",
    "$$\\hat{Y} = (1, 1, 1, 1, 2, 2, 2, 3, 3, 4)$$"
   ]
  },
  {
   "cell_type": "markdown",
   "metadata": {},
   "source": [
    "$$\n",
    "M_c = \n",
    "\\begin{bmatrix}\n",
    "1 & 0 & 0 & 0 \\\\\n",
    "2 & 0 & 0 & 0 \\\\\n",
    "1 & 2 & 0 & 0 \\\\\n",
    "0 & 1 & 2 & 1\n",
    "\\end{bmatrix}\n",
    "$$"
   ]
  },
  {
   "cell_type": "markdown",
   "metadata": {},
   "source": [
    "$$\n",
    "M_c = \n",
    "\\begin{bmatrix}\n",
    "\\text{Que sean 1 y los clasifiquemos como 1} & \\text{que sean 1 y lo clasifiquemos como 2} & \\dots \\\\\n",
    "\\text{Que sean 2 y los clasifiquemos como 1} & \\text{que sean 2 y lo clasifiquemos como 2} & \\dots \\\\\n",
    "\\text{Que sean 3 y los clasifiquemos como 1} & \\text{que sean 3 y lo clasifiquemos como 2} & \\dots \\\\\n",
    "\\vdots & \\vdots & \\ddots\n",
    "\\end{bmatrix}\n",
    "$$"
   ]
  },
  {
   "cell_type": "markdown",
   "metadata": {},
   "source": [
    "## Metricas"
   ]
  },
  {
   "cell_type": "markdown",
   "metadata": {},
   "source": [
    "$$\n",
    "M_{cT}  = \n",
    "\\begin{bmatrix}\n",
    "|Y = 1, \\hat{Y} = 1|   & &  |Y = 1, \\hat{Y} = 2|   & &  \\dots & &  |Y = 1, \\hat{Y} = m|  & | & s_1 \\\\\n",
    "|Y = 2, \\hat{Y} = 1|   & &  |Y = 2, \\hat{Y} = 2|   & &  \\dots & &  |Y = 2, \\hat{Y} = m|  & | & s_2 \\\\\n",
    "|Y = 3, \\hat{Y} = 1|   & &  |Y = 3, \\hat{Y} = 2|   & &  \\dots & &  |Y = 3, \\hat{Y} = m|  & | & s_3 \\\\\n",
    "\\vdots                 & &  \\vdots                 & &  \\ddots& &  \\vdots                 \\\\\n",
    "|Y = m, \\hat{Y} = 1|   & &  |Y = m, \\hat{Y} = 2|   & &  \\dots & &  |Y = m, \\hat{Y} = m|  & | & s_m \\\\\n",
    "\\hline\n",
    "p_1   & &  p_2   & &  \\dots & &  p_m  & | & N &    \\\\\n",
    "\\end{bmatrix}\n",
    "$$"
   ]
  },
  {
   "cell_type": "markdown",
   "metadata": {},
   "source": [
    "$$\n",
    "M_{cT}  = \n",
    "\\begin{bmatrix}\n",
    "A(1, 1)   &  \\dots   &  \\dots   &  | \\text{sí son de } C_1 \\\\\n",
    "\\dots   &  A(2, 2)    &  \\dots   &    | \\text{sí son de } C_2 \\\\\n",
    "\\vdots  & \\vdots  & \\vdots  & \\vdots  & \\\\\n",
    "\\dots   &  \\dots   &  A(M, M)    &   | \\text{sí son de } C_M \\\\\n",
    "\\hline\n",
    "\\text{predijimos } C_1 & \\text{predijimos } C_2 & \\dots \\text{ predijimos } C_M  & | \\text{ Total--------------}\n",
    "\n",
    "\\end{bmatrix}\n",
    "$$"
   ]
  },
  {
   "cell_type": "markdown",
   "metadata": {},
   "source": [
    "$$\n",
    "s_i =  \\sum_{j=1}^m | Y = j, \\hat{Y} = i |, \\quad i \\in \\{1, 2, \\dots, m\\}\\\\\n",
    "$$\n",
    "\n",
    "$$\n",
    "\\text{$s_i$ es el número de patrones que Sí son de la clase $i$, es la suma de las filas}\n",
    "$$\n",
    "\n",
    "\n"
   ]
  },
  {
   "cell_type": "markdown",
   "metadata": {},
   "source": [
    "$$\n",
    "p_i = \\sum_{j=1}^m | Y = i, \\hat{Y} = j |, \\quad i \\in \\{1, 2, \\dots, m\\} \\\\\n",
    "$$\n",
    "\n",
    "$$\n",
    "\\text{$p_i$ es el número de patrones que Predecimos en la clase $i$, es la suma de las columnas }\n",
    "$$\n"
   ]
  },
  {
   "cell_type": "markdown",
   "metadata": {},
   "source": [
    "$$\n",
    "\\text{Accuracy} = \\frac{\\sum_{i=1}^m \\left| Y = i, \\hat{Y} = i \\right|}{N} \n",
    "$$"
   ]
  },
  {
   "cell_type": "markdown",
   "metadata": {},
   "source": [
    "$$ \\text{Balanced Accuracy} = \\frac{1}{M} \\sum_{i=1}^{M} \\frac{|Y = i, \\hat{Y} = i|}{s_i} $$"
   ]
  },
  {
   "cell_type": "markdown",
   "metadata": {},
   "source": [
    "$$\n",
    "\\begin{aligned}\n",
    "\\text{Precision}_i &= \\frac{|Y = i, \\hat{Y} = i|}{p_i} \\\\\n",
    "\\text{Sensibility}_i &= \\frac{|Y = i, \\hat{Y} = i|}{s_i} \\\\\n",
    "\\text{F1}_i &= 2 \\frac{P_i S_i}{P_i + S_i} \\\\\n",
    "F\\beta_i &= (1+\\beta^2) \\frac{P_i S_i}{\\beta^2 P_i + S_i}\n",
    "\\end{aligned}\n",
    "$$"
   ]
  },
  {
   "cell_type": "markdown",
   "metadata": {},
   "source": [
    "Sensitibity is also Recall"
   ]
  },
  {
   "cell_type": "markdown",
   "metadata": {},
   "source": [
    "$$\n",
    "\\begin{aligned}\n",
    "\\text{Macro-Precision} &= \\frac{1}{m} \\sum_{i=1}^m \\text{Precision}_i \\\\\n",
    "\\text{Macro-Recall} &= \\frac{1}{m} \\sum_{i=1}^m \\text{Recall}_i \\\\\n",
    "\\text{Macro-F1} &= \\frac{1}{m} \\sum_{i=1}^m \\text{F1}_i \\\\\n",
    "\\end{aligned}\n",
    "$$"
   ]
  },
  {
   "cell_type": "markdown",
   "metadata": {},
   "source": [
    "$$\n",
    "\\begin{aligned}\n",
    "\\text{Micro-Precision} &= \\frac{\\sum_{i=1}^m \\text{True Positives}_i}{\\sum_{i=1}^m \\left(\\text{True Positives}_i + \\text{False Positives}_i\\right)} \\\\\n",
    "\\text{Micro-Recall} &= \\frac{\\sum_{i=1}^m \\text{True Positives}_i}{\\sum_{i=1}^m \\left(\\text{True Positives}_i + \\text{False Negatives}_i\\right)} \\\\\n",
    "\\text{Micro-F1} &= 2 \\cdot \\frac{\\text{Micro-Precision} \\cdot \\text{Micro-Recall}}{\\text{Micro-Precision} + \\text{Micro-Recall}}\n",
    "\\end{aligned}\n",
    "$$"
   ]
  },
  {
   "cell_type": "markdown",
   "metadata": {},
   "source": [
    "Matriz de Confusión con Totales\n",
    "\n",
    "$$\n",
    "M_{cT} = \n",
    "\\begin{bmatrix}\n",
    "1 & 0 & 0 & 0 & | & 1 \\\\\n",
    "2 & 0 & 0 & 0 & | & 2 \\\\\n",
    "1 & 2 & 0 & 0 & | & 3 \\\\\n",
    "0 & 1 & 2 & 1 & | & 4 \\\\\n",
    "\\hline\n",
    "4 & 3 & 2 & 1 & | & 10\n",
    "\\end{bmatrix}\n",
    "$$\n"
   ]
  },
  {
   "cell_type": "markdown",
   "metadata": {},
   "source": [
    "$$\n",
    "\\begin{align*}\n",
    "\\text{Accuracy} &= \\frac{1+0+0+1}{10} = 0.2 \\\\\n",
    "\\text{Balanced Accuracy} &= \\frac{1}{4} \\left( \\frac{1}{1} + \\frac{0}{2} + \\frac{0}{3} + \\frac{1}{4} \\right) = 0.3125 \\\\\n",
    "\\text{Precisión}_1 &= \\frac{1}{4} \\\\\n",
    "\\text{Sensibilidad}_1 &= 1 \\\\\n",
    "\\text{Precisión}_2 &= \\frac{0}{3} \\\\\n",
    "\\text{Sensibilidad}_2 &= \\frac{0}{2} \\\\\n",
    "\\text{Precisión}_3 &= \\frac{0}{2} \\\\\n",
    "\\text{Sensibilidad}_3 &= \\frac{0}{3} \\\\\n",
    "\\text{Precisión}_4 &= 1 \\\\\n",
    "\\text{Sensibilidad}_4 &= \\frac{1}{4}\n",
    "\\end{align*}\n",
    "$$"
   ]
  },
  {
   "cell_type": "markdown",
   "metadata": {},
   "source": [
    "### **Errores**"
   ]
  },
  {
   "cell_type": "markdown",
   "metadata": {},
   "source": [
    "> The **error probability of the false positive**, known as a **type I error**, is denoted by $\\alpha$ (in which case the probability of the true positive is $1-\\alpha$).\n",
    "\n",
    "> The **error probability of a false negative**, known as a **type II error**, is denoted by $\\beta$ (and the probability of a true negative is $1-\\beta$).\n",
    "\n",
    "<table border=\"1\" style=\"border-collapse: collapse; text-align: center;\">\n",
    "   <caption style=\"font-weight: bold; margin-bottom: 10px;\"> <b>Confusion Matrix for the two-class problem.</b></caption>\n",
    "  <tr>\n",
    "    <th rowspan=\"2\">True Class</th>\n",
    "    <th colspan=\"2\">Predicted Class</th>\n",
    "    <th rowspan=\"2\">Total</th>\n",
    "  </tr>\n",
    "  <tr>\n",
    "    <th>Positive</th>\n",
    "    <th>Negative</th>\n",
    "  </tr>\n",
    "  <tr>\n",
    "    <td><b>Positive</b></td>\n",
    "    <td>tp : true positive</td>\n",
    "    <td>fn : false negative</td>\n",
    "    <td>p</td>\n",
    "  </tr>\n",
    "  <tr>\n",
    "    <td><b>Negative</b></td>\n",
    "    <td>fp : false positive</td>\n",
    "    <td>tn : true negative</td>\n",
    "    <td>n</td>\n",
    "  </tr>\n",
    "  <tr>\n",
    "    <td><b>Total</b></td>\n",
    "    <td>p'</td>\n",
    "    <td>n'</td>\n",
    "    <td>N</td>\n",
    "  </tr>\n",
    "</table>\n",
    "**Main performance measures**\n",
    "\n",
    "> **Total Error**\n",
    "$$e = \\frac{fp+fn}{N}=\\alpha + \\beta$$\n",
    "\n",
    "> **Accuracy** (*exactitud*), measures the proportion of correct predictions in relation to the total number of elements.\n",
    "$$\\frac{tp+tn}{N} = 1- e$$\n",
    "\n",
    "> **False alarm rate** (**false positive fraction**) $fp$-rate is the proportion of impostors we wrongly accept.\n",
    "$$\\frac{fp}{n}=\\alpha$$\n",
    "\n",
    "> **True positive rate**, **recall** or **sensitivity** $tp$-rate, measures what proportion of valid users (positive pattern) we authenticate. Intuitively, it is the ability of the classifier to find all the positive samples.\n",
    "$$ \\frac{tp}{p}=1-\\alpha$$\n",
    "\n",
    "> **Precision** measures the proportion of records classified as positive that actually are. Intuitively, precision is the ability to the classifier not to label as positive a sample that is negative.\n",
    "$$\\frac{tp}{p'}$$\n",
    "\n",
    "> **Specificity** is how well we detect the negatives.\n",
    "$$\\frac{tn}{n} = 1 - fp\\text{-rate}$$\n"
   ]
  },
  {
   "cell_type": "markdown",
   "metadata": {},
   "source": [
    "# **Comparación de Modelos con teoría de la información**"
   ]
  },
  {
   "cell_type": "markdown",
   "metadata": {},
   "source": [
    "### **Joint Distribution**"
   ]
  },
  {
   "cell_type": "markdown",
   "metadata": {},
   "source": [
    "$$p(l, l') = P(l \\cap l') = \\frac{|y_l \\cap y_{l'}|}{N}$$"
   ]
  },
  {
   "cell_type": "markdown",
   "metadata": {},
   "source": [
    "$$\n",
    "p(Y, \\hat{Y} ) = \n",
    "\\frac{1}{N}\n",
    "M_c \n",
    "$$"
   ]
  },
  {
   "cell_type": "markdown",
   "metadata": {},
   "source": [
    "$$\n",
    "p(l, l') = \n",
    "\\begin{bmatrix}\n",
    ".1 & 0 & 0 & 0 \\\\\n",
    ".2 & 0 & 0 & 0 \\\\\n",
    ".1 & .2 & 0 & 0 \\\\\n",
    "0 & .1 & .2 & .1\n",
    "\\end{bmatrix}\n",
    "$$"
   ]
  },
  {
   "cell_type": "markdown",
   "metadata": {},
   "source": [
    "$$\n",
    "p(l, l') =\n",
    "\\begin{bmatrix}\n",
    ".1 & 0 & 0 & 0 & | & .1 \\\\\n",
    ".2 & 0 & 0 & 0 & | & .2 \\\\\n",
    ".1 & .2 & 0 & 0 & | & .3 \\\\\n",
    "0 & .1 & .2 & .1 & | & .4 \\\\\n",
    "\\hline\n",
    ".4 & .3 & .2 & .1 & | & 1\n",
    "\\end{bmatrix}\n",
    "$$\n"
   ]
  },
  {
   "cell_type": "markdown",
   "metadata": {},
   "source": [
    "### **Entropy**"
   ]
  },
  {
   "cell_type": "markdown",
   "metadata": {},
   "source": [
    "$$ \\Eta (X) = \\sum_{x \\in X} p(x) \\log_2 \\frac{1}{p(x)}= -\\sum_{x \\in X} p(x) \\log_2 p(x)$$\n",
    "\n",
    "Donde $p(x) := \\mathbb{P}[X = x]$"
   ]
  },
  {
   "cell_type": "markdown",
   "metadata": {},
   "source": [
    "$$ \\Eta (X) = \\sum_{i=1}^m \\mathbb{P}(X = i) \\log_2 \\frac{1}{\\mathbb{P}(X = i)}= -\\sum_{i=1}^m \\mathbb{P}(X = i) \\log_2 \\mathbb{P}(X = i)$$"
   ]
  },
  {
   "cell_type": "markdown",
   "metadata": {},
   "source": [
    "$$Y = (1, 2, 2, 3, 3, 3, 4, 4, 4, 4)$$\n",
    "\n",
    "$$\n",
    "\\Eta (Y) \n",
    "=\\frac{1}{10}\\log_2\\frac{10}{1} \n",
    "+\\frac{2}{10}\\log_2\\frac{10}{2} \n",
    "+\\frac{3}{10}\\log_2\\frac{10}{3} \n",
    "+\\frac{4}{10}\\log_2\\frac{10}{4} \n",
    "= 1.85 \\ \\text{bits}$$\n",
    "\n",
    "$$\n",
    "\\Eta (Y) \n",
    "=\n",
    "-\\frac{1}{10}\\log_2\\frac{1}{10} \n",
    "-\\frac{2}{10}\\log_2\\frac{2}{10} \n",
    "-\\frac{3}{10}\\log_2\\frac{3}{10} \n",
    "-\\frac{4}{10}\\log_2\\frac{4}{10} \n",
    "= 1.85 \\ \\text{bits}$$"
   ]
  },
  {
   "cell_type": "markdown",
   "metadata": {},
   "source": [
    "Cuando una columna es siempre igual, la informacion mutua es 0.  \n",
    "Cuando cambian igual (o completamente diferente) es algo cerca de 0.5"
   ]
  },
  {
   "cell_type": "markdown",
   "metadata": {},
   "source": [
    "### **Mutual Information**"
   ]
  },
  {
   "cell_type": "markdown",
   "metadata": {},
   "source": [
    "$$I(X, Y) = \\sum_{x \\in \\mathcal{X}, y \\in \\mathcal{y} }p(x,y) \\log_2 \\frac{p(x,y)}{p(x) p(y)}$$\n",
    "\n",
    "where $p_{X,Y}(x,y) := \\mathbb{P}[X = x, Y = y]$ and $p_{Y}(y) = \\mathbb{P}[Y = y]$. "
   ]
  },
  {
   "cell_type": "markdown",
   "metadata": {},
   "source": [
    "$$I(X, Y) = \\sum_{i=1}^{M} \\sum_{j=1}^{M} \\mathbb{P}(X = i,Y = j) \\log_2 \\frac{\\mathbb{P}(X = i,Y = j)}{\\mathbb{\\mathbb{P}}(X = i)\\mathbb{P}(Y = j)}$$ "
   ]
  },
  {
   "cell_type": "markdown",
   "metadata": {},
   "source": [
    "\\begin{align}\n",
    "I(X, Y) &= \\sum_{x \\in \\mathcal{X}, y \\in \\mathcal{y} }p(x,y) \\log_2 \\frac{p(x,y)}{p(x) p(y)}\n",
    "\\\\\n",
    "&=\n",
    "\\sum_{i=1}^{M} \\sum_{j=1}^{M} \n",
    "\\frac{|x_i \\cap y_j|}{N}\n",
    "\\log_2\n",
    "\\frac{\\frac{|x_i \\cap y_j|}{N}}\n",
    "{\\frac{|x_i|}{N} \\frac{|y_i|}{N}}\n",
    "\\\\\n",
    "&=\n",
    "\\sum_{i=1}^{M} \\sum_{j=1}^{M} \n",
    "\\frac{|x_i \\cap y_j|}{N}\n",
    "\\log_2\n",
    "N\\frac{|x_i \\cap y_j|}{|x_i||y_i|}\n",
    "\\end{align}"
   ]
  },
  {
   "cell_type": "markdown",
   "metadata": {},
   "source": [
    "$$I(X, Y) = \\Eta (Y) - \\Eta (Y|X) = \\Eta (X) - \\Eta (X|Y)$$"
   ]
  },
  {
   "cell_type": "markdown",
   "metadata": {},
   "source": [
    "### **Bayes' Theorem**"
   ]
  },
  {
   "cell_type": "markdown",
   "metadata": {},
   "source": [
    "$$\n",
    "P(A|B) = \\frac{P(A \\cap B)}{P(B)} = \\frac{P(A,B)}{P(B)} = \\frac{P(B|A) P(A)}{P(B)}\n",
    "$$\n"
   ]
  },
  {
   "cell_type": "markdown",
   "metadata": {},
   "source": [
    "### **Conditional Entropy**"
   ]
  },
  {
   "cell_type": "markdown",
   "metadata": {},
   "source": [
    "One may also define the conditional entropy of two variables $X$ and $Y$ taking values from sets $\\mathcal{X}$ and $\\mathcal{Y}$ respectively, as:\n",
    "\n",
    "$$\n",
    "\\mathrm{H}(X|Y) = -\\sum_{x,y \\in \\mathcal{X} \\times \\mathcal{Y}} p_{X,Y}(x,y) \\log \\frac{p_{X,Y}(x,y)}{p_{Y}(y)},\n",
    "$$\n",
    "\n",
    "where $p_{X,Y}(x,y) := \\mathbb{P}[X = x, Y = y]$ and $p_{Y}(y) = \\mathbb{P}[Y = y]$. This quantity should be understood as the remaining randomness in the random variable $X$ given the random variable $Y$."
   ]
  },
  {
   "cell_type": "markdown",
   "metadata": {},
   "source": [
    "\\begin{align}\n",
    "\\Eta (X|Y) \n",
    "&= -\\sum_{y} \\sum_X p(x,y) \\log_2 p(x| y) \\\\\n",
    "&= -\\sum_{y} \\sum_X p(x,y) \\log_2 \\frac{p(x,y) }{p(y)} \\\\\n",
    "&= -\\sum_{y} \\frac{|y_i \\cap x_j|}{N} \\log_2 \\frac{ \\frac{|y_i \\cap x_j|}{N} }{ \\frac{|y_i|}{N} } \\\\\n",
    "&= -\\sum_{i=1}^M\\sum_{j=1}^M \\frac{|y_i \\cap x_j|}{N} \\log_2\\left( \\frac{|y_i \\cap x_{j}|}{|y_i|} \\right)\n",
    "\\end{align}"
   ]
  },
  {
   "cell_type": "markdown",
   "metadata": {},
   "source": [
    "### **Variaton of Information**"
   ]
  },
  {
   "cell_type": "markdown",
   "metadata": {},
   "source": [
    "$$VI(y, y') = H(y) + H(y') -2I(y, y')$$\n",
    "\n",
    "This is the sum of two positive terms\n",
    "$$VI(y, y') = [H(y) -I(y,y')] + [H(y^{'})-I(y,y')] = H(y|y') + H(y'|y)$$"
   ]
  }
 ],
 "metadata": {
  "kernelspec": {
   "display_name": "Python 3",
   "language": "python",
   "name": "python3"
  },
  "language_info": {
   "codemirror_mode": {
    "name": "ipython",
    "version": 3
   },
   "file_extension": ".py",
   "mimetype": "text/x-python",
   "name": "python",
   "nbconvert_exporter": "python",
   "pygments_lexer": "ipython3",
   "version": "3.12.1"
  }
 },
 "nbformat": 4,
 "nbformat_minor": 2
}
