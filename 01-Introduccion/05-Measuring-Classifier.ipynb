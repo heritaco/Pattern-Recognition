{
  "cells": [
    {
      "cell_type": "markdown",
      "metadata": {
        "id": "A9ySdrZ8oS6i"
      },
      "source": [
        "# **MEASURING CLASSIFIER PERFORMANCE**"
      ]
    },
    {
      "cell_type": "markdown",
      "metadata": {
        "id": "WFoJ6vo4oGD-"
      },
      "source": [
        "## **For two-class problems**"
      ]
    },
    {
      "cell_type": "markdown",
      "metadata": {
        "id": "2qlmuN2Qo0DQ"
      },
      "source": [
        "Let us say we have a two-class problem: $\\omega_1$ (the *positives*) and $\\omega_2$ (the *negatives*).\n",
        "\n",
        "So, there are four cases:\n",
        "- For a positive example, if the prediction is also positive, that is a **true positive**.\n",
        "- If prediction is negative for a positive example, this is a **false negative**.\n",
        "- For a negative example, if the prediction is also negative, we have a **true negative**.\n",
        "- If we predict a negative example as positive, we have a **false positive**."
      ]
    },
    {
      "cell_type": "markdown",
      "metadata": {
        "id": "ft7RdmjLuVnQ"
      },
      "source": [
        "> The **error probability of the false positive**, known as a **type I error**, is denoted by $\\alpha$ (in which case the probability of the true positive is $1-\\alpha$).\n",
        "\n",
        "> The **error probability of a false negative**, known as a **type II error**, is denoted by $\\beta$ (and the probability of a true negative is $1-\\beta$)."
      ]
    },
    {
      "cell_type": "markdown",
      "metadata": {
        "id": "5KVdWtF1u6tr"
      },
      "source": [
        "A **confusion matrix** is a table that illustrates how well a classifier predicts."
      ]
    },
    {
      "cell_type": "markdown",
      "metadata": {
        "id": "B1K1uTbEtZBl"
      },
      "source": [
        "<table border=\"1\" style=\"border-collapse: collapse; text-align: center;\">\n",
        "   <caption style=\"font-weight: bold; margin-bottom: 10px;\"> <b>Confusion Matrix for the two-class problem.</b></caption>\n",
        "  <tr>\n",
        "    <th rowspan=\"2\">True Class</th>\n",
        "    <th colspan=\"2\">Predicted Class</th>\n",
        "    <th rowspan=\"2\">Total</th>\n",
        "  </tr>\n",
        "  <tr>\n",
        "    <th>Positive</th>\n",
        "    <th>Negative</th>\n",
        "  </tr>\n",
        "  <tr>\n",
        "    <td><b>Positive</b></td>\n",
        "    <td>tp : true positive</td>\n",
        "    <td>fn : false negative</td>\n",
        "    <td>p</td>\n",
        "  </tr>\n",
        "  <tr>\n",
        "    <td><b>Negative</b></td>\n",
        "    <td>fp : false positive</td>\n",
        "    <td>tn : true negative</td>\n",
        "    <td>n</td>\n",
        "  </tr>\n",
        "  <tr>\n",
        "    <td><b>Total</b></td>\n",
        "    <td>p'</td>\n",
        "    <td>n'</td>\n",
        "    <td>N</td>\n",
        "  </tr>\n",
        "</table>"
      ]
    },
    {
      "cell_type": "markdown",
      "metadata": {
        "id": "pTohZi0uvXCG"
      },
      "source": [
        "**Main performance measures**\n",
        "\n",
        "> **Total Error**\n",
        "$$e = \\frac{fp+fn}{N}=\\alpha + \\beta$$\n",
        "\n",
        "> **Accuracy** (*exactitud*), measures the proportion of correct predictions in relation to the total number of elements.\n",
        "$$\\frac{tp+tn}{N} = 1- e$$\n",
        "\n",
        "> **False alarm rate** (**false positive fraction**) $fp$-rate is the proportion of impostors we wrongly accept.\n",
        "$$\\frac{fp}{n}=\\alpha$$\n",
        "\n",
        "> **True positive rate**, **recall** or **sensitivity** $tp$-rate, measures what proportion of valid users (positive pattern) we authenticate. Intuitively, it is the ability of the classifier to find all the positive samples.\n",
        "$$ \\frac{tp}{p}=1-\\alpha$$\n",
        "\n",
        "> **Precision** measures the proportion of records classified as positive that actually are. Intuitively, precision is the ability to the classifier not to label as positive a sample that is negative.\n",
        "$$\\frac{tp}{p'}$$\n",
        "\n",
        "> **Specificity** is how well we detect the negatives.\n",
        "$$\\frac{tn}{n} = 1 - fp\\text{-rate}$$\n"
      ]
    },
    {
      "cell_type": "markdown",
      "metadata": {
        "id": "BmwIYCNTIWuJ"
      },
      "source": [
        "## **For $K$-classes problem with $K>2$**"
      ]
    },
    {
      "cell_type": "markdown",
      "metadata": {
        "id": "m2kK6ItqIY1J"
      },
      "source": [
        "In the case of $K>2$ classes, the **class confusion matrix** $A$ is a $K\\times K$ matrix whose entry $A(i, j)$ contains the number of instances that belong to class $C_i$  but are assigned to class $C_j$.\n",
        "\n",
        "\n",
        "- Usually organized as actual rows versus predicted columns.\n",
        "\n",
        "- The class confusion matrix allows us to identify what types of misclassifications occur, namely, if there are two classes that are frequently confused.\n",
        "\n",
        "Let $n_i$ be the number of elements in the class $C_i$, and let $\\hat{n}_i$ the number of instances assigned to class $C_i$, that is\n",
        "\n",
        "$$n_i = \\sum_{l=1}^K A(i,l)$$\n",
        "\n",
        "$$\\hat{n}_i= \\sum_{l=1}^K A(l,i)$$\n"
      ]
    },
    {
      "cell_type": "markdown",
      "metadata": {
        "id": "5dKEBUFzJOKu"
      },
      "source": [
        "From the **confusion matrix**, one can directly extract the **recall** and **precision** values for each class, along with the overall accuracy:\n",
        "\n",
        "> **Overall Accuracy** $Ac$, is the percentage of data that has been correctly classified. Given a $K$-class problem, $Ac$ is computed form the diagonal of the confusion matrix:\n",
        "$$Ac = \\frac{1}{N}\\sum_{i=1}^K A(i,i)$$\n",
        "\n",
        "> **Balanced accuracy** $BA$, is defined as the average of recall obtained on each class.\n",
        "$$BA = \\frac{1}{K} \\sum_{i=1}^{K} \\frac{A(i,i)}{n_i} $$\n",
        "- $BA$ avoids inflated performance estimates on imbalanced datasets.\n",
        "- It is equivalent to the **Accuracy** with class-balanced sample weights.\n",
        "\n",
        "> **Precision** $P_i$ is the proportion of data points classified as class $i$, whose true class label is indeed $i$. That is, the value of the diagonal $i$ divided by the sum of the column $i$.\n",
        "$$P_i =\\frac{A(i,i)}{\\hat{n}_i}$$\n",
        "\n",
        "> **Recall** or **Sensitivity** $R_i$, is the proportion of data points with true class label $i$, which were correctly classified in that class. That is, the value of the diagonal $i$ divided by the sum of the row $i$.\n",
        "$$R_i = \\frac{A(i,i)}{n_i}$$\n"
      ]
    },
    {
      "cell_type": "markdown",
      "metadata": {
        "id": "ZDzGi0iBnVGS"
      },
      "source": [
        "> **F1-Score**, also known as **balanced $F$-score**, can be interpreted as a harmonic mean of the precision and recall.\n",
        "$$ F1(C_i) = 2\\frac{P_i R_i}{P_i+R_i}$$\n",
        "- An $F1$ score reaches its best value at 1 and worst score at 0.\n",
        "- The relative contribution of precision and recall to the F1-score are equal."
      ]
    },
    {
      "cell_type": "markdown",
      "metadata": {
        "id": "Wlr3HGNCtNQy"
      },
      "source": [
        "> **$F_{\\beta}$-Score** is the weighted harmonic mean of precision and recall, with precision's contribution to the mean weighted by some parameter $\\beta\\geq 0$\n",
        "$$F_{\\beta} = (1+\\beta^2) \\frac{P_i R_i}{\\beta^2 P_i + R_i}$$\n",
        "- $\\beta > 1$ gives more weight to recall.\n",
        "- $\\beta < 1$ favors precision.\n",
        "- Asymptotically, $\\beta \\rightarrow \\infty$ consider only recall, and $\\beta \\rightarrow 0$ only precision."
      ]
    },
    {
      "cell_type": "markdown",
      "metadata": {
        "id": "1jO1rBs6uel3"
      },
      "source": [
        "# **Implementation**"
      ]
    },
    {
      "cell_type": "markdown",
      "metadata": {
        "id": "MKEmMZSLuhgT"
      },
      "source": [
        "**Scikit-learn** (**sklearn**) is a free and open-source machine learning library for the Python programming language.\n",
        "\n",
        "- It is designed to operate with the Python numerical and scientific libraries **NumPy** and **SciPy**.\n",
        "- Originally, it was a Google Summer of Code project by French Data scientist David Couperneau.\n",
        "- In 2010, the first public version of the library by a research group of the French Institute for Research in Computer Science and Automation.\n",
        "\n",
        "**Sklearn** include modules for:\n",
        "- Classification.\n",
        "- Regression.\n",
        "- Clustering.\n",
        "- Dimensionality reduction.\n",
        "- Model selection.\n",
        "- Preprocessing."
      ]
    },
    {
      "cell_type": "markdown",
      "metadata": {
        "id": "yjnHol0W66Gh"
      },
      "source": [
        "It also includes **metrics and scoring** submodule to evaluate supervised learning models. To import it we use the following code:"
      ]
    },
    {
      "cell_type": "code",
      "execution_count": 1,
      "metadata": {
        "id": "nGOAjszS9TTg"
      },
      "outputs": [],
      "source": [
        "from sklearn import metrics"
      ]
    },
    {
      "cell_type": "markdown",
      "metadata": {
        "id": "W9OJcVqz9YTU"
      },
      "source": [
        "## **Example**"
      ]
    },
    {
      "cell_type": "markdown",
      "metadata": {
        "id": "3C7Q1rJN91z3"
      },
      "source": [
        "We use the iris dataset and the perceptron dataset to show how to use the different metric functions in sklearn."
      ]
    },
    {
      "cell_type": "code",
      "execution_count": 2,
      "metadata": {
        "id": "WaNK18uq-IGQ"
      },
      "outputs": [],
      "source": [
        "# Import libraries\n",
        "import matplotlib.pyplot as plt\n",
        "from sklearn.svm import LinearSVC\n",
        "from sklearn.inspection import DecisionBoundaryDisplay\n",
        "from sklearn.metrics import ConfusionMatrixDisplay, confusion_matrix, classification_report\n",
        "from matplotlib.colors import ListedColormap"
      ]
    },
    {
      "cell_type": "code",
      "execution_count": 3,
      "metadata": {
        "id": "aN1n488r-Y3F"
      },
      "outputs": [],
      "source": [
        "# Import dataset\n",
        "from sklearn.datasets import load_iris\n",
        "X = load_iris()[\"data\"][:130,0:2]\n",
        "y_true = load_iris()[\"target\"][:130]"
      ]
    },
    {
      "cell_type": "code",
      "execution_count": 4,
      "metadata": {
        "colab": {
          "base_uri": "https://localhost:8080/"
        },
        "id": "PLWiUvIf-g6T",
        "outputId": "ea9fc087-4c7f-44f4-9bf6-045431ff06b4"
      },
      "outputs": [
        {
          "name": "stderr",
          "output_type": "stream",
          "text": [
            "c:\\Users\\herie\\AppData\\Local\\Programs\\Python\\Python312\\Lib\\site-packages\\sklearn\\svm\\_classes.py:31: FutureWarning: The default value of `dual` will change from `True` to `'auto'` in 1.5. Set the value of `dual` explicitly to suppress the warning.\n",
            "  warnings.warn(\n",
            "c:\\Users\\herie\\AppData\\Local\\Programs\\Python\\Python312\\Lib\\site-packages\\sklearn\\svm\\_base.py:1237: ConvergenceWarning: Liblinear failed to converge, increase the number of iterations.\n",
            "  warnings.warn(\n"
          ]
        }
      ],
      "source": [
        "# Create and apply the classifier\n",
        "clf = LinearSVC(max_iter=5)\n",
        "clf.fit(X, y_true)\n",
        "y_pred = clf.predict(X)"
      ]
    },
    {
      "cell_type": "code",
      "execution_count": 5,
      "metadata": {
        "colab": {
          "base_uri": "https://localhost:8080/",
          "height": 496
        },
        "id": "dIGYhBq6-3bz",
        "outputId": "5ed30d52-cf8e-4393-d5ad-3b7acaa05946"
      },
      "outputs": [
        {
          "name": "stderr",
          "output_type": "stream",
          "text": [
            "C:\\Users\\herie\\AppData\\Local\\Temp\\ipykernel_16892\\1494447525.py:12: UserWarning: *c* argument looks like a single numeric RGB or RGBA sequence, which should be avoided as value-mapping will have precedence in case its length matches with *x* & *y*.  Please use the *color* keyword-argument or provide a 2D array with a single row if you intend to specify the same RGB or RGBA value for all points.\n",
            "  display.ax_.scatter([], [], c=cmap(i), label=i)\n"
          ]
        },
        {
          "data": {
            "image/png": "[encoded data removed]",
            "text/plain": [
              "<Figure size 600x600 with 1 Axes>"
            ]
          },
          "metadata": {},
          "output_type": "display_data"
        }
      ],
      "source": [
        "# Display the decision boundaries of the classifier\n",
        "cmap = ListedColormap(['red', 'green', 'blue'])\n",
        "fig, ax = plt.subplots(figsize=(6, 6))\n",
        "display = DecisionBoundaryDisplay.from_estimator(clf, X,\n",
        "                                                 response_method=\"predict\",\n",
        "                                                 alpha=0.5, ax=ax,\n",
        "                                                 grid_resolution=200,\n",
        "                                                 plot_method=\"pcolormesh\",\n",
        "                                                cmap=cmap)\n",
        "display.ax_.scatter(X[:, 0], X[:, 1], c=y_true, edgecolor=\"k\", cmap=cmap)\n",
        "for i in range(3):\n",
        "    display.ax_.scatter([], [], c=cmap(i), label=i)\n",
        "ax.legend()\n",
        "ax.set_aspect(\"equal\")\n",
        "plt.show()"
      ]
    },
    {
      "cell_type": "markdown",
      "metadata": {
        "id": "qMI3rW5CJ1Vj"
      },
      "source": [
        "### Confusion matrix"
      ]
    },
    {
      "cell_type": "code",
      "execution_count": 6,
      "metadata": {
        "colab": {
          "base_uri": "https://localhost:8080/"
        },
        "id": "kak5j2zRAq4l",
        "outputId": "a6770d4c-2db2-4442-8832-a921d51fae9b"
      },
      "outputs": [
        {
          "data": {
            "text/plain": [
              "array([[49,  1,  0],\n",
              "       [ 6, 44,  0],\n",
              "       [ 0, 30,  0]], dtype=int64)"
            ]
          },
          "execution_count": 6,
          "metadata": {},
          "output_type": "execute_result"
        }
      ],
      "source": [
        "# Create the confusion matrix\n",
        "cm = confusion_matrix(y_true, y_pred)\n",
        "cm"
      ]
    },
    {
      "cell_type": "code",
      "execution_count": 7,
      "metadata": {},
      "outputs": [
        {
          "name": "stdout",
          "output_type": "stream",
          "text": [
            "[[1 0 0 0]\n",
            " [2 0 0 0]\n",
            " [1 2 0 0]\n",
            " [0 1 2 1]]\n"
          ]
        }
      ],
      "source": [
        "from sklearn.metrics import confusion_matrix\n",
        "\n",
        "# True labels\n",
        "y_true = [1, 2, 2, 3, 3, 3, 4, 4, 4, 4]\n",
        "\n",
        "# Predicted labels\n",
        "y_pred = [1, 1, 1, 1, 2, 2, 2, 3, 3, 4]\n",
        "\n",
        "# Compute confusion matrix\n",
        "cm = confusion_matrix(y_true, y_pred)\n",
        "\n",
        "print(cm)"
      ]
    },
    {
      "cell_type": "code",
      "execution_count": 13,
      "metadata": {
        "colab": {
          "base_uri": "https://localhost:8080/",
          "height": 388
        },
        "id": "UGaYQD7aAhBi",
        "outputId": "4f013e1e-5217-4da1-b7bf-69caffcb9200"
      },
      "outputs": [
        {
          "name": "stdout",
          "output_type": "stream",
          "text": [
            "[[1 0 0 0]\n",
            " [2 0 0 0]\n",
            " [1 2 0 0]\n",
            " [0 1 2 1]]\n"
          ]
        },
        {
          "data": {
            "image/png": "[encoded data removed]",
            "text/plain": [
              "<Figure size 400x400 with 1 Axes>"
            ]
          },
          "metadata": {},
          "output_type": "display_data"
        }
      ],
      "source": [
        "from sklearn.metrics import confusion_matrix, ConfusionMatrixDisplay\n",
        "\n",
        "# True labels\n",
        "y_true = [1, 2, 2, 3, 3, 3, 4, 4, 4, 4]\n",
        "\n",
        "# Predicted labels\n",
        "y_pred = [1, 1, 1, 1, 2, 2, 2, 3, 3, 4]\n",
        "\n",
        "# Compute confusion matrix\n",
        "cm = confusion_matrix(y_true, y_pred)\n",
        "\n",
        "print(cm)\n",
        "\n",
        "# Display the confusion matrix\n",
        "fig, ax = plt.subplots(figsize=(4, 4))\n",
        "disp = ConfusionMatrixDisplay(confusion_matrix=cm, display_labels=[1, 2, 3, 4])\n",
        "disp.plot(cmap=\"OrRd\", ax=ax, colorbar=False)\n",
        "plt.show()"
      ]
    },
    {
      "cell_type": "markdown",
      "metadata": {
        "id": "7kg1dIRREkW6"
      },
      "source": [
        "### Metrics"
      ]
    },
    {
      "cell_type": "code",
      "execution_count": null,
      "metadata": {
        "colab": {
          "base_uri": "https://localhost:8080/"
        },
        "id": "6SqvYj1REgBB",
        "outputId": "75f72295-0ea9-4d62-9867-341db7931c24"
      },
      "outputs": [
        {
          "data": {
            "text/plain": [
              "0.2"
            ]
          },
          "execution_count": 25,
          "metadata": {},
          "output_type": "execute_result"
        }
      ],
      "source": [
        "# Accuracy\n",
        "metrics.accuracy_score(y_true, y_pred)"
      ]
    },
    {
      "cell_type": "code",
      "execution_count": null,
      "metadata": {},
      "outputs": [],
      "source": []
    },
    {
      "cell_type": "code",
      "execution_count": null,
      "metadata": {
        "colab": {
          "base_uri": "https://localhost:8080/"
        },
        "id": "8hL__HliEz7K",
        "outputId": "5905e0f9-6476-4d44-e0b7-8bec7902f55c"
      },
      "outputs": [
        {
          "data": {
            "text/plain": [
              "0.3125"
            ]
          },
          "execution_count": 26,
          "metadata": {},
          "output_type": "execute_result"
        }
      ],
      "source": [
        "# Balanced accuracy\n",
        "metrics.balanced_accuracy_score(y_true, y_pred)"
      ]
    },
    {
      "cell_type": "code",
      "execution_count": null,
      "metadata": {
        "colab": {
          "base_uri": "https://localhost:8080/"
        },
        "id": "-iKQhkykFDuh",
        "outputId": "f3d62df4-3391-477d-813f-3db37911c8cd"
      },
      "outputs": [
        {
          "data": {
            "text/plain": [
              "array([0.25, 0.  , 0.  , 1.  ])"
            ]
          },
          "execution_count": 27,
          "metadata": {},
          "output_type": "execute_result"
        }
      ],
      "source": [
        "# Precision\n",
        "metrics.precision_score(y_true, y_pred,\n",
        "                        average=None)"
      ]
    },
    {
      "cell_type": "code",
      "execution_count": null,
      "metadata": {
        "colab": {
          "base_uri": "https://localhost:8080/"
        },
        "id": "z0xUvg2tFZoH",
        "outputId": "eaffc3a3-7589-434c-c7ea-55f1819ea5f8"
      },
      "outputs": [
        {
          "data": {
            "text/plain": [
              "array([1.  , 0.  , 0.  , 0.25])"
            ]
          },
          "execution_count": 28,
          "metadata": {},
          "output_type": "execute_result"
        }
      ],
      "source": [
        "# Recall\n",
        "metrics.recall_score(y_true, y_pred,\n",
        "                     average=None)"
      ]
    },
    {
      "cell_type": "code",
      "execution_count": null,
      "metadata": {
        "colab": {
          "base_uri": "https://localhost:8080/"
        },
        "id": "pu1VwIGKFeAF",
        "outputId": "adf7f54d-936b-4808-d0c6-0037bf5eb04f"
      },
      "outputs": [
        {
          "data": {
            "text/plain": [
              "array([0.4, 0. , 0. , 0.4])"
            ]
          },
          "execution_count": 29,
          "metadata": {},
          "output_type": "execute_result"
        }
      ],
      "source": [
        "# F1-score\n",
        "metrics.f1_score(y_true, y_pred,\n",
        "                 average=None)"
      ]
    },
    {
      "cell_type": "code",
      "execution_count": null,
      "metadata": {
        "colab": {
          "base_uri": "https://localhost:8080/"
        },
        "id": "maKHMxi0Fl30",
        "outputId": "90f9c7f4-9089-490f-fe92-e92616ecb413"
      },
      "outputs": [
        {
          "name": "stdout",
          "output_type": "stream",
          "text": [
            "beta=1 [0.4 0.  0.  0.4]\n",
            "beta=2 [0.25187032 0.         0.         0.97115385]\n"
          ]
        }
      ],
      "source": [
        "#F-beta score\n",
        "beta_1 = metrics.fbeta_score(y_true, y_pred,\n",
        "                    average=None,\n",
        "                    beta=1)\n",
        "beta_2 = metrics.fbeta_score(y_true, y_pred,\n",
        "                    average=None,\n",
        "                    beta=.1)\n",
        "print(\"beta=1\", beta_1)\n",
        "print(\"beta=2\", beta_2)"
      ]
    },
    {
      "cell_type": "markdown",
      "metadata": {
        "id": "5XZnpFgeJ5Ua"
      },
      "source": [
        "### Classification report"
      ]
    },
    {
      "cell_type": "code",
      "execution_count": null,
      "metadata": {
        "colab": {
          "base_uri": "https://localhost:8080/"
        },
        "id": "dfSpBxW6GEDC",
        "outputId": "72ea9788-33fc-4600-8b32-77031f77a3c8"
      },
      "outputs": [
        {
          "name": "stdout",
          "output_type": "stream",
          "text": [
            "              precision    recall  f1-score   support\n",
            "\n",
            "           0       1.00      0.72      0.84        50\n",
            "           1       0.53      1.00      0.69        50\n",
            "           2       0.00      0.00      0.00        30\n",
            "\n",
            "    accuracy                           0.66       130\n",
            "   macro avg       0.51      0.57      0.51       130\n",
            "weighted avg       0.59      0.66      0.59       130\n",
            "\n"
          ]
        },
        {
          "name": "stderr",
          "output_type": "stream",
          "text": [
            "c:\\Users\\herie\\AppData\\Local\\Programs\\Python\\Python312\\Lib\\site-packages\\sklearn\\metrics\\_classification.py:1509: UndefinedMetricWarning: Precision is ill-defined and being set to 0.0 in labels with no predicted samples. Use `zero_division` parameter to control this behavior.\n",
            "  _warn_prf(average, modifier, f\"{metric.capitalize()} is\", len(result))\n",
            "c:\\Users\\herie\\AppData\\Local\\Programs\\Python\\Python312\\Lib\\site-packages\\sklearn\\metrics\\_classification.py:1509: UndefinedMetricWarning: Precision is ill-defined and being set to 0.0 in labels with no predicted samples. Use `zero_division` parameter to control this behavior.\n",
            "  _warn_prf(average, modifier, f\"{metric.capitalize()} is\", len(result))\n",
            "c:\\Users\\herie\\AppData\\Local\\Programs\\Python\\Python312\\Lib\\site-packages\\sklearn\\metrics\\_classification.py:1509: UndefinedMetricWarning: Precision is ill-defined and being set to 0.0 in labels with no predicted samples. Use `zero_division` parameter to control this behavior.\n",
            "  _warn_prf(average, modifier, f\"{metric.capitalize()} is\", len(result))\n"
          ]
        }
      ],
      "source": [
        "# Display classification report\n",
        "report = classification_report(y_true, y_pred)\n",
        "print(report)"
      ]
    },
    {
      "cell_type": "markdown",
      "metadata": {
        "id": "KgL-wkZ5NIO7"
      },
      "source": [
        "# **References**"
      ]
    },
    {
      "cell_type": "markdown",
      "metadata": {
        "id": "zoo_2XWYNG-d"
      },
      "source": [
        "- Alpaydin, E. (2010) *Introduction to Machine Learning**, 2nd ed., The MIT Press.\n",
        "\n",
        "- Dougherty, G. (2013) *Pattern Recognition and Classification. An Introduction**, Springer.\n",
        "\n",
        "- Theodoridis, S. \\& Koutroumbas, K. (2009) *Pattern Recognition*, 4th ed., Academic Press."
      ]
    }
  ],
  "metadata": {
    "colab": {
      "provenance": []
    },
    "kernelspec": {
      "display_name": "Python 3",
      "name": "python3"
    },
    "language_info": {
      "codemirror_mode": {
        "name": "ipython",
        "version": 3
      },
      "file_extension": ".py",
      "mimetype": "text/x-python",
      "name": "python",
      "nbconvert_exporter": "python",
      "pygments_lexer": "ipython3",
      "version": "3.12.1"
    }
  },
  "nbformat": 4,
  "nbformat_minor": 0
}
