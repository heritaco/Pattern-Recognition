{
  "nbformat": 4,
  "nbformat_minor": 0,
  "metadata": {
    "colab": {
      "provenance": []
    },
    "kernelspec": {
      "name": "python3",
      "display_name": "Python 3"
    },
    "language_info": {
      "name": "python"
    }
  },
  "cells": [
    {
      "cell_type": "markdown",
      "source": [
        "# **SVM-MULTICLASS**"
      ],
      "metadata": {
        "id": "tqfg18TNdkbP"
      }
    },
    {
      "cell_type": "markdown",
      "source": [
        "**Support vector machines (SVMs)** were originally designed for **binary classification**. How to effectively extend it for multiclass classification is still an ongoing research issue.\n",
        "\n",
        "Several methods have been proposed where typically we construct a multiclass classifier by **combining** several binary classifiers. Some authors also proposed methods that consider **all classes at once**. For methods solving\n",
        "multiclass SVM in one step, a much larger optimization problem is required so up to now experiments are limited to small data sets."
      ],
      "metadata": {
        "id": "UmM_Sp2adtVs"
      }
    },
    {
      "cell_type": "markdown",
      "source": [
        "## **One-against-all**"
      ],
      "metadata": {
        "id": "GEoORvxqe4Q3"
      }
    },
    {
      "cell_type": "markdown",
      "source": [
        "The earliest used implementation for **SVM multiclass classification**\n",
        "is probably the **one-against-all method** (1994). It constructs $k$ SVM models where $k$ is the number of classes.\n",
        "\n",
        "The $i$th SVM is trained with all of the examples in the $i$th class with positive labels, and all other examples with negative labels.\n",
        "\n",
        "Thus given $l$ training data $(\\textbf{x}_1, y_1), \\ldots, (\\textbf{x}_l, y_l)$, where $\\textbf{x}_t\\in \\mathbb{R}^n, \\ t=1,\\ldots, l$ and $y_t\\in\\{1,\\ldots,k\\}$ is the class of $\\textbf{x}_t$, the $i$th SVM solves the following problem:\n",
        "\n",
        "\\begin{eqnarray}\n",
        "  \\min_{\\textbf{w}^i, b^i, \\xi^i}  \\frac{1}{2}( \\textbf{w}^i)^T\\textbf{w}^i + C \\sum_{t=1}^l \\xi_t^i  & & &\\\\\n",
        "  \\text{s.t.} \\quad ( \\textbf{w}^i)^T \\textbf{x}_t + b^i &\\geq& 1- \\xi^i_t, & \\ \\text{if } y_t = i\\\\\n",
        "  \\text{s.t.} \\quad ( \\textbf{w}^i)^T \\textbf{x}_t + b^i &\\leq& -1+ \\xi^i_t, & \\ \\text{if } y_t \\neq i\\\\\n",
        "  \\xi_t^i & \\geq & 0, & t=1,\\ldots,l\n",
        "\\end{eqnarray}\n",
        "where $C$ is the penalty parameter."
      ],
      "metadata": {
        "id": "5YTnT9sEe7CS"
      }
    },
    {
      "cell_type": "markdown",
      "source": [
        "Minimizing $\\frac{1}{2}( \\textbf{w}^i)^T\\textbf{w}^i$ means that we would like **to maximize** $\\frac{2}{\\|\\textbf{w}^i\\|}$, **the margin** between two groups of data. When data are not linear separable, there is a **penalty** term which can reduce the number of training errors.\n",
        "\n",
        "The basic concept behind SVM is to search for a **balance** between the **regularization term** and the **training errors**."
      ],
      "metadata": {
        "id": "FRZ7ufNfhM_L"
      }
    },
    {
      "cell_type": "markdown",
      "source": [
        "After solving the last model, there are $k$ decision functions\n",
        "\\begin{eqnarray}\n",
        "  (\\textbf{w}^1)^T \\textbf{x} & +& b^1\\\\\n",
        "  (\\textbf{w}^2)^T \\textbf{x} & +& b^2\\\\\n",
        "  &\\vdots&\\\\\n",
        "  (\\textbf{w}^k)^T \\textbf{x} &+& b^k\\\\\n",
        "\\end{eqnarray}"
      ],
      "metadata": {
        "id": "Fy8NHhxSh4Ke"
      }
    },
    {
      "cell_type": "markdown",
      "source": [
        "We say $\\textbf{x}$ is in the class which has the largest value of the decision function\n",
        "\n",
        "$$\\text{class of } \\textbf{x} \\equiv \\arg \\max_{i=1,\\ldots,k} \\left((\\textbf{w}^i)^T \\textbf{x} + b^i\\right)$$"
      ],
      "metadata": {
        "id": "qqlj9kDhiWHV"
      }
    },
    {
      "cell_type": "markdown",
      "source": [
        "## **One-against-one**"
      ],
      "metadata": {
        "id": "bdGtYR7uin70"
      }
    },
    {
      "cell_type": "markdown",
      "source": [
        "Another major method is called the **one-against-one method** (1996). This method constructs $\\frac{k(k-1)}{2}$ classifiers where each one is **trained on data from two classes**.\n",
        "\n",
        "For training data from the $i$th and the $j$th classes, we solve the following\n",
        "binary classification problem:\n",
        "\n",
        "\\"
      ],
      "metadata": {
        "id": "21GUaglGit0s"
      }
    },
    {
      "cell_type": "markdown",
      "source": [
        "\n",
        "\\begin{eqnarray}\n",
        "  \\min_{\\textbf{w}^{i,j}, b^{i,j}, \\xi^{i,j}}  \\frac{1}{2}( \\textbf{w}^{i,j})^T\\textbf{w}^{i,j} + C \\sum_{t=1\\\\ t\\in\\{i,j\\}}^l \\xi_t^{i,j} & & &\\\\\n",
        "  \\text{s.t.} \\quad ( \\textbf{w}^{i,j})^T \\textbf{x}_t + b^{i,j} &\\geq& 1- \\xi^{i,j}_t, & \\ \\text{if } y_t = i\\\\\n",
        "  \\text{s.t.} \\quad ( \\textbf{w}^{i,j})^T \\textbf{x}_t + b^{i,j} &\\leq& -1+ \\xi^{i,j}_t, & \\ \\text{if } y_t = j\\\\\n",
        "  \\xi_t^{i,j} & \\geq & 0, & t=1,\\ldots,l, \\ t\\in\\{i,j\\}\n",
        "\\end{eqnarray}"
      ],
      "metadata": {
        "id": "-IZom4J4i__W"
      }
    },
    {
      "cell_type": "markdown",
      "source": [
        "There are different methods for doing the future testing after all $\\frac{k(k-1)}{2}$ classifiers are constructed.\n",
        "\n",
        "> For instance: if\n",
        "$$\\text{sign}\\left( (\\textbf{w}^{i,j})^T \\textbf{x} + b^{i,j} \\right)$$\n",
        "says $\\textbf{x}$ is in the th class, then the vote for the $i$th class is added by one. Otherwise, the $j$th is increased by one. Then we predict is in the class with the **largest vote**. The\n",
        "voting approach described above is also called the ***MaxWins*\n",
        "strategy**. In case that two classes have identical votes, thought it\n",
        "may not be a good strategy, now we simply select the one with\n",
        "the smaller index."
      ],
      "metadata": {
        "id": "S_jG-aYok43s"
      }
    },
    {
      "cell_type": "markdown",
      "source": [
        "## **DAGSVM**"
      ],
      "metadata": {
        "id": "JG_AYqS4loqZ"
      }
    },
    {
      "cell_type": "markdown",
      "source": [
        "The third algorithm is the **directed acyclic graph SVM** or **DAGSVM** (2000). Its training phase is the same as the **one-against-one method** by solving $\\frac{k(k-1)}{2}$ binary SVMs.\n",
        "\n",
        "However, in the testing phase, it uses a **rooted binary\n",
        "directed acyclic graph** which has $\\frac{k(k-1)}{2}$ internal nodes\n",
        "and leaves.\n",
        "\n",
        "Each node is a binary SVM of $i$th and $j$th classes. Given a test sample $\\textbf{x}$, starting at the root node, the binary decision\n",
        "function is evaluated. Then it moves to either left or right\n",
        "depending on the output value. Therefore, we go through a path\n",
        "before reaching a leaf node which indicates the predicted class."
      ],
      "metadata": {
        "id": "s0HyPc_ylrnj"
      }
    },
    {
      "cell_type": "markdown",
      "source": [
        "## **All-Together**"
      ],
      "metadata": {
        "id": "aNElu6Lguu1C"
      }
    },
    {
      "cell_type": "markdown",
      "source": [
        "The **all-together approach** (1999) assumes first that the $k$ class of points are piecewise-linearly separable, i.e., there exist $\\textbf{w}^i \\in \\mathbb{R}^n$ and $b^i\\in \\mathbb{R}$, $i=1,\\ldots,k$ such that\n",
        "$$(\\textbf{w}^i)^T \\textbf{x}_t +b^i > (\\textbf{w}^j)^T \\textbf{x}_t +b^j, \\qquad i,j=1,\\ldots, k, \\ i\\neq j, \\ \\forall \\textbf{x}_t \\in \\omega_i$$"
      ],
      "metadata": {
        "id": "K_7FEy-lu1tt"
      }
    },
    {
      "cell_type": "markdown",
      "source": [
        "The class of a point $\\textbf{x}$ is determined from $(\\textbf{w}^i, b^i)$, $i=1,\\ldots, k$, by finding $i$ such that\n",
        "\n",
        "$$f_i(\\textbf{x}) = (\\textbf{w}^i)^T \\textbf{x}_t +b^i $$\n",
        "is maximized."
      ],
      "metadata": {
        "id": "Av9x_VdBvuHa"
      }
    },
    {
      "cell_type": "markdown",
      "source": [
        "![image.png](data:image/png;base64,iVBORw0KGgoAAAANSUhEUgAAAjwAAAF4CAYAAABQLiN9AAAAAXNSR0IArs4c6QAAAARnQU1BAACxjwv8YQUAAAAJcEhZcwAADsMAAA7DAcdvqGQAAEFnSURBVHhe7d1PqB3nefjx4x9xwRRuAqpbFSwRKE3AEiSLGCJvcu2NtFCgG2dTqA3SosVkYRnaLgKSFllKWRltrE2WzrIWSItYVxsrNIvaIHmR0KZIgaZ1tYigeOHF/c13PM/VaDT/zj1z5sy85/uB4Zx7zrnz78w573Oe95l3ntvPLCRJkhL2/4pbSZKkZBnwSJKk5BnwSJKk5BnwSJKk5BnwSJKk5BnwSJKk5BnwSJKk5BnwSJKk5BnwSJKk5BnwSJKk5BnwSJKk5BnwSJKk5BnwSJKk5BnwSJKk5BnwSJKk5BnwSJKk5BnwSJKk5BnwSJKk5BnwSJKk5BnwSJKk5BnwSJKk5BnwSJKk5BnwSJKk5BnwSJKk5BnwSJKk5BnwSJKk5BnwSJKk5BnwSJKk5BnwSJKk5BnwSJKk5BnwSJKk5BnwSJKk5BnwSJKk5BnwSJKk5BnwSJKk5BnwSJKk5BnwSJKk5BnwSJKk5BnwSJKk5BnwSJKk5BnwSJKk5BnwSJKk5BnwSJKk5BnwSJKk5BnwSHrKr371q8Xvf//74q90sF1jYnk/+tGPFj/72c+KRyRtkgGPNCG/+MUv8kaS201g2Q8fPly8+uqri8uXLxePNptDYMS+PH78+OLq1avFI+tHsHPhwoXFBx98sLh79+7i5MmTB/sqxWBSmgMDHmlNCBgOE7h89tlnxb1x0RCzvm+88UbeUF+6dCn/m8abAKgOj28iOIsgpg+258qVK4tjx44Vj4zjpZdeym9Z/v379/PAh31MULnOoGdTx480dQY80sBozL7xjW8sbty4sThx4kTxaD/lxnFsNND7+/sHjTJY/+9///uLI0eOLJ577rn8sfDDH/4wzwaxzmMi2GH9bt68WTzSjf1JEDcW9hnLozuLTM8rr7yyOHXqVL6PuSX46hv0sK1d3XE8f+bMmcWf/MmfLN5+++3iUUllBjzSwGjkzp07t/jXf/3Xxcsvv1w82h9BBo3iJtAI00B//PHHeSDz+PHj/PF/+Zd/ydepXI/y6aefbiQwi263ZfYt6z72PmVfEZzRlfbrX/+6eHSRZ5vYt0PW9hBgEQB+73vfW+zu7haPSioz4JEGRiNHA1TGL/Dyr3S6HeIX/rvvvntwn/8lw8Nt16/6ZbC88nK4ZRkggOA+j5F54H7clreD7ET8D/Oj0S4/z/oyr8hIcMsyhxT7JLqLAsupLo+/2SYCCyb+d8j1Yd506dG1FvsFLINl8VjsM/ZVdZ3L/9OFAK+P6jIkPfHcPjlsSYOIoIEGKhofGrZoaOnmIEige4hMCr/2aTDjV3+5EWQ+1cDpMJgn9USREWEdCAaYP8uloJbneJz1J2tDNoTsTjmLQtDAOtd9ZUTjzzxu3bqV1//E9jC/6naw/C7Mq4r9yPzIQIHl0pWzs7NzEFyUt6NuHkOI7WW72I9kcQhU2Xa88847+W0T1pN90Ofrl9exL5m68FoyhBcvXiwekRQMeKQB1TVk/E0AQENEA8wtE4/RMEUw0qdBOwyWT13He++9d9AYEuRwyzLv3LmTP9cVHLQ10jxH1ie2h21bx1cLy0esK8va29tb3L59O/+bdWDZ3N67dy9/rI9Y/ybsp3Lwx+sR7xnrAR7vs9y2fVmtlarTtG/53ziuJD3NLi1pzciK8OsfNJBx//Tp0/lt1Mn0RUaIhq1pim6fQPbhBz/4Qd7I0miTnWAdorEmYCBLsQrmFY0sDW7Me92olYpgB2wf20nGZ1nsk6apOj+2r7yNLJftPsxyqwhmyhPLIcArP9Zk1fdRSlr24ZE0kKxhojUq/noia7T2T506dXA/XvPw4cP9rJHK769T1hgfLJN1jHVh+TzObZembQP/z3T37t38NVmQlT/Ottbh8a6pThY8du4v/pd1HRvb3Xe57J+mfVm1zPawb3ivJT2r3ydOUi8RQFQbqHIjTrBx4sSJ/P5YjTPLYL0ISFgmDSOPLbN8XhuBUhWBCM8xX5bD37w+Ap+hREDVZowAsqrPepWxb5j64HXMv028r6wDU5//kbaNAY80sKNHjz4TGNy/f/+pxqh8fywEWSyT21iHZbIBvP78+fPFX09j+5gXwdPe3l5+f12ZBvbv2bNni7+exvJ3dnaKv8bD+/3Nb36z+KsdQfHzzz+/f+3ateKRdt/5znd6ZeAktbNoWRoYZzNlv67XdobQplAfxHYNcebYKti/1CFxhlkV9TtMY+97CpCjILxLnOHFmWZ9TiNne7MA1VPOpRVZtCwNjFOSadRoeFMRp6RvOtgB+/fhw4e1+5eC7VMbGLSR5RKUdOG4IDgiIOsbwLC9BjvS6szwSGtAw8b4MO+///4kgoRVsC0EO1PKWLFOBGHVLA+PTzk4YP2Y5n5MSHNkwCNJkpJnl5YkSUqeAY8kSUqeAY8kSUqeAY8kSUqeAY+krcRYOH/6p3+aX5uMM74kpc2ztCRtNcbzeffdd/P7jHnDJCk9ZngkbTUGDHzw4EE+zhDBDyNKEwAxXo6kdBjwSFKGwQC53AOBD5fQOHbsmIGPlBC7tCSpBtmeuEYWQdDLL79cPCNpjszwSFINurrI9Dx+/Di/TEhK10aTtpEBjyQ1oJuL+h4Kmcn2MNnFJc2TAY8kdSDgoVvrs88+y2t75p7t4erum0CwSF0UgeNQQwGwLWNvD+8/6892bGpfannW8EjSEk6ePJnf3rt3L7+dk9dee22xt7eXd9dt4ur3BAgsm4n9yO3FixeLZ5fH/Ag+2BbmNYao7Yqmk7P67t+/b43XDJjhkaQlfPnll4vf/e53B2P3bArZkmWzC//3f/+X31KbtAks98aNG/l9aqOGypSNuT2PHj3Kb8v7/tatW/n7QSCk6TLDo6TFF+pYv/60HWjcGKmZGp9NZEpQzpYsg89EZEU2if1HV+Gqn81Nfsbp1iLYin1JEPzw4cON71vVM8OjZNEg8IU01K9IKbz00kuLK1eu5MfWJoqYL1++nNcSzTGQZ3/RnUWwwzbMFe89wc6FCxcOjgG2ice9VMk0GfAoCaSX6UsvBzf8yuILSFqHyK7Q4I2JY/3SpUuzPLZZd4IB9htBwqa61lZFwBnbwQ8rAmBwy3tjwDNNBjxKwvnz54t70nho8MbOIFIvQqMajWwX1o+zy0BDHX9zf0hN+6G8rKtXr+YT60+g2GcbmC//H9uAuE+wERM/eIbEMmN/hbgf+5+/z507lz9WRrdWeX01EdTwSHOW/UqkDi2fPvjgg+LRr/B31igVf0nD47jjGBzLqVOn9rMGt/jrK8eOHcunOP655XXg8fgM3L9/P3+Oach1zoKYfBksC/GZjOUcdh/x//HZjnkjtm1dYlu4jXXPgphe3yXs49h2TYtFy5o9ih+zL8D8l2P2JZP/6g78AmPicWkdyC5w/I3VxUQmo/y1TaFsZBs49lmPcvEs3StZg937M9DV1cS2VjMzUYDMchmokWWSwWEdeC3P8/mkyLsv1oN58H/Mg3nv7OzkE+vQd16RlWnCpUPKp5TH6+N7hG441iELgPJtrG57Hd6j6neRNs+AR7PGlxFfinwR0fCUv2R4ji8vvryX/bKV+lo2oFhVNeAhMGAiCIgAo9zgsn481rfxje1p0hTcEdSwHJZbvo/jx4/ngdAy2KZqcMF2sXwu8tpXBH/gf2O+cXv69OnOMXSWXa4Bz0QR8EhzlH0p72e/9vIUcvYFnKeRuQ2k/cuTNLTvfOc7+XFXnrLgunh2eFkjmi+jejxnjXH+WcDu7m7+mo8++ih/fTy+biyTzx9dP9x/66238vusW9fnj88y/8NtmxdffHH//PnzxV/jyQKj/WvXrhV/tWNb2Za+r9d4LFrWrMWvM359IW7BCK7lSRram2++Wdx7opqVGFJTxoDjns8CsoAnv/3rv/7r/DYeH0P58/fNb34zv2V/DPX5Y9vqioTXje06e/Zs8Vc/y75e62eXlmaLNDlfpkykp0nD073F+Ch6GmeMMPw9TLMPh27TciOP6FZal3J9TuD4j24kJupNwlifB7qPo/6FfRLdYlGD04b157PLsdl2fFa788ayTJccXetszzLdbhqHAY9mhy+TM2fO5L/0yl+kfNHwZVluCLYdDVA0kOwbGmhQg1FXh6Hl0QgHAo1la1WWxfHPctYdWI2N2iECpaZaO45lAvexs7URyPX5Xon3htf6w2J67NLSLPBFwq8svnj4JcuXCQ02tzHF63iNvhJBINkdvoRpjLnl1zT7SquLYw9jFMYT5MR7mBKOx7b9R7C+iQt01mXxmvCeXLp06aljQtNhhkezQBBD4w2+TOp+bTFcfXTbeFh/NXAa6n4Rsz95fo5X/J4a9iONHLgt7+84ZuuO11W1vb8p4pidciAR3cYGO9NlwKPZiK6ZppoAfonxfHVcjW1FV0tbtwcZMxpiT9dfTTkYZ3+WG7x1n57MMe/7J/VjwCMliIaQ9Hpb4eSy47OoWdTxUKgbAQgBOn/3KV7ltXTRplSTI02NNTxSgsjsdNXo2LgOJ2o8Ithh35OJZOpCdojXWXsmrZcBj5Qogh4yPU3eeustG9mBkJ155ZVXir8Wi8ePH+ddq13dTeX3wLPmpPWyS0tKFA0pmYa6hpTnCIYcs2hzeG9ivJy2WitJwzDgkRJGd0k5sKGRjYyCA6M1Yx8xEZCQpVlHnRN1O3Rl1RU1U19FlmhbzsCSxmDAIyWuejFIGnEzO/UIcggS2UeRGWP/gQCxKwvD/xPIdA0+GNkdan+qgScBKo9zirNnG0rDMeCRpAJjOZFtqWZWeJzHujI9Tf9fFWP31GV3eC4GipQ0HAMeScqQmWnqvuqTdWHgOQqV+9TjxHXg6roVeY7sUp8i5ihK7yqOluRZWpKUo56m6RICEQjFiMpVdFHRFcZruoIdAiuCorpT1ukS4/+7gh2CK+bD+vY59V2SGR5JyhGwtHUj8TwBSd1XJgEPAz0ytWVb2mp3+iCjwzLKNVmIrNQ6i6yluTPDI0krIitDsNTVtXT9+vX8tk93VRmBFvVBBErVYAd0pTHdunUrD8wY+ZlbMkGSvmLAI0mZGzduFPfqffrpp8W9w4szvpZB1xXBS1wYt07dc2wPQRD/y3LJLknbzC4tScq8+uqreealrjuIYIHnOZ3/sN1FBB10R1FzU83w0FUVY/K0YT2izifwv6xTXXaJ53g9E3VDft1rmxnwSFKGYIJsyOnTp586rZzHCVTqxi8ikOB/+nyNcvYV6sboIZiiu8rxkaT1MeCRpEIEMFH8C7IkUaNTPQOrb6DCPJl3XXYnlunlJQ4n3p/U9l10QY65XSyTOrOdnZ2l68zmwBoeSSrQNcRvwHPnzuV/U/TL/bpRlglUKCDuCnaYB69FXSNCsMPp7nNtsBkokW3YhAgiz5w5s3jttdeKR+ePfUrQXVegvi4cp+xHspsslyL51BjwSFIFX/pkdO7du9c4anLU5HSJM7PqXkt2gsLiCLDmJjJXmxIBz82bNxeff/55XuCNyI5Usb/jNWNjnfruK7pVyRyOicJ3rt8Gjn3+Zn2XWe+pM+CRpEOgQepK+9NY0CCj7rV0mxFUbTq7w3ryi37Zho2GcZNj/sSyq/uP4LJuWwjQNrWv+wTHgeNi7PVkX0Z9GYFhjBfFehDc89i6jBVQGfBI0iHQldXVKMVp6HX1P1PCetLgHTZ4oXHcBNaX/Uogw/3oXmR/k8mpZnqok9pEbQr7l3102P07Jrq2CM7K3bgE7UN3W/LeMM8YM2oUFC1LkoaVNRKcELJ/9OjR4pEnsoZ3/+7du8Vfm/Xmm2/uHzlypPhrebu7u/tnz54t/hpXFtjsZ4HEfhZI7J84cWI/C2aKZ/b3T506tf/1r3+9+Gs/f93rr79e/DUe1pHj4P79+8Uj3fgf3hP261jHCcvhWH3xxRf3T58+/cw67+zs5I8NjeNnrFDEDI8kLYEzs/qk4ONX/X/9138VjzzBL9qp1EV89NFHi2vXrhV/fYXsSDlDQhFtrC+n18d9tiNrIBcvvPDCoLUx8es/lsPfMX8ei1P86WYhY0PXC9mTcrcRj//xj3886Iqhu+aXv/xlfh/Mk/eS5cTEfCMrV8ZrWW7b1NTlw3OsW/miszxGZqOa3WB9wHHDe/J3f/d3g2YGy8tlW9mu2A90o3Gsvvfee3kRfRYfPLXO58+fz2+Zx5CygKe4N4Kv4h5JUpf4td4lsjt1v855jOfI8mxabE95XbKgIZ/IkLAd4DVkUcDjcX9dWEZkb8B6xDJj//XB65hPHZYR283rWAbbXfd6XsfjbVNTJqa6DryO7WJ5TNxn/mxf7O91YLmxX8ncsLx4r5vWvYz/a9ufZcyPbeI2ltckC656v5+rchweSeqBX8L88s4aiNZT0eN1WeNSe4HQvmP3jIFf62QYys0AGQ7WjylrtPLt4X7WcOWZisiA9K2F4fVZw1f89SzmyVTGekXGhP3EOrIOsUz2YZ+Lr5LF4P+r8wfzj7GWyHiwreuos6quA/uD+7EstjX20TLNMfNlnZswv9g+lLc3MA/UDYZZFcdKHAdlsf4cK037kP+rQ/YwMkrrZpeWJPUQp5d3nUIejXtTQMDz6zwN/c6dO8W9w2G9oyGl8eKCpOD0ebD+ywQGvJb/bZuqaFBZbjTQFNKWA4S+y2cAvSYx79hfbfNk+TTMbRPrVacalLB/q8tin9LoL4MghSChaaoGN9W/wf4Z4lhkmwhoCEK5rZsmIdsxkqQOdDeQfu9CFwXTWLLGMu+q4Os8JpbP+maNbfGqellDlL+++ros4DjoQuI2mgpeN9a2xXoxxfLB+rDNffB/bGOd6D7iNbGtTd07PMZ82qamdeK9ifk3GfN4KVtmX7Jv2Fd9X9/XmF1aBjySNBAaUb6811mLUUVjyTLrpj7rwf/TYJfxf/F4zJ/HaCC7gqihsFwaWZbJfW5PnDjRe99WA6UyGm2ei2CE+9wyDY31ZTlN2MfrWG4fTfunTuz/ofAexD6Pad2s4ZGkgSxTEzEEalmyhqP4q17W8Ld218TZT9WaImo++F9qZ2IZ3O/bnTSUutqTPuhiYsoCiuKRzeG4qLs8Cdj/bF/W4BePjIP9mgVjvfcPdU68duz1HJI1PJI0AOo4CBCaaiJ4fmhdwQ6i9qgJ6xt1OmXRCNNIcxv3x3aYYAfs72XrYtaFfdz0PnDMbMIyyyVwjGNgzgx4JKkFZ6Y0FaQGzk6JxjWuR1TG/8fZTUNhmX10rTsePXqUX1qi7zynjm3eVCDRhHWqC3oZB2kTbty4kb/vXTgmfvKTnyy++OKL4pEZyzu2JGkkUdPA10/UaWSNU/HstEStR9f6RUEnt1X8L8/1rT1ZBvPtmrJf5cWr21E8uo513IQPKjVJUzHV9doW1vBIGg11AFmQk5/GysSv3qhhyBqD4lXT0WfMHH4Bs00gq1Dt9mH7qJWoe24V1GCwbl2yIKx1/aVtYZeWpFEQPNDtQ/EmwQ6oCYgB5MpD7E8BAQU1MrGuTaKrioCtKaC5f//+4PUvfQtd5153IQ3FDI+ktSOTUx3RtyyeJ2iYUgPNenWtD7UvuHfvXn47JgbEqxu4LxBgXrx4sfhL2m5meCSNgq6VJgQVU8xEdK0TARHZm3WOnNyGizs2rSPdbJtaL2mKzPBIWrs+Y41El9YUa3ma0E1HDc9Y4+40ofuN4Is6IUw1gJQ2yQyPpLWjfqXrlGe6Z/oU4Y6BAKILAUZbjQ8BXJ/5DIFgksJkgsWpdQtKU2HAI2ntXnjhhcU//dM/5UFCnW9/+9trKexdFkEZZ5L9/d//ffFIPQIZApqjR4/WBjxsD9t62EHzJA3PgEfS2p09ezYPDpocOXJkUt0wb775ZnGv3T/+4z8W957G9rTVLEkanzU8kkYR49XQbcW4NGQ/yJQQGEyhDgbUGnGZha4zruKaWXXXR2Kb2Mahx92RtBozPNpqNE50PTR1tWg4NP7RbUV3EF1H3PJ3jMWzaQRiXUXTHDMEM3Rl1QU0PEdtj8GONC1meLSVGCyOiUaJKRoxulTmdJaQhkWmqStQGfuK6JKGYYZHW4luFMYoIbNAgEPjtbe3l2d6OFtI26kr2Llz504eGDu+jTQ/Zni0deJSAHVn1xDwUMfhr3dVRQ0SrM+R5scMj7YO2Z2ms4HicWt6tgtdml3imOD4qQt2uMQEwbKkaTLg0Vah0SKoaft1PpVTozUOMn59Aty2zCDPUZDtsSNNlwGPtgr1OV2N24cffpifZaP0kdlhQMSuAQIZSJBuLC7GWQ2WmQdZn1deecWBBqUJs4ZHW4ezbBiGv+nXOKdLE/DYeKWP0+IZM6fp8hAgoImxg+peF91hHi/StBnwaOtQfMpFHzk7q9xIkf25fv16/phdE9uBYKUrUJnKBUIlrcYuLW0duiQIaPjVTraHX/ncnjhx4mAsnimgkaUIlvVjikyChtMV7LDP2y4QKmk+zPBoa1HLUx1z5+LFi8W9zWK9CMAQAVjUHlEc+/LLL+f3tV4EmrwXXZeakDR9BjzSBNGNErUlUSRLtuH8+fN5sONo0KuJs/XasL/banfiFHTqwSRNnwGPNDGM59IW1ND9RgNsN8vhEOyQuen66iPopDur7nUxCKHF7dJ8WMMjTQgNadd4LgQ6njZ/eGRmujJkUbtDdqcO4+6Q/THYkebDgEeakMePH+e3bQEPXVxdYwmpHvttZ2enszsrAp2mLFpTN5ek6TLgkSbk008/Le41M7tzeGRm/vCHPxR/1eszOKWk+THgkSbka1/7Wn7bdgo6tSNdGQrV4+r4//u//1v8VY/6HjBEQRPqenwPpHkx4JEmhEaU09GbakcQ9SMaXvmaWG3XW5M0PwY80sTEmC/VK2+T9SH7QENs/ch6EPCAa2PVsatLmi9PS5cmKAYejIwPuHAlHHhwPWKf7+7uLm7fvl08+sTly5fz98CvTGmezPBIE0RAE8XJt27dyq/xRdbBYOdwGLuoKzvDPsZ7772X35YxXADPO+CjNF9meCQljW4qpraLf8ZAgk2nm/P/BEwUPUuaJzM8kpJGsNJV8xQ1O01nXvWZh6RpM+CRlCyyMpxe3hasvPXWW/nrXn/99cYzs86dO7fyaehkkQicuGRFXKW/bfiBTaBQnvV77rnn8nXkPustpcCAR1KyCFK6Bmo8cuRIfvvTn/40v60zlavoSzo8a3gkbS2yF2QxuCbWOguSOQOMK93XBV+c+bXpgIr9cObMmbwovoraprb6J2kuzPBI2lp0MdHl1TbQ46oIJui+aso0EfBsenyfOAOwDvsnRp+W5syAR1JyqI3pCiIIRAh0aOzrand4nlqWVRFUNQUTYZMBBfupa1/xfHUgTGluDHgkJYdLb9CN1CbG3aEguQ7Pr1qojL7Zo01nebq0XVtMmgNreCRNTmRoaGQJXk6fPt17wEUyKkxddSechYSm1/E8dT3U96yib5aILq9Vl3UYZJf6BFvW8mjuzPBImhQa4OjiIdgheOGSD327fXh915g5zKvtdHUCLrq5xgxANpVB6ZvF2kQwJg3JgEfSZESmgRGNr1y5kgckZBUo7CUIoa6mTfx/W8AT2SMyFm2v6wqa+uobULA+m9B3uZtaP2kodmlJmoSui3PG86t0/RAwRcNNsTJB1boRXPXJTm3yq/iv/uqvFv/xH/9R/FXP67hp7szwSJqMtgJfxqohWFml64fuLlCbM0awAzI8BDNx+YoyuuwIJDb9u/Pf//3f8/WoZqNYP/YV62ewo7kzwyNpEsiC0MC2dSVRSEygUtdNRFdVW+Ynsjsso+4ioDzPIITrLswl6KI+iHWZYl0M+4Es2lTXTzosAx5Jk0DAQ2PbdEXyCFjI8FTHzWGMGBrptquZ8xoySE1dYgQidD95RXQpTQY8kiaDU7ibvpIIRqjjuXfvXvHIE/xfV40Jr+Fsr7r/x8mTJ/Nus75FxpLmxRoeSZNB9oVuJbqnygh2yMDcvHmzeOSJ6AprC3aidqdpkEHmX1fDIikdBjySJoOuJoIXJgIZJgKgCGqqXVl0cxGsdAUqBDz8f1N9EF1l67x4qKaHYyKOMY4hpc8uLUmTQ4aHWp0oRF4l89JVu6PtwLFEwMxEsMPxQJBLsEPQ4/GRPgMeSUnrqt3RduA4IMAheKYWjC7MyOoR8PC4XZpps0tLUrKidufRo0f5rbYTBekgi1PFRWbJ8vz2t78tHlGqzPBImqU+tTtdFwilu4sujqEuI6Hpie4rjpfI8ARqwM6cOePZeVvCDI+k2SFQiexNE7op2i4QSmNHbQ/FzEpXBDpVvP8cQ/Fc9cxApccMj6RZiQEI24pMabwIZHhdW3aHeTjQYLoiKCboLdfwcHwQEMfxw98cB9WzAJUWMzySZuX69et5EXLbGTVxTa6mcXfAa+zKShvHSt17vLOzkx8bHEdvv/12frkSg530meGRNCuMy8Ov9LZghdodurPqLkMRyPCMdQFRjY/sDu991OaUMzzaTgY8kpIS4+7YuG2v6PYsv/9R5F5Xz6PtYMAjqRG1DWRJ6kY5nqJo6Fhfa3O2C6eXc3kRjgHqc6oZwMj4GPBsLwMeSU+Jgt8XX3xx8fnnnxePfmWTdS+sFw1WW+D1jW98Y/HHP/6xMbtD9ocAzkYvLQQzFy5cyO8fOXJk8eMf/zg/1bzs29/+9uI3v/lNayG70mbRsqQD/Dqm4eDspf/5n//Jr1weE48x8Zqx8eudIKxt2XRZEOwQlNUFO/wvz0XDqHQQhF+6dCl/3z/55JNngh388pe/zANdM3/bywyPpAMEDWRSmop5N5UhoYuCgKWtsaKYmYCs6SvN09Cl7WaGR9IBAp620735Bc1rxkQAxjLJzjThNQQzba/hubbnp4wuG4I+gja2VdLyzPBIS4pr76AudT5nNKpd2RtO7x3za4PrIHGhx7ZlxrWS2i4QyntW19U1dbH9Zbu7u4vbt28Xf0nqwwyP1BNdKnSbMFjZrVu38onGP7pbUtG2LZvYzvfff/+ZBr+MQIbnT58+XTxSb47BDsdW3bbv7e0djCIsqR8DHqknGhgafGpYqANhohuFjA+BUCrauqzYXs5yGRNdbJxuXIf3g6AAmzp7bF3Yrrb3guJru7ek/gx4pB4uX76cNz6czlo+LZrGmG4UbqmvmDsaUbazLpPDYwR9UwosIsvBejedrt4WNExV1C11mWtNkrQJBjxSD3QhtF2GgO6SFBofAjcChzNnzizu3LlTPPpV3RKP8dxYAQ8NPsttE/u86ZpZzCMyQMti2QS6m0AWUdKwDHikDvzaJuChO6fJo0ePinvz98UXXyx+97vf5YWx1CgxUbdEI8xzY/mHf/iHxaefflr89aw+NSw/+clPinv9EeQQJLHNjO1Cd+XYWaK2Y63sxo0bxT1JXTxLS+pAwMOgd5y91Fb4OvbZS2OgG4vGd+yCX4IZgoy2MXO4QCiaRs2N7A6BWtvozGV0SzZl6rre/yH1zUw5arDUnxkeqUM0lnV1LYEGeuxi3jGw7Zs4u6mrVojnCWTauhkJGNpqe6ragh0wv64utqH03ede7V3qzwyP1APdHHRvNH1caAwJeGyAVkd2g4Cma1RlAtC27AbBSdPZXXXI0HUhEBlrlOmom2qq5/ECqdJyDHiknghqaPCqv74JhhgrZayGcNtFdw8B6JADP/YJeDDmV2YE2nU45pYJ6KRtZ8Aj9RQNLb+sCXroKqEbhF/gY9Z3bLvoelqmNqePKQY8INtFHRW1ZGwvxx9npRnsSMsx4JGWEGPR0PBEMa+BzniigJzanKbuQwLTw7wnQwU8HCNDBmKShmHAI2kSCFQIFtqKlbuyOwREZOEOc+ZSXG29zdDdaJLG41lakjaOrBmByocfflg88qx//ud/zoOds2fPNmZQKPLtuqZWk67/oyh9k8FO21mCm0CAKs2JAY+kyfjpT39a3HvWX/zFX+S3165dy2/r7OzsNI663IVghu6yJp6BJ82bAY+kjSPDQ90Nl7aowyna1O20jasTtVVN8+iD4nO6rapjKk2hKH0KdUFkmej6o96JjBy3THQ1SlNnDY+kjepTd3Py5Mn8NOy2M7NojJlWCXjKWC8MNb8UMLp107hAdDemdsV6pcWAR9KkkbmJ7I7dSpvTp6ib5w0QNVUGPJImLbI7DrS3WX1O26fbzwE4NVXW8EiaLLqVCHRoSJuCHep7ovtJ6+EZWUqBAY+kjSBI6Sp2pRuLAuKmrAE1OydOnLBBXrOxLpoqrZMBj6SNIJhpQ0BETUjXVdNhsex6OdiiUmDAI2l0b731Vh7MNI2ZQ+YmxsRpCmYIdjgziNPIp3DKdupef/314l6zPq+RNsWiZUmjowC27YyePhcIHfo0dHWL96WKbsePP/7YwFOTZsAjaVR0VUWjWVebQxBDA+pp6NPE+0fNVIzHQ0H5pgdllPow4JE0Crqgrl+/np91RXcVXVV1DWVkERzTRdKQDHgkjYKsAGf7tJ1iDrq7OPPq3r17xSNPizOGHJNH0jIMeCQNjm4pMjRkcpap64hRlduuXcVlKOjysrtL0jIMeCQNhizO5cuX826rGD+nb7cUmZszZ87kARIFsHWoHyGIaitmlqQ6npYuaRBRzEpXE9kdLgbaJ9ghG0TdDpkbApm2Aljmv2zWSJJghkfSxhDAEOhUNV03iywQ9T1tNT6SVMcMj6SlkMmh2+r48eO9LihZh1od/rcu2MHf/u3fFvfqERA1/a8k1THgkdQbXU90KZGZ4bTyZRLEBEoEKQRKcVkJuq/oxmI+MfHYJ598UhvQkPXhNdQGsQ6S1JddWpJ6o95m2foZAh3G1SkHKAQ8BExN8yLY4fUEP00XDpWkZRjwSDMTgQNnQa1rYD66nCg8Zlltp4i3YR5MMSJvDDbYt+jYoEfSkAx4pJmg8a928xAMcPHMIQfhO3nyZF4jA+a97JWy79y5s3j77bcP5oGmIuQusS67u7uL27dvF48+i5oi5n+YwEzSdrCGR5oBupIIdiLbwe8UbnmcsWuGRIATy1gm2KHr6tVXX82DE4IUMlB0ZTGfwwZkN2/ezOezt7dXW9MTmH9khCSpFhkeSdN26tSp/bt37xZ/PY3nssCi+Gs5Fy5c2M+CqP2HDx8WjyyPZWdBCZnifGJ+WcBUPLs61u3EiRMH827CMnnNkMuWlA4zPNLERdaiqV6HLEqc9dRHZIs4LZw6Hca0WRbj4XDGVvmMK26p1yE7NGTXEvU+jLnDPKNbj22o4nmWTd2QJD2jCHwkTRTZjXfeeaf4qx4f5UuXLhV/PY2Mx/3794u/9vP7y2ZhyLKQDWI51akt69KFrFXM98///M8758dzsVz+T5L6MsMjTRz1KZzZNBTmN0QWhowOGSLmNYQXX3yxuNdsiPWWtKWKwEfSRJGJaavRIftS/ShHRiZqaw6bhSEDU86qrFIvVCfmGfVJbGuf9Y116loX9sFht11SWgx4pIkjGCBwaRJFw2U08kwEEMsiWGKeUShcDUpWUe5aaxJBT9fyIuhpey3bwr7htdyXtL0ch0eaAQpxKdQ9d+7cU6d4U8TLc1mDng/qtwrmz7yyYKd4pHtE5D7iKuox3yw4GWzAxChiRlN3F9vF6fLgCu6StpMBjzQTcaFOzqqiYaexZ7ybsMpHuTqGzWEGHKzDgIDMC00ByarKy2B/1I35E1dZ9+tO2l4WLSsJnCJNQBBX4E7x1GQyIwQMOzs7i1u3bj01uN/D4vINyyDzEvstgh0yOsxriGAHZKRinocNdngvCWqasK4xbwZhrDtlnSDIYEfabmZ4NGvRXUGXC40et/ya5xc/f5NVGBuBxLqucTWEdXVdMV+CMjIpdVmWwyIoY11ZxytXrhSPPiuyVASBH3/88UrbIilBBDzSXGVBTW1hbhSrdhW+rsPQy2T72M6swS8eORzWi+JjPvZM3K/bd8tivqwb82Sf9ylMXhZjDDF/9kMbnu+zHrH9kraHAY9m680338wbribRCM/17JyrV6/u7+zs5NvAGVPLqgY45WmIQCecPXs2n2dXMLIqApg+6/6tb33rYDuPHj1a+/7v7e0dvGao9Wb9OOYiOJ3rcSelyoBHs0XD19X49Wkgp4DGkfUcopEkUCLDUW7Qh9gHrFsEkVPHusZp9eyLpv3KfmH/rJKVY97MI/Z3eeK9kDQNFi1rtuqKU+cmrjCeNcorFVqzL6hhiWtbZY3wwW3WqB+6YDhQR8M6ZoFBPk0B+4v1qkP9Tlx/i33Avqk7Xnie/bNKzRXrUT7DrYz3oOk5SSMrAh9pdvj13FaHwa/2qR/iZB/Imhw2wxAZCraTKeY3NJazShZkHVgntplMTlMGB+wPXsex0va6w4hjrG3iPZG0eZ6lpVnjlOqmQ5hf9eAXfIpOnjx5MA4PZ0aRrRjidHLOcmO+q2aFxkD2hPeZ7Sej0yT2VdfrOJ52d3cXt2/fLh5pF8vv4testHl2aWnWOF2Zbhy6hsro6qAx4vlNoyslxrthXVfBNsW8aMDpZmIbb968uXKwE91rBAVz6YYhKGM/PH78uHWdo3uL17YFKLxmb2+vVxCDvvtpCvuTrje2i2OHW6bq50ZKGhkeac6iy6I80X0xhS6Y6HZhfbh/GHTD0H1H18i6ti/Wc5XutTnIApp8O9u6wbKgKN/XfbrAeF/iPWmbmOcm1X1GYkr5/ZbKDHiUDBqnwwYV63TYBoXtKTdUNMI02DZQq4mgh/3ZFNDEvu8KeCJQ7Jo2qWsd2/aDlBIDHmkg0ZAOEXQx0B5ZiGiUmPdQWYJoAJlnith3TG12d3fzfcA+XlW8R03Tpvdz+Thqmrr2l5QCa3ikFUVdxI0bN4pHDi/qc7IGKK83GRJ1JNToRH3KF198kd+mhv3G/mu7/lbgtbE/UtXnOJpLzZa0Cs/SklZEY3Hs2LFDj+VCUXPdta3eeOONQa/JxXoysZyUrjNV11izT2MfftBylh7BDv/f9ToCxVOnTjVey4v3j+WV8Xrmuel9TQDdhXXl+mNS0vI8j6ROUdcxVBcFtTjMi48hE0WyQ3SHgXVlXttQmxH7rzyx7XQBUp/SVfPEe8r/tL2v7Efm1VbsDJbFsqdUZ1XdN3XTUMe0NGV2aUkdOHWXTABZnKwhy38Nr4JsAOPCMB+yC9wyX35hk2lYRXldWU7d6MLbgiu2P3jwoDNLRtaGTAzvRVP3FlmayICQ7WnaryyL93DIzNyq+hyvHC9S8orAR1IDfrHzUeF2FWQcmE9MZAt4bEhRoLrqus5JeZ/GdJjtp3CX/6WguQ2vG/p9W6fYrqZpHcehNEXW8EgVUROyarYlML+YwHxjGhoZHrIRKdXodKmrUSFjU92/ZLzYL237PWp6yIowj1T2I8Xw5RqxMh5/5513ir+khOVhj7TlqLnIGsK8ToOJuo5VMD9+WTMvPmZMzH+omhrmwzoy/20X+7c81WV4eKzpubLIiLBvu96vKdXqdOF4KZ+ingV1W5UJlMzwSJmo3eCX/Sq/dsmwZA3LwRXFs0Yzn9+Qv6CpIWH+rCu/zqdUL7IJnH5+v3TqdezzuuwM2RuyHeyztrPVeF3UQlG70/S6OG7IBkmaNgMebQ0KTa9fv764detWHjDQSK3arRRdVUxl2S/pg24rimcPK651VA5qKHjmulmrrvu24uKovF9d7w2B1KVLl/L7vLYuqGFevNfgtu3CpJI2jIBHSh1dDxzupPSzxmvlroirV6/mXQLMk4n7q86zjHnF/FmWNofjhfehrfuQriFeN1SXpaThmeHR1ohf9YcVAwQyn6xhO+g6OX369EpZnCoyOHTR0DXW1DUzNdUMF+hym8O608VFxq9t4L0oZgav3fZuRG0W30Vz+GxNjQGPkkIXELUZ0TgNcXgT5NDIlRt1lkHw5JfOk3qXqiG6DMdA40FdFLrqdfoGPdt4tpw0eQQ8UgrK443QvTAE5hPzHHK+IdaZLpE5K++jmOa0TYxDwzrT5dkmLjrK1IbjhHk5vo00HY60rGTQrUTmhe6gugLTvvjFz695xnfhFz1dV2Qq+FW/ynwD86cg9vjx43lRLPNmmqsorJ4zjh3e266uydu3bx+8V20jLnMcPn78eHH+/PniEUmbZpeWZodGJrqYqHMZqp6C+cUUaLiGPKUcrD/r3Xb69JywPWxLFQHEnAO5NtG9xXY3dYOxXwiKeK6tPkjSSPI8jzQTDJ7GYcvE/VXPiuH/s6DmqQEC13HG1Zy6dw4j9l15mvs28761HV9ZMJdvJ8dL0+t4fMhjSdLhmeHRbMSYJ0NlDviFXi623d3dzSfGuBlKeRmH/ahV1zPQdTfk2WGr6Ht5hzlhn3PMtY2tE2fUOQaPNH3W8GjrEEDQ1VAXRAyFZdAYDrEMuu/q/Pd//3dxT+tAlxTBTNt7+OWXX+a3vI73m/9pk0K9kzRbZHik1NG1UO4OY6JLoq3LYhXMly6dIebPfMrrHZPWL/Y9x0oT3uMYJJKu0bb3nPl0vUbSepjhUdL4xc0vdIpLKUAGt2RN6HIZomA4upwYrycwX7pz1lmQ3JVN0Op4DzlWOH6a8B5H910WyHSevYW210haDwMeJSmCEBoq7tMY0ShlQX5+ZtQQZ3YxX04tjy4PRhYe0zqDKT3BsXLlypXir3oR9BDQtAU9vC7O2OJMvT7iWKZOion7PCZpSV8leqQ0RBdETAz+xmPrQPcE07pVtymmdW2X2t3vGEwwBpPsGsSwD5ZVfd9jYjmS+vMsLSWB7iQmfl2DbAuZHG6HyoTUXbl8LGQLYjvK9zU+rr3FcUZGp0lkYSKzeFht2Ryyl22XwpD0NLu0NFs0/AQ5dCvRPUAjFA0MDQH3V20MYhmcgUPwFAHV2MrbYQO3WdG9xXFX120FjkGm6I7qwjFWnRejcbd1XXEs9u0Wk+RIy5ohGobr16/nl2UIfPGvY9Riaib4JU1Wh/oMgw0FAhmyfg8ePCgeeVYEPIzTc/PmzcbjJ2p+yhmburGN6vgVLvVjwKPZoFGojklDFofAZ9UB+CKIYjwVgqfotopuCakOwUxXlxWZmgjOm7qhYlDN559/fvHjH/94ce7cufzvPvwKl/qxS0uzQ6NBYxCnlq9ztGGDHbXpCnbAyN3lbGQdjmG6qI4ePXrwt6RhGfBoNqihoVuJLgSG8R+ieJjMDvUTZI9olAim7LbSYZClqdbhBIIegiOCmq5T1pcJsjleJfVjl5a2GjUYBFFxVpd0WBS2P378uPXMqajpaeraKiOAOnPmTGuhPEGUWUipHwMebRUaEep0bCS0DlHIPFTQw+uaztQiSOf/p4LtJjgbcigIaUh2aWkrEOjQeFD7w620DmRcdnZ28sxME4Jtuk8JDtpeh6bCZa7qP5Vg586dOwfDNkQg52dMU2SGR8kr/6Lm7Bcmf4FqXajPoaC+K4vIMcmxSVDTdsp6vC6GReA43sTgl3XI6hDo1GG7qLWTpsKAR8mjAWKaSiMhhQhmurq3ImPS56ywMTH4YluNEUHf1NZZ28suLSWFM65oHPjlGWhEDHa0KQQ0dKnWIRgoj9FTPm7LeN3URlVmu9qCHfAaPpPSFJjhGQFfYnNvcMmQ8MVFd9AUxwj5y7/8y8WjR48WX375ZV7f8N577zmWyZagUeX4JLDlFmQWmrIlY4sRk7/73e8u/u3f/i2/X1UenLDtdYGgftMjfxOgxf5uwzp2BUbSKAh4Upb9MhrlitZNsl9l+9kXw/6pU6fy+6uK+bFdY7l79+7BMk+cODHIdmwS688xUZ40X3yNVaepvadc9ZzPUNd68Xyf9edzyPyyQKJ4ZHyxrl3T1N4Lba9ZBTzLfrh5PY00H7pN4UuJgGHI9eALZOyAJ/s1md9n2fEFxjqMuR5DKX8Zx6T5qns/p9jI8n3EZ6kL6842ENS0fefxuk0GPfGd1jXN8TtCaZrNNz0fmsN+ifGh26ShszLsh7G/RPhSjS+w8hcsmas+X+JTwjrHtsSk+aq+l0xTDHiWEUFP1/cG3y3xY2QT6j5L5Wnu74PSMpsaHvrBD7uqq/zvEKgxiMLFIU7TpP8++yLpPO11HV577bXF559/frAdsW3Zl3L+9xzUXYV6Jh8D1ah7P/lsTP2Y5HPDqdtNtWZ81vb29vL7DJY5xZo0vtPYhiZTXW9tp1mcpfXuu+9O7gyFPijoIzhhnAq+fPnwU5w4N+x/JlAMzHYEGhaKsvsUL0p6gs9U20VFb9++ffCj5vz58/nt1BDM8N127NjT1/TiO89gR1MziwwPv+AePnzY+4yEOGMD/Ioi6IgP5VhnS8WZWYxTEV9abANfcF1fAqw/U9268iXJNrF9zHfI6z8xX8T6ItYlAs67xRXKy6/hYohDr8s6jZnh4dgDxx7vP7dXrlzJH9Mw+BERQXjsZ47XqZ8ZyeeKzw7r2/b9xjHEZ5Mgom105fic9vmOWRe+99iOvt/V0qgIeKYsa1xpiYq/vpJ9OeR9x1kjm9+Pv3kt9SS8nlse57GYhqo1Yb4UFMY6gL50/gbPldc5ls//daE/nv9lKs877q8L84/lRrEk+6vPcsdYvyHF+sbE3+sS+7Q8SSG+Szgu2r4fOEZ5TXzHNMkCvvx1fN9Ietrkv32jUSrjC4IPNB/s7Jfdwf2w7g8865P9inpq3cr39/b2nlqfvvg/to1tYor73K4T+yrWneXt7u4ebF8f5f/X0zgOqpN0GHzGOH66vg/47PK6dX4HSnM0+RoeulCYyv7whz8sbty4Ufy1WPz85z8v7j3x29/+trjXjhQsKeO2ideUMcAdPvroo8VvfvOb/D4pZ1LK+M///M/8dlmkohk4L7Cc7Jddnu5eBl02bVN1e6r7FwwyyPb1wXtRNw9Jw8t+lOQX64zvmyZ8d0l6YvI1PPGhzX6t5LeBvm/6iXmc+6dOnTqojaBu5sGDB/n9PqJ2pQnzrvZJx9kJLJ+6AV5DYMLrWGf+XrWmhcCE+RBMjF2PwD5k/ftsA8ER61h9j7Zd0xksU/rIcYxxdW8a0fBGqT5L4+PzxHvQVAfD9xXfMXzvtF1/S1IFAc+U0XdNv3QVq541sM/cpwZmjHEpIm0Mlh33s4Y/Tzm39ceD/8mCmc7X1W37GPqsWyDVvs46mDnjuKhOU8H7W7d+8VnSZvB54nNP93KT+P7hdX0/p9K2m3yXFr90sg/0M+lbuno4Yyl+6cR9Mg1jnC108eLFfN3IhLDsuM+vL8ao6furq60riHlt6kwT9nffbSBLwPbrWVnw8Mw0FV1dItoMjhE+92QHm7LPfP/wvQi+/7qy1PHdJG21IvCZNDIm2ZdA8Vc6+JXWtl380tvEdrNeLLuPMYqqtR68d3wFVKcUP2tzxMkDvB9tmZ7ye9gnI8SJEdK2msXAgzdv3sz7tVNz69at1szIpn6B80uQX419ZF+k+RXUNT9ZA1nc0xQx8CDZnrYxdWLgP5w5c6bxOyMy0lkQZaZHW2s2l5ZoKl6eq/hiaus2Yps3sb0M5EYQ09WlRVfWWF2IGh4NX3yuyjjmxuii5PiJbplAoD31AQOXFUX9VUN+tuO9ZP/xA7EpSOKzzY+UmXztS4OaTcADPtRjfBFL24Cgm0ayGthSHzdG0MGyq9kGPt+p/KgJdduJZb96mc/Vq1cbf4iUA9ixglZpTmYV8EhKx5/92Z8tYkyrQGNezfrMHVmXuq6mZb96GUPr+eefX/zN3/xNY1D4wx/+cPHhhx/m948ePbr49a9/3RggsU5kn8jQdmVzpRTMooZHUnq+9a1vFfeeYNyp1Ay1TQSCBDFtrl27lndZgeBI0hMGPJI2oqnAVvXIwsTFQxlpuQ6voUCZDBABEoOyNu3nyKa1vUZKiQGPJM0EQQrBDGN9tYlaqK6AhtdQr5XiWbBS1VpreBhav+2USknbK85eosuHBpmGN8WztNi2x48f55fwCGPVzJTP3vIyFNp2Fi1L0oxxqjkZna5T0Rm5uSszJKXMLi1JmjEGkOwz6CCv63OV9SGxrLpT8scSy6e3YQhxCaOh5tcH20DQynJZvg7PgEeSZizqcLpqdSLoGatImUaaMZ1YFtfyGmOZZQxsSVcehggW+H/2M2MhMT+mMbAPydDxHtIFbL3V4RnwSNLMRdDT1gjzGhpOCplpRJe1bKaGZRFwMM4P63aYZa6KZUZ3X9uFmvuI+idumedYmSu2gUCVAI6gMdaDAMyMz5Ko4ZEkbYcs8Gm90GhVFihQ55lfgHQZXKiU5bC8nZ2dpf9/CB999NF+FnTl6//d7363eHQ1WbCTzy8LRIpH1ov9z75jmexHlh94zIs392eGR5ISRNdHXTdSZDz6ImtEdohaoGX84Ac/OMhMcKHk8llqYyD7wajTDx48yEe1/uSTT/J1OSz2JfPkrEL2B5myMbD/2Y9sw/nz54tHv8I68JzdXP0Y8EhSgmigV63XoduG7iiCpLJq4BDL4Da6ergUBo01NS8ECUOeEs/yy11K5fUhKOE51pluLNaBdSFIYVvaxPqX581j8TgBBvPk/pCjgjM/1pMp9iXbxMR6g+cQfyP26arddVsjz/NIkpJD90e5C2RZ/G+16ybmGfPNGuC8a4WuF1677maF5bFsuqq4D5YZ68PjcX8ZsR38L7dZoJY/zt+xnHVg3rHOWRCV3wf3swArv98m1lfdHIdHmrj4xcmpsKSvGU8FjqmidYvMSNao5n/HsRh4Lsb5oSnhGOX4XGezQqaD5bEcls8t097eXt6NFuvIc8vglH3+J7r7+JvPWNz2wfaX90+datcg21NeV/5mf/fdhvL+Vzu7tKSJiy9wgh1wG/eldTpWnNYd6Mahi4qulujSobGNgIg6nWW6epgPQVXbVMXy4/hnuXGfYAfMM9ZnGe+///5TtU3cJ9g5ffp08Ug3RtSOz2fTFF1Wge0pY90JepbZj+rHDI80cXz51f1q9KOrdWP8nCtXrjwVQESwE3UjEQRx+nkUz3J/nfhMEDhwuQzuI7Ih1C3FRVZXwbZwSjh1O0PWH3Vhuwg0+36+4/vB74NuZngkSbUo8q0G23F2EkFA3EcU9q472KliuZE1ofHvs3wCOaY2zJNAb8xgB7Hcvtjnh8lobSMDHklSragXK6Nx5XGyEAQYu7u7eSaEv+kWGgPdaGSY6PKiy4muJO6zXn0af7JWXafJE8y9/fbbxV/jYbl1+71OXOLCgKcfAx5p4jzlVJtU152agnJ2qs6mtpuuNGp9+vj5z3+e3z569Ci/VTtreKSJo2Yivpz5RReFlf6q0xhogAm6+5wxNBdsE11VTZ8hPnNkrxi0cGx0tVGD1NWVRtcX61gttlYzAx5JUitOfSbrkFLQ0ybqgroGKlwHgq0+yyUDRcH42DVGc2bAI0nqRABg46o5M+CRJEnJM+CRtBTqBqpIrY99OvIqYnTaMs4y2kTNhqRxGPBIWkrd6LcUf86pvqMu4IFfh1K6PC1dkiQlz4BH0srmNlYQF5qUtF0MeCStbG4XOmR04DLqd5gkpcsaHklLiYEQqdthLBAChU2MVyJJyzDgkSRJybNLS5IkJc+AR5IkJc+AR5IkJc+AR5IkJc+AR5IkJc+AR5IkJc+AR5IkJc+AR5IkJc+AR5IkJc+AR5IkJc+AR5IkJc+AR5IkJc+AR5IkJc+AR5IkJc+AR5IkJc+AR5IkJc+AR5IkJc+AR5IkJc+AR5IkJc+AR5IkJc+AR5IkJc+AR5IkJc+AR5IkJc+AR5IkJc+AR5IkJc+AR5IkJc+AR5IkJc+AR9oyv//97xevvvpqPh0/fnxx+fLl4hlJSpcBj5Q4Apwf/ehHi5/97Gf533fv3s2njz/+eHHlypXFpUuXFr/4xS/y5yQpVQY8UuIIZpgIcvDGG28s9vf388cIggh4eEySUmbAIyXuwoULxb2nffbZZ4vHjx8Xf0lS2gx4pIRFNxYiw1P2xRdf5Bmed999t3hEU0b3pKTDMeCREkbAc/Xq1fz+qVOn8luCG6aLFy8u7ty5kz/28OHD/FbT9tJLLxX3JC3LgEdKFEENtTnVRpLHqN+hkJmJDM8HH3xQPCtJaXpun+pFSUmJU88fPHhwENwQ6BjYSNpWZnikBF2/fj0/5byMImVJ2lZmeKTEkN05duxY8dfT/LhL2lZmeKQE0G2F6MqiCJngJiZJ2nYGPFICqNE5efJkHuzQldV0Ng/P/+pXvyr+kqTtYcAjJeL+/fuLF154oXbUZM7EAgMNfv/738/vS9I2sYZHSgBdWQwsyFg7jtUiSc8y4JEkScmzS0uSJCXPgEeSJCXPgEeSJCXPgEeSJCXPgEeSJCXPgEeSJCXPgEeSJCXPgEeSJCXPgEeSJCXPgEeSJCXPgEeSJCXPgEeSJCXPgEeSJCXPgEeSJCXPgEeSJCVusfj/p5Zc30MPevcAAAAASUVORK5CYII=)"
      ],
      "metadata": {
        "id": "AUDjQJgd4vnc"
      }
    },
    {
      "cell_type": "markdown",
      "source": [
        "For this piecewise-linearly separable problem, infinitely many $(\\textbf{w}^i, b^i)$ exist that satisfy first inequality. Intuitively, the ***optimal*** $(\\textbf{w}^i, b^i)$ provides the **largest margin** of classification. So in\n",
        "an approach analogous to the two-class support vector machine (SVM) approach, we add regularization terms."
      ],
      "metadata": {
        "id": "BEqGbPbxwDxQ"
      }
    },
    {
      "cell_type": "markdown",
      "source": [
        "The margin of separation between the classes $i$ and $j$, i.e., the distance between the supporting hyperplanes of the halfspaces\n",
        "$$(\\textbf{w}^i - \\textbf{w}^j)^T \\textbf{x} +(b^i -b^j) \\geq 1, \\qquad \\textbf{x}\\in \\omega_i$$\n",
        "$$(\\textbf{w}^j - \\textbf{w}^i)^T \\textbf{x} +(b^j -b^i) \\leq -1, \\qquad \\textbf{x}\\in \\omega_j$$\n",
        "\n",
        "is $\\frac{2}{\\|\\textbf{w}^i - \\textbf{w}^j\\|}$.\n",
        "\n",
        "So we would like to minimize $\\|\\textbf{w}^i - \\textbf{w}^j\\|$ for all $i,j=1,\\ldots,k, \\ i\\neq j$.\n",
        "\n",
        "Also we will add the regularization term\n",
        "$$\\frac{1}{2}\\sum_{i=1}^k \\| \\textbf{w}^i \\|^2$$\n",
        "to the objective."
      ],
      "metadata": {
        "id": "AZZOqL-3waOO"
      }
    },
    {
      "cell_type": "markdown",
      "source": [
        "For the piecewise-linearly separable problem we get the following\n",
        "\\begin{eqnarray}\n",
        "\\min_{\\textbf{w}^i, b^i} \\frac{1}{2}\\sum_{i=1}^k\\sum_{j=1\\\\ j\\neq i}^{k} \\| \\textbf{w}^i-\\textbf{w}^j\\|^2+\\frac{1}{2}\\sum_{i=1}^k \\| \\textbf{w}^i \\|^2& &\\\\\n",
        "\\text{s.t.} \\left(\\textbf{w}^i-\\textbf{w}^j \\right)^T\\textbf{x}_t + (b^i-b^j) &\\geq& 1 \\qquad i,j=1,\\ldots, k, \\ i\\neq j, \\ \\textbf{x}_t\\in \\omega_i\n",
        "\\end{eqnarray}"
      ],
      "metadata": {
        "id": "TIYcmRVXzet1"
      }
    },
    {
      "cell_type": "markdown",
      "source": [
        "## **References**\n"
      ],
      "metadata": {
        "id": "LLENCNpJd1Vu"
      }
    },
    {
      "cell_type": "markdown",
      "source": [
        "- Hsu, C.W. & Lin, C.J. (2002) *A comparison of methods for multiclass support vector machines*, in **IEEE Transactions on neural Networks**, 13(2): 415-425.\n",
        "\n",
        "- Bredensteiner, E.J. & Bennett, K.P. (1999) *Multicategory classification by support vector machines*, in **Computational Optimization and  Applications, 12: 53-79."
      ],
      "metadata": {
        "id": "H0WNf31Ud2t7"
      }
    }
  ]
}