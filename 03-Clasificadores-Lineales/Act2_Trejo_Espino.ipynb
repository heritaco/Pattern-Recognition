{
 "cells": [
  {
   "cell_type": "code",
   "execution_count": 10,
   "metadata": {},
   "outputs": [],
   "source": [
    "import pandas as pd\n",
    "import numpy as np\n",
    "from scipy.stats import norm, bernoulli, multinomial, gaussian_kde, shapiro, kstest, poisson\n",
    "from sklearn.metrics import confusion_matrix, ConfusionMatrixDisplay\n",
    "import matplotlib.pyplot as plt\n",
    "from sklearn import metrics\n",
    "import scipy.stats\n",
    "from sklearn.metrics import classification_report"
   ]
  },
  {
   "cell_type": "code",
   "execution_count": 11,
   "metadata": {},
   "outputs": [],
   "source": [
    "# intente con la multinomial (mala idea)\n",
    "def probability_categorical(attribute, value, Iwi):\n",
    "    exitoIwi = len(Iwi[Iwi[attribute] == value])\n",
    "    nIwi = len(Iwi)\n",
    "    p = exitoIwi/nIwi\n",
    "    return p"
   ]
  },
  {
   "cell_type": "code",
   "execution_count": 12,
   "metadata": {},
   "outputs": [],
   "source": [
    "def fit(predictoras, apredecir, dictionary_of_distributions, esnormal):\n",
    "    \n",
    "    # confirmation message\n",
    "    if esnormal: print('Fitting con normal')\n",
    "    else: print('Fitting con kde')\n",
    "    \n",
    "    # lo estaba haciendo con df :p\n",
    "    df = pd.concat([predictoras, apredecir], axis=1)\n",
    "\n",
    "    # para que los wi[i] esten boniton (wi[3] sean los de la clase 3)\n",
    "    df = df.sort_values(by=apredecir.name)\n",
    "    \n",
    "    classes = apredecir.unique()        # M\n",
    "    total = len(df)                     # total\n",
    "    attributes = predictoras.columns    # X_i i \\in {1, 2, ...}\n",
    "\n",
    "    Iwi = []        # Iwi (given wi)\n",
    "    pwi = []        # a priori probability\n",
    "    pxjIwi = []     # p(X_j|w_i) \n",
    "\n",
    "    newdistributions = {}   # diccionario con las distribuciones que se van a usar\n",
    "\n",
    "    for i in range(len(classes)):                   # For every class\n",
    "\n",
    "        # Las probabilidades a priori de cada clase en Y. Es decir, P(Y=y_i)\n",
    "\n",
    "        Iwi.append(df[df[apredecir.name] == classes[i]])    # un dataframe con las X que son de la clase i\n",
    "        pwi.append(len(Iwi[i])/total)                       # Append the a priori probability\n",
    "        pxjIwi.append([])                                   # las distribuciones condicionales de cada atributo \n",
    "\n",
    "        # creamos un diccionario con las distribuciones de cada atributo para la clase i\n",
    "        newdistributions[classes[i]] = {}                   # las distribuciones de cada atributo\n",
    "\n",
    "\n",
    "        # Las funciones de masa o densidad de probabilidad condicionales\n",
    "\n",
    "        for attribute in attributes:\n",
    "\n",
    "            if dictionary_of_distributions[attribute] == 'categorica':\n",
    "\n",
    "                if len(Iwi[i][attribute].unique()) == 2:\n",
    "                    newdistributions[classes[i]][attribute] = 'bernoulli'   # al final ya no se usa el diccionario, pero queda bonito\n",
    "                    teta = Iwi[i][attribute].mean()\n",
    "                    un_pxiIwi = bernoulli(teta)             \n",
    "                    pxjIwi[i].append(un_pxiIwi)                             # guardamos la distribucion condicional bernoulli\n",
    "                    \n",
    "                else: \n",
    "                    newdistributions[classes[i]][attribute] = 'multinomial' # avisamos que es multinomial\n",
    "                    # multinomial (1, p) es la distribucion de probabilidad de un vector de 1 elemento con probabilidad p\n",
    "                    un_pxiIwi = multinomial(1, Iwi[i][attribute].value_counts(normalize=True))  # vivi una falacia del concorde, pero no sabia como asignarle una distribucion a cada valor\n",
    "                    pxjIwi[i].append(un_pxiIwi)\n",
    "                    \n",
    "                    \n",
    "\n",
    "            elif dictionary_of_distributions[attribute] == 'entera':\n",
    "                newdistributions[classes[i]][attribute] = 'poisson'         # avisamos que es poisson\n",
    "                lambda_ = Iwi[i][attribute].mean()\n",
    "                un_pxiIwi = poisson(lambda_)\n",
    "                pxjIwi[i].append(un_pxiIwi)                                 # guardamos la distribucion condicional poisson   \n",
    "\n",
    "\n",
    "            elif dictionary_of_distributions[attribute] == 'continua':\n",
    "                # depende que se pidio\n",
    "                if esnormal:\n",
    "                    newdistributions[classes[i]][attribute] = 'normal'\n",
    "                    xbar = Iwi[i][attribute].mean()\n",
    "                    s = Iwi[i][attribute].std()\n",
    "                    un_pxiIwi = norm(xbar, s)\n",
    "                    pxjIwi[i].append(un_pxiIwi)\n",
    "                    \n",
    "                else:\n",
    "                    newdistributions[classes[i]][attribute] = 'kde'\n",
    "                    un_pxiIwi = gaussian_kde(Iwi[i][attribute])\n",
    "                    pxjIwi[i].append(un_pxiIwi)\n",
    "                    \n",
    "\n",
    "\n",
    "    return pxjIwi, pwi, Iwi, classes, attributes, newdistributions"
   ]
  },
  {
   "cell_type": "code",
   "execution_count": 13,
   "metadata": {},
   "outputs": [],
   "source": [
    "# la usamos para la multinomial\n",
    "def numtoarray(num, size):\n",
    "    # no acepta floats\n",
    "    num = int(num)\n",
    "    array = [0] * size\n",
    "    array[num] = 1  # ponemos un 1 en la posicion del num\n",
    "    return array"
   ]
  },
  {
   "cell_type": "code",
   "execution_count": 14,
   "metadata": {},
   "outputs": [],
   "source": [
    "def predict(pxjIwi, pwi, Iwi, classes, attributes, newdistributions, age, sex, chest_pain_type, resting_blood_pressure, cholesterol, fasting_blood_sugar, resting_ecg, max_heart_rate, exercise_induced_angina, st_depression, slope, number_of_major_vessels, thal):\n",
    "\n",
    "    # P(w_i|x) = P(w_i) * \\Pi p(X|w_i)\n",
    "    Pwis = []\n",
    "    \n",
    "    # its easier \n",
    "    attributes_values = [age, sex, chest_pain_type, resting_blood_pressure, cholesterol, fasting_blood_sugar, resting_ecg, max_heart_rate, exercise_induced_angina, st_depression, slope, number_of_major_vessels, thal]\n",
    "\n",
    "\n",
    "    for i in range(len(classes)):\n",
    "\n",
    "        # It depends on the distribution\n",
    "\n",
    "        # a priori probability\n",
    "        Pwi = pwi[i]\n",
    "        for attribute in range(len(attributes_values)):\n",
    "            \n",
    "            # el diccionario puede entrar a i porque es un num, attributes[attribute] es el nombre del atributo (attributes[0] = 'Age')\n",
    "            # newdistributions[1]['Age'] == 'kde' o 'normal' \n",
    "\n",
    "            # if its poisson\n",
    "            if type(pxjIwi[i][attribute]) == scipy.stats._discrete_distns.bernoulli_gen:\n",
    "                # pxjIwi[i][attribute] es donde esta una distribucion\n",
    "                evaluation = pxjIwi[i][attribute].pmf(attributes_values[attribute])\n",
    "                Pwi *= evaluation\n",
    "\n",
    "            # if its normal\n",
    "            elif type(pxjIwi[i][attribute]) == scipy.stats._continuous_distns.norm_gen:\n",
    "                evaluation = pxjIwi[i][attribute].pdf(attributes_values[attribute])\n",
    "                Pwi *= evaluation\n",
    "\n",
    "            # if its kde\n",
    "            elif type(pxjIwi[i][attribute]) == scipy.stats._kde.gaussian_kde:\n",
    "                evaluation = pxjIwi[i][attribute].pdf(attributes_values[attribute])\n",
    "                Pwi *= evaluation\n",
    "\n",
    "            # if its bernoulli\n",
    "            elif type(pxjIwi[i][attribute]) == scipy.stats._distn_infrastructure.rv_discrete_frozen:\n",
    "                evaluation = pxjIwi[i][attribute].pmf(attributes_values[attribute])\n",
    "                Pwi *= evaluation\n",
    "\n",
    "            # if its multinomial\n",
    "            elif type(pxjIwi[i][attribute]) == scipy.stats._multivariate.multinomial_frozen:\n",
    "\n",
    "                name_of_attribute = attributes[attribute]\n",
    "                \n",
    "                # the size of the array depends on the Iw_i    \n",
    "                num = attributes_values[attribute]\n",
    "                size = len(pxjIwi[i][attribute].p)\n",
    "\n",
    "                # unique values of the attribute\n",
    "                unique_values = Iwi[i][name_of_attribute].unique()\n",
    "                unique_values = unique_values.tolist()\n",
    "                unique_values.sort()\n",
    "\n",
    "                # replace the float for ints\n",
    "                unique_values = [int(i) for i in unique_values]\n",
    "\n",
    "                # get the index of the value\n",
    "                if num in unique_values:\n",
    "                    num = unique_values.index(num)\n",
    "\n",
    "                    # get the array because multinomial needs an array\n",
    "                    arrvalue = numtoarray(num, size)\n",
    "\n",
    "                    evaluation = pxjIwi[i][attribute].pmf(arrvalue)\n",
    "                    Pwi *= evaluation\n",
    "\n",
    "                else:\n",
    "                    # if the value is not in the unique values, then we return 0\n",
    "                    # (sometimes it can happen)\n",
    "                    evaluation = 0\n",
    "                    Pwi *= evaluation\n",
    "\n",
    "\n",
    "        # list of P(w_i|X)\n",
    "        Pwis.append(Pwi)\n",
    "\n",
    "    # because of the multlinamial, pwis is a list of nparrays\n",
    "    values_pwis = np.array(Pwis)\n",
    "    argmax = np.nanargmax(values_pwis)  # it must be nanargmax because it can have nan values (i suffured because of this)\n",
    "    \n",
    "    return argmax"
   ]
  },
  {
   "cell_type": "code",
   "execution_count": 15,
   "metadata": {},
   "outputs": [],
   "source": [
    "def probar_el_clasificador(predictoras, apredecir, classes, Iwi, distributions, esnormal, pxjIwi, pwi, attributes):\n",
    "\n",
    "    # Shuffle the rows\n",
    "    for clase in range(len(classes)):\n",
    "        # sample(frac=1) shuffles the rows of the dataframe and reset_index(drop=True) resets the index\n",
    "        Iwi[clase] = Iwi[clase].sample(frac=1).reset_index(drop=True)   \n",
    "\n",
    "\n",
    "    # Esto era le que estaba pensando de hacer muchos train y test y el promedio de los resultados\n",
    "\n",
    "    # Es un minitrain porque se divide por los Iwis ↓↓\n",
    "    minitrain = []\n",
    "    minitest = []\n",
    "\n",
    "    # Se hace asi para tener al menos un wi de cada clase\n",
    "    for clase in range(len(classes)): \n",
    "        minitrain.append(Iwi[clase].iloc[:  int(len(Iwi[clase])*0.8), :])   # 80% of the rows\n",
    "        minitest.append(Iwi[clase].iloc[int(len(Iwi[clase])*0.8):, :])      # 20% of the rows\n",
    "\n",
    "    # Un traindf ya es un train bien hecho con todas las clases (del 80%)\n",
    "    traindf = pd.concat(minitrain, ignore_index=True)\n",
    "    testdf = pd.concat(minitest, ignore_index=True)\n",
    "\n",
    "    # Vamos a .fit el traindf\n",
    "    predictoras_train = traindf[predictoras.columns]    # No es un iloc porque la que queremos predecir puede no ser la ultima\n",
    "    apredecir_train = traindf[apredecir.name]\n",
    "\n",
    "    # Fitteamos ajajja el modelo con el traindf\n",
    "\n",
    "    # fit(predictoras, apredecir, dictionary_of_distributions, esnormal=False):\n",
    "    # return pxjIwi, pwi, Iwi, classes, attributes, newdistributions\n",
    "    pxjIwi, pwi, Iwi, classes, attributes, newdistributions = fit(predictoras_train, apredecir_train, distributions, esnormal)\n",
    "\n",
    "    # Vector de predicciones\n",
    "    predictions = []\n",
    "    \n",
    "    # Vamos a .predict el testdf\n",
    "    for i in range(len(testdf)):    # con todos los datos del testdf\n",
    "\n",
    "        # lo siento se ve feo\n",
    "        agetest = testdf.iloc[i, 0]\n",
    "        sextest = testdf.iloc[i, 1]\n",
    "        chest_pain_typetest = testdf.iloc[i, 2]\n",
    "        resting_blood_pressuretest = testdf.iloc[i, 3]\n",
    "        cholesteroltest = testdf.iloc[i, 4]\n",
    "        fasting_blood_sugartest = testdf.iloc[i, 5]\n",
    "        resting_ecgtest = testdf.iloc[i, 6]\n",
    "        max_heart_ratetest = testdf.iloc[i, 7]\n",
    "        exercise_induced_anginatest = testdf.iloc[i, 8]\n",
    "        st_depressiontest = testdf.iloc[i, 9]\n",
    "        slopetest = testdf.iloc[i, 10]\n",
    "        number_of_major_vesselstest = testdf.iloc[i, 11]\n",
    "        thaltest = testdf.iloc[i, 12]\n",
    "\n",
    "        # def predict(pxjIwi, pwi, Iwi, classes, attributes, newdistributions, age, sex, chest_pain_type, resting_blood_pressure, cholesterol, fasting_blood_sugar, resting_ecg, max_heart_rate, exercise_induced_angina, st_depression, slope, number_of_major_vessels, thal):\n",
    "            # return argmax\n",
    "        predictpredict = predict(pxjIwi, pwi, Iwi, classes, attributes, distributions, agetest, sextest, chest_pain_typetest, resting_blood_pressuretest, cholesteroltest, fasting_blood_sugartest, resting_ecgtest, max_heart_ratetest, exercise_induced_anginatest, st_depressiontest, slopetest, number_of_major_vesselstest, thaltest)\n",
    "        predictions.append(predictpredict)\n",
    "        \n",
    "    # add the predictions to the dataframe\n",
    "    testdf[\"PREDICT PREDICT\"] = predictions\n",
    "\n",
    "    return testdf"
   ]
  },
  {
   "cell_type": "code",
   "execution_count": 16,
   "metadata": {},
   "outputs": [],
   "source": [
    "def matriz_confusion(y_true, y_pred, cmap='Blues', title='Matriz de Confusión', xlabel='Predicciones', ylabel='Verdaderos'):\n",
    "\n",
    "    cm = confusion_matrix(y_true, y_pred)\n",
    "\n",
    "    fig, ax = plt.subplots(figsize=(4, 4), dpi=150)\n",
    "    disp = ConfusionMatrixDisplay(confusion_matrix=cm)\n",
    "    disp.plot(cmap=cmap, ax=ax, colorbar=False)\n",
    "    # 'Accent', 'Accent_r', 'Blues', 'Blues_r', 'BrBG', 'BrBG_r', 'BuGn', 'BuGn_r', 'BuPu', 'BuPu_r', 'CMRmap', 'CMRmap_r', 'Dark2', 'Dark2_r', 'GnBu', 'GnBu_r', 'Grays', 'Greens', 'Greens_r', 'Greys', 'Greys_r', 'OrRd', 'OrRd_r', 'Oranges', 'Oranges_r', 'PRGn', 'PRGn_r', 'Paired', 'Paired_r', 'Pastel1', 'Pastel1_r', 'Pastel2', 'Pastel2_r', 'PiYG', 'PiYG_r', 'PuBu', 'PuBuGn', 'PuBuGn_r', 'PuBu_r', 'PuOr', 'PuOr_r', 'PuRd', 'PuRd_r', 'Purples', 'Purples_r', 'RdBu', 'RdBu_r', 'RdGy', 'RdGy_r', 'RdPu', 'RdPu_r', 'RdYlBu', 'RdYlBu_r', 'RdYlGn', 'RdYlGn_r', 'Reds', 'Reds_r', 'Set1', 'Set1_r', 'Set2', 'Set2_r', 'Set3', 'Set3_r', 'Spectral', 'Spectral_r', 'Wistia', 'Wistia_r', 'YlGn', 'YlGnBu', 'YlGnBu_r', 'YlGn_r', 'YlOrBr', 'YlOrBr_r', 'YlOrRd', 'YlOrRd_r', 'afmhot', 'afmhot_r', 'autumn', 'autumn_r', 'binary', 'binary_r', 'bone', 'bone_r', 'brg', 'brg_r', 'bwr', 'bwr_r', 'cividis', 'cividis_r', 'cool', 'cool_r', 'coolwarm', 'coolwarm_r', 'copper', 'copper_r', 'cubehelix', 'cubehelix_r', 'flag', 'flag_r', 'gist_earth', 'gist_earth_r', 'gist_gray', 'gist_gray_r', 'gist_grey', 'gist_heat', 'gist_heat_r', 'gist_ncar', 'gist_ncar_r', 'gist_rainbow', 'gist_rainbow_r', 'gist_stern', 'gist_stern_r', 'gist_yarg', 'gist_yarg_r', 'gist_yerg', 'gnuplot', 'gnuplot2', 'gnuplot2_r', 'gnuplot_r', 'gray', 'gray_r', 'grey', 'hot', 'hot_r', 'hsv', 'hsv_r', 'inferno', 'inferno_r', 'jet', 'jet_r', 'magma', 'magma_r', 'nipy_spectral', 'nipy_spectral_r', 'ocean', 'ocean_r', 'pink', 'pink_r', 'plasma', 'plasma_r', 'prism', 'prism_r', 'rainbow', 'rainbow_r', 'seismic', 'seismic_r', 'spring', 'spring_r', 'summer', 'summer_r', 'tab10', 'tab10_r', 'tab20', 'tab20_r', 'tab20b', 'tab20b_r', 'tab20c', 'tab20c_r', 'terrain', 'terrain_r', 'turbo', 'turbo_r', 'twilight', 'twilight_r', 'twilight_shifted', 'twilight_shifted_r', 'viridis', 'viridis_r', 'winter', 'winter_r'\n",
    "    \n",
    "    ax.set_title(f'{title}\\n', fontsize=10, fontweight='bold')\n",
    "    ax.set_xlabel(xlabel, fontsize=8)\n",
    "    ax.set_ylabel(ylabel, fontsize=8)\n",
    "    \n",
    "    plt.show()"
   ]
  },
  {
   "cell_type": "code",
   "execution_count": 17,
   "metadata": {},
   "outputs": [],
   "source": [
    "class bayes_naive:\n",
    "    # solo ponemos lo que teniamos en las funciones, es mas facil de leer asi, el trabajo de antes estaba feito\n",
    "    def __init__(self, normalokde):\n",
    "\n",
    "        if normalokde == 'normal' or normalokde == 'Normal':\n",
    "            self.esnormal = True\n",
    "            print('Se usara la distribucion normal')\n",
    "        else:\n",
    "            self.esnormal = False\n",
    "            print('Se usara la distribucion kde')\n",
    "\n",
    "    # fit(predictoras, apredecir, dictionary_of_distributions, esnormal=False):\n",
    "        # return pxjIwi, pwi, Iwi, classes, attributes, newdistributions\n",
    "    def fit(self, predictoras, apredecir, dictionary_of_distributions):\n",
    "        self.pxjIwi, self.pwi, self.Iwi, self.classes, self.attributes, self.newdistributions = fit(predictoras, apredecir, dictionary_of_distributions, self.esnormal)\n",
    "\n",
    "        self.predictoras = predictoras\n",
    "        self.apredecir = apredecir\n",
    "        self.dictionary_of_distributions = dictionary_of_distributions\n",
    "        \n",
    "        return self.pxjIwi, self.pwi, self.Iwi, self.classes, self.attributes, self.newdistributions\n",
    "\n",
    "    # def predict(pxjIwi, pwi, Iwi, classes, attributes, newdistributions, age, sex, chest_pain_type, resting_blood_pressure, cholesterol, fasting_blood_sugar, resting_ecg, max_heart_rate, exercise_induced_angina, st_depression, slope, number_of_major_vessels, thal):\n",
    "        # argmax\n",
    "    def predict(self, age, sex, chest_pain_type, resting_blood_pressure, cholesterol, fasting_blood_sugar, resting_ecg, max_heart_rate, exercise_induced_angina, st_depression, slope, number_of_major_vessels, thal):\n",
    "        return predict(self.pxjIwi, self.pwi, self.Iwi, self.classes, self.attributes, self.newdistributions, age, sex, chest_pain_type, resting_blood_pressure, cholesterol, fasting_blood_sugar, resting_ecg, max_heart_rate, exercise_induced_angina, st_depression, slope, number_of_major_vessels, thal)\n",
    "    \n",
    "    # probar_el_clasificador(predictoras, apredecir, classes, Iwi, distributions, esnormal, pxjIwi, pwi, attributes)\n",
    "        # return testdf\n",
    "    def probar_el_clasificador(self):\n",
    "        testdf = probar_el_clasificador(self.predictoras, self.apredecir, self.classes, self.Iwi, self.dictionary_of_distributions, self.esnormal, self.pxjIwi, self.pwi, self.attributes)\n",
    "        self.testdf = testdf\n",
    "        return testdf\n",
    "    \n",
    "    def confusion_matrix(self, cmap='Blues', xlabel='Predicciones', ylabel='Verdaderos'):\n",
    "        \"\"\"\n",
    "        ¡Le puedes poner color! \n",
    "        \"\"\"\n",
    "\n",
    "        if self.esnormal: title = 'Matriz de Confusión con distribución Normal'\n",
    "        else: title = 'Matriz de Confusión con distribución KDE'\n",
    "\n",
    "        self.y_pred = self.testdf['PREDICT PREDICT']\n",
    "        self.y_true = self.testdf[self.apredecir.name]\n",
    "        return matriz_confusion(self.y_true, self.y_pred, cmap, title, xlabel, ylabel)\n",
    "    \n",
    "    def reporte_de_clasificacion(self):\n",
    "        return print(classification_report(self.y_true, self.y_pred, zero_division=0))\n",
    "\n"
   ]
  },
  {
   "cell_type": "markdown",
   "metadata": {},
   "source": [
    "# **Ejemplo**"
   ]
  },
  {
   "cell_type": "code",
   "execution_count": 18,
   "metadata": {},
   "outputs": [
    {
     "ename": "FileNotFoundError",
     "evalue": "[Errno 2] No such file or directory: '05-heart+disease/processed.cleveland.data'",
     "output_type": "error",
     "traceback": [
      "\u001b[1;31m---------------------------------------------------------------------------\u001b[0m",
      "\u001b[1;31mFileNotFoundError\u001b[0m                         Traceback (most recent call last)",
      "Cell \u001b[1;32mIn[18], line 1\u001b[0m\n\u001b[1;32m----> 1\u001b[0m cleavland \u001b[38;5;241m=\u001b[39m \u001b[43mpd\u001b[49m\u001b[38;5;241;43m.\u001b[39;49m\u001b[43mread_csv\u001b[49m\u001b[43m(\u001b[49m\u001b[38;5;124;43m'\u001b[39;49m\u001b[38;5;124;43m05-heart+disease/processed.cleveland.data\u001b[39;49m\u001b[38;5;124;43m'\u001b[39;49m\u001b[43m,\u001b[49m\u001b[43m \u001b[49m\u001b[43mheader\u001b[49m\u001b[38;5;241;43m=\u001b[39;49m\u001b[38;5;28;43;01mNone\u001b[39;49;00m\u001b[43m,\u001b[49m\u001b[43m \u001b[49m\u001b[43mencoding\u001b[49m\u001b[38;5;241;43m=\u001b[39;49m\u001b[38;5;124;43m'\u001b[39;49m\u001b[38;5;124;43mISO-8859-1\u001b[39;49m\u001b[38;5;124;43m'\u001b[39;49m\u001b[43m)\u001b[49m\n\u001b[0;32m      2\u001b[0m hungary \u001b[38;5;241m=\u001b[39m pd\u001b[38;5;241m.\u001b[39mread_csv(\u001b[38;5;124m'\u001b[39m\u001b[38;5;124m05-heart+disease/processed.hungarian.data\u001b[39m\u001b[38;5;124m'\u001b[39m, header\u001b[38;5;241m=\u001b[39m\u001b[38;5;28;01mNone\u001b[39;00m, encoding\u001b[38;5;241m=\u001b[39m\u001b[38;5;124m'\u001b[39m\u001b[38;5;124mISO-8859-1\u001b[39m\u001b[38;5;124m'\u001b[39m)\n\u001b[0;32m      3\u001b[0m switzerland \u001b[38;5;241m=\u001b[39m pd\u001b[38;5;241m.\u001b[39mread_csv(\u001b[38;5;124m'\u001b[39m\u001b[38;5;124m05-heart+disease/processed.switzerland.data\u001b[39m\u001b[38;5;124m'\u001b[39m, header\u001b[38;5;241m=\u001b[39m\u001b[38;5;28;01mNone\u001b[39;00m, encoding\u001b[38;5;241m=\u001b[39m\u001b[38;5;124m'\u001b[39m\u001b[38;5;124mISO-8859-1\u001b[39m\u001b[38;5;124m'\u001b[39m)\n",
      "File \u001b[1;32mc:\\Users\\herie\\.conda\\envs\\data-mining\\Lib\\site-packages\\pandas\\io\\parsers\\readers.py:1026\u001b[0m, in \u001b[0;36mread_csv\u001b[1;34m(filepath_or_buffer, sep, delimiter, header, names, index_col, usecols, dtype, engine, converters, true_values, false_values, skipinitialspace, skiprows, skipfooter, nrows, na_values, keep_default_na, na_filter, verbose, skip_blank_lines, parse_dates, infer_datetime_format, keep_date_col, date_parser, date_format, dayfirst, cache_dates, iterator, chunksize, compression, thousands, decimal, lineterminator, quotechar, quoting, doublequote, escapechar, comment, encoding, encoding_errors, dialect, on_bad_lines, delim_whitespace, low_memory, memory_map, float_precision, storage_options, dtype_backend)\u001b[0m\n\u001b[0;32m   1013\u001b[0m kwds_defaults \u001b[38;5;241m=\u001b[39m _refine_defaults_read(\n\u001b[0;32m   1014\u001b[0m     dialect,\n\u001b[0;32m   1015\u001b[0m     delimiter,\n\u001b[1;32m   (...)\u001b[0m\n\u001b[0;32m   1022\u001b[0m     dtype_backend\u001b[38;5;241m=\u001b[39mdtype_backend,\n\u001b[0;32m   1023\u001b[0m )\n\u001b[0;32m   1024\u001b[0m kwds\u001b[38;5;241m.\u001b[39mupdate(kwds_defaults)\n\u001b[1;32m-> 1026\u001b[0m \u001b[38;5;28;01mreturn\u001b[39;00m \u001b[43m_read\u001b[49m\u001b[43m(\u001b[49m\u001b[43mfilepath_or_buffer\u001b[49m\u001b[43m,\u001b[49m\u001b[43m \u001b[49m\u001b[43mkwds\u001b[49m\u001b[43m)\u001b[49m\n",
      "File \u001b[1;32mc:\\Users\\herie\\.conda\\envs\\data-mining\\Lib\\site-packages\\pandas\\io\\parsers\\readers.py:620\u001b[0m, in \u001b[0;36m_read\u001b[1;34m(filepath_or_buffer, kwds)\u001b[0m\n\u001b[0;32m    617\u001b[0m _validate_names(kwds\u001b[38;5;241m.\u001b[39mget(\u001b[38;5;124m\"\u001b[39m\u001b[38;5;124mnames\u001b[39m\u001b[38;5;124m\"\u001b[39m, \u001b[38;5;28;01mNone\u001b[39;00m))\n\u001b[0;32m    619\u001b[0m \u001b[38;5;66;03m# Create the parser.\u001b[39;00m\n\u001b[1;32m--> 620\u001b[0m parser \u001b[38;5;241m=\u001b[39m \u001b[43mTextFileReader\u001b[49m\u001b[43m(\u001b[49m\u001b[43mfilepath_or_buffer\u001b[49m\u001b[43m,\u001b[49m\u001b[43m \u001b[49m\u001b[38;5;241;43m*\u001b[39;49m\u001b[38;5;241;43m*\u001b[39;49m\u001b[43mkwds\u001b[49m\u001b[43m)\u001b[49m\n\u001b[0;32m    622\u001b[0m \u001b[38;5;28;01mif\u001b[39;00m chunksize \u001b[38;5;129;01mor\u001b[39;00m iterator:\n\u001b[0;32m    623\u001b[0m     \u001b[38;5;28;01mreturn\u001b[39;00m parser\n",
      "File \u001b[1;32mc:\\Users\\herie\\.conda\\envs\\data-mining\\Lib\\site-packages\\pandas\\io\\parsers\\readers.py:1620\u001b[0m, in \u001b[0;36mTextFileReader.__init__\u001b[1;34m(self, f, engine, **kwds)\u001b[0m\n\u001b[0;32m   1617\u001b[0m     \u001b[38;5;28mself\u001b[39m\u001b[38;5;241m.\u001b[39moptions[\u001b[38;5;124m\"\u001b[39m\u001b[38;5;124mhas_index_names\u001b[39m\u001b[38;5;124m\"\u001b[39m] \u001b[38;5;241m=\u001b[39m kwds[\u001b[38;5;124m\"\u001b[39m\u001b[38;5;124mhas_index_names\u001b[39m\u001b[38;5;124m\"\u001b[39m]\n\u001b[0;32m   1619\u001b[0m \u001b[38;5;28mself\u001b[39m\u001b[38;5;241m.\u001b[39mhandles: IOHandles \u001b[38;5;241m|\u001b[39m \u001b[38;5;28;01mNone\u001b[39;00m \u001b[38;5;241m=\u001b[39m \u001b[38;5;28;01mNone\u001b[39;00m\n\u001b[1;32m-> 1620\u001b[0m \u001b[38;5;28mself\u001b[39m\u001b[38;5;241m.\u001b[39m_engine \u001b[38;5;241m=\u001b[39m \u001b[38;5;28;43mself\u001b[39;49m\u001b[38;5;241;43m.\u001b[39;49m\u001b[43m_make_engine\u001b[49m\u001b[43m(\u001b[49m\u001b[43mf\u001b[49m\u001b[43m,\u001b[49m\u001b[43m \u001b[49m\u001b[38;5;28;43mself\u001b[39;49m\u001b[38;5;241;43m.\u001b[39;49m\u001b[43mengine\u001b[49m\u001b[43m)\u001b[49m\n",
      "File \u001b[1;32mc:\\Users\\herie\\.conda\\envs\\data-mining\\Lib\\site-packages\\pandas\\io\\parsers\\readers.py:1880\u001b[0m, in \u001b[0;36mTextFileReader._make_engine\u001b[1;34m(self, f, engine)\u001b[0m\n\u001b[0;32m   1878\u001b[0m     \u001b[38;5;28;01mif\u001b[39;00m \u001b[38;5;124m\"\u001b[39m\u001b[38;5;124mb\u001b[39m\u001b[38;5;124m\"\u001b[39m \u001b[38;5;129;01mnot\u001b[39;00m \u001b[38;5;129;01min\u001b[39;00m mode:\n\u001b[0;32m   1879\u001b[0m         mode \u001b[38;5;241m+\u001b[39m\u001b[38;5;241m=\u001b[39m \u001b[38;5;124m\"\u001b[39m\u001b[38;5;124mb\u001b[39m\u001b[38;5;124m\"\u001b[39m\n\u001b[1;32m-> 1880\u001b[0m \u001b[38;5;28mself\u001b[39m\u001b[38;5;241m.\u001b[39mhandles \u001b[38;5;241m=\u001b[39m \u001b[43mget_handle\u001b[49m\u001b[43m(\u001b[49m\n\u001b[0;32m   1881\u001b[0m \u001b[43m    \u001b[49m\u001b[43mf\u001b[49m\u001b[43m,\u001b[49m\n\u001b[0;32m   1882\u001b[0m \u001b[43m    \u001b[49m\u001b[43mmode\u001b[49m\u001b[43m,\u001b[49m\n\u001b[0;32m   1883\u001b[0m \u001b[43m    \u001b[49m\u001b[43mencoding\u001b[49m\u001b[38;5;241;43m=\u001b[39;49m\u001b[38;5;28;43mself\u001b[39;49m\u001b[38;5;241;43m.\u001b[39;49m\u001b[43moptions\u001b[49m\u001b[38;5;241;43m.\u001b[39;49m\u001b[43mget\u001b[49m\u001b[43m(\u001b[49m\u001b[38;5;124;43m\"\u001b[39;49m\u001b[38;5;124;43mencoding\u001b[39;49m\u001b[38;5;124;43m\"\u001b[39;49m\u001b[43m,\u001b[49m\u001b[43m \u001b[49m\u001b[38;5;28;43;01mNone\u001b[39;49;00m\u001b[43m)\u001b[49m\u001b[43m,\u001b[49m\n\u001b[0;32m   1884\u001b[0m \u001b[43m    \u001b[49m\u001b[43mcompression\u001b[49m\u001b[38;5;241;43m=\u001b[39;49m\u001b[38;5;28;43mself\u001b[39;49m\u001b[38;5;241;43m.\u001b[39;49m\u001b[43moptions\u001b[49m\u001b[38;5;241;43m.\u001b[39;49m\u001b[43mget\u001b[49m\u001b[43m(\u001b[49m\u001b[38;5;124;43m\"\u001b[39;49m\u001b[38;5;124;43mcompression\u001b[39;49m\u001b[38;5;124;43m\"\u001b[39;49m\u001b[43m,\u001b[49m\u001b[43m \u001b[49m\u001b[38;5;28;43;01mNone\u001b[39;49;00m\u001b[43m)\u001b[49m\u001b[43m,\u001b[49m\n\u001b[0;32m   1885\u001b[0m \u001b[43m    \u001b[49m\u001b[43mmemory_map\u001b[49m\u001b[38;5;241;43m=\u001b[39;49m\u001b[38;5;28;43mself\u001b[39;49m\u001b[38;5;241;43m.\u001b[39;49m\u001b[43moptions\u001b[49m\u001b[38;5;241;43m.\u001b[39;49m\u001b[43mget\u001b[49m\u001b[43m(\u001b[49m\u001b[38;5;124;43m\"\u001b[39;49m\u001b[38;5;124;43mmemory_map\u001b[39;49m\u001b[38;5;124;43m\"\u001b[39;49m\u001b[43m,\u001b[49m\u001b[43m \u001b[49m\u001b[38;5;28;43;01mFalse\u001b[39;49;00m\u001b[43m)\u001b[49m\u001b[43m,\u001b[49m\n\u001b[0;32m   1886\u001b[0m \u001b[43m    \u001b[49m\u001b[43mis_text\u001b[49m\u001b[38;5;241;43m=\u001b[39;49m\u001b[43mis_text\u001b[49m\u001b[43m,\u001b[49m\n\u001b[0;32m   1887\u001b[0m \u001b[43m    \u001b[49m\u001b[43merrors\u001b[49m\u001b[38;5;241;43m=\u001b[39;49m\u001b[38;5;28;43mself\u001b[39;49m\u001b[38;5;241;43m.\u001b[39;49m\u001b[43moptions\u001b[49m\u001b[38;5;241;43m.\u001b[39;49m\u001b[43mget\u001b[49m\u001b[43m(\u001b[49m\u001b[38;5;124;43m\"\u001b[39;49m\u001b[38;5;124;43mencoding_errors\u001b[39;49m\u001b[38;5;124;43m\"\u001b[39;49m\u001b[43m,\u001b[49m\u001b[43m \u001b[49m\u001b[38;5;124;43m\"\u001b[39;49m\u001b[38;5;124;43mstrict\u001b[39;49m\u001b[38;5;124;43m\"\u001b[39;49m\u001b[43m)\u001b[49m\u001b[43m,\u001b[49m\n\u001b[0;32m   1888\u001b[0m \u001b[43m    \u001b[49m\u001b[43mstorage_options\u001b[49m\u001b[38;5;241;43m=\u001b[39;49m\u001b[38;5;28;43mself\u001b[39;49m\u001b[38;5;241;43m.\u001b[39;49m\u001b[43moptions\u001b[49m\u001b[38;5;241;43m.\u001b[39;49m\u001b[43mget\u001b[49m\u001b[43m(\u001b[49m\u001b[38;5;124;43m\"\u001b[39;49m\u001b[38;5;124;43mstorage_options\u001b[39;49m\u001b[38;5;124;43m\"\u001b[39;49m\u001b[43m,\u001b[49m\u001b[43m \u001b[49m\u001b[38;5;28;43;01mNone\u001b[39;49;00m\u001b[43m)\u001b[49m\u001b[43m,\u001b[49m\n\u001b[0;32m   1889\u001b[0m \u001b[43m\u001b[49m\u001b[43m)\u001b[49m\n\u001b[0;32m   1890\u001b[0m \u001b[38;5;28;01massert\u001b[39;00m \u001b[38;5;28mself\u001b[39m\u001b[38;5;241m.\u001b[39mhandles \u001b[38;5;129;01mis\u001b[39;00m \u001b[38;5;129;01mnot\u001b[39;00m \u001b[38;5;28;01mNone\u001b[39;00m\n\u001b[0;32m   1891\u001b[0m f \u001b[38;5;241m=\u001b[39m \u001b[38;5;28mself\u001b[39m\u001b[38;5;241m.\u001b[39mhandles\u001b[38;5;241m.\u001b[39mhandle\n",
      "File \u001b[1;32mc:\\Users\\herie\\.conda\\envs\\data-mining\\Lib\\site-packages\\pandas\\io\\common.py:873\u001b[0m, in \u001b[0;36mget_handle\u001b[1;34m(path_or_buf, mode, encoding, compression, memory_map, is_text, errors, storage_options)\u001b[0m\n\u001b[0;32m    868\u001b[0m \u001b[38;5;28;01melif\u001b[39;00m \u001b[38;5;28misinstance\u001b[39m(handle, \u001b[38;5;28mstr\u001b[39m):\n\u001b[0;32m    869\u001b[0m     \u001b[38;5;66;03m# Check whether the filename is to be opened in binary mode.\u001b[39;00m\n\u001b[0;32m    870\u001b[0m     \u001b[38;5;66;03m# Binary mode does not support 'encoding' and 'newline'.\u001b[39;00m\n\u001b[0;32m    871\u001b[0m     \u001b[38;5;28;01mif\u001b[39;00m ioargs\u001b[38;5;241m.\u001b[39mencoding \u001b[38;5;129;01mand\u001b[39;00m \u001b[38;5;124m\"\u001b[39m\u001b[38;5;124mb\u001b[39m\u001b[38;5;124m\"\u001b[39m \u001b[38;5;129;01mnot\u001b[39;00m \u001b[38;5;129;01min\u001b[39;00m ioargs\u001b[38;5;241m.\u001b[39mmode:\n\u001b[0;32m    872\u001b[0m         \u001b[38;5;66;03m# Encoding\u001b[39;00m\n\u001b[1;32m--> 873\u001b[0m         handle \u001b[38;5;241m=\u001b[39m \u001b[38;5;28;43mopen\u001b[39;49m\u001b[43m(\u001b[49m\n\u001b[0;32m    874\u001b[0m \u001b[43m            \u001b[49m\u001b[43mhandle\u001b[49m\u001b[43m,\u001b[49m\n\u001b[0;32m    875\u001b[0m \u001b[43m            \u001b[49m\u001b[43mioargs\u001b[49m\u001b[38;5;241;43m.\u001b[39;49m\u001b[43mmode\u001b[49m\u001b[43m,\u001b[49m\n\u001b[0;32m    876\u001b[0m \u001b[43m            \u001b[49m\u001b[43mencoding\u001b[49m\u001b[38;5;241;43m=\u001b[39;49m\u001b[43mioargs\u001b[49m\u001b[38;5;241;43m.\u001b[39;49m\u001b[43mencoding\u001b[49m\u001b[43m,\u001b[49m\n\u001b[0;32m    877\u001b[0m \u001b[43m            \u001b[49m\u001b[43merrors\u001b[49m\u001b[38;5;241;43m=\u001b[39;49m\u001b[43merrors\u001b[49m\u001b[43m,\u001b[49m\n\u001b[0;32m    878\u001b[0m \u001b[43m            \u001b[49m\u001b[43mnewline\u001b[49m\u001b[38;5;241;43m=\u001b[39;49m\u001b[38;5;124;43m\"\u001b[39;49m\u001b[38;5;124;43m\"\u001b[39;49m\u001b[43m,\u001b[49m\n\u001b[0;32m    879\u001b[0m \u001b[43m        \u001b[49m\u001b[43m)\u001b[49m\n\u001b[0;32m    880\u001b[0m     \u001b[38;5;28;01melse\u001b[39;00m:\n\u001b[0;32m    881\u001b[0m         \u001b[38;5;66;03m# Binary mode\u001b[39;00m\n\u001b[0;32m    882\u001b[0m         handle \u001b[38;5;241m=\u001b[39m \u001b[38;5;28mopen\u001b[39m(handle, ioargs\u001b[38;5;241m.\u001b[39mmode)\n",
      "\u001b[1;31mFileNotFoundError\u001b[0m: [Errno 2] No such file or directory: '05-heart+disease/processed.cleveland.data'"
     ]
    }
   ],
   "source": [
    "cleavland = pd.read_csv('05-heart+disease/processed.cleveland.data', header=None, encoding='ISO-8859-1')\n",
    "hungary = pd.read_csv('05-heart+disease/processed.hungarian.data', header=None, encoding='ISO-8859-1')\n",
    "switzerland = pd.read_csv('05-heart+disease/processed.switzerland.data', header=None, encoding='ISO-8859-1')\n",
    "va = pd.read_csv('05-heart+disease/processed.va.data', header=None, encoding='ISO-8859-1')"
   ]
  },
  {
   "cell_type": "code",
   "execution_count": null,
   "metadata": {},
   "outputs": [],
   "source": [
    "attributes = [\"Age\", \"Sex\", \"Chest Pain Type\", \"Resting Blood Pressure\", \"Cholesterol\", \"Fasting Blood Sugar\", \"Resting ECG\", \"Max Heart Rate\", \"Exercise Induced Angina\", \"ST Depression\", \"Slope\", \"Number of Major Vessels\", \"Thal\", \"Diagnosis of Heart Disease\"]"
   ]
  },
  {
   "cell_type": "code",
   "execution_count": null,
   "metadata": {},
   "outputs": [],
   "source": [
    "cleavland.columns = attributes\n",
    "hungary.columns = attributes\n",
    "switzerland.columns = attributes\n",
    "va.columns = attributes"
   ]
  },
  {
   "cell_type": "code",
   "execution_count": null,
   "metadata": {},
   "outputs": [],
   "source": [
    "df = pd.concat([cleavland, hungary, switzerland, va], ignore_index=True)"
   ]
  },
  {
   "cell_type": "code",
   "execution_count": null,
   "metadata": {},
   "outputs": [],
   "source": [
    "# # it got really really bad\n",
    "# from sklearn.impute import KNNImputer\n",
    "\n",
    "# # Replace \"?\" with NaN\n",
    "# df.replace(\"?\", np.nan, inplace=True)\n",
    "\n",
    "# # if the last colum is nan drop the row\n",
    "# df = df.dropna(subset=[df.columns[-1]])\n",
    "\n",
    "# # Convert all columns to numeric\n",
    "# df = df.apply(pd.to_numeric)\n",
    "\n",
    "# # Initialize KNNImputer\n",
    "# imputer = KNNImputer(n_neighbors=2)\n",
    "\n",
    "# # Fit and transform the data\n",
    "# df_imputed = pd.DataFrame(imputer.fit_transform(df), columns=df.columns)\n",
    "\n",
    "# # make all values integers\n",
    "# df_imputed = df_imputed.astype(int)\n",
    "\n",
    "# df = df_imputed"
   ]
  },
  {
   "cell_type": "code",
   "execution_count": null,
   "metadata": {},
   "outputs": [],
   "source": [
    "df.replace(\"?\", np.nan, inplace=True)\n",
    "df.dropna(inplace=True)\n",
    "df = df.apply(pd.to_numeric)"
   ]
  },
  {
   "cell_type": "code",
   "execution_count": null,
   "metadata": {},
   "outputs": [],
   "source": [
    "distributions = {\n",
    "    'Age': 'continua',\n",
    "    'Sex': 'categorica',\n",
    "    'Chest Pain Type': 'entera', \n",
    "    'Resting Blood Pressure': 'continua',\n",
    "    'Cholesterol': 'continua',\n",
    "    'Fasting Blood Sugar': 'categorica', \n",
    "    'Resting ECG': 'categorica',\n",
    "    'Max Heart Rate': 'continua',\n",
    "    'Exercise Induced Angina': 'categorica',\n",
    "    'ST Depression': 'continua',\n",
    "    'Slope': 'categorica',\n",
    "    'Number of Major Vessels': 'categorica', \n",
    "    'Thal': 'categorica', \n",
    "    'Diagnosis of Heart Disease': 'categorica'\n",
    "}"
   ]
  },
  {
   "cell_type": "code",
   "execution_count": null,
   "metadata": {},
   "outputs": [],
   "source": [
    "predictoras = df.iloc[:, :-1]\n",
    "apredecir = df.iloc[:, -1]"
   ]
  },
  {
   "cell_type": "markdown",
   "metadata": {},
   "source": [
    "## **Ejemplo KDE**"
   ]
  },
  {
   "cell_type": "code",
   "execution_count": null,
   "metadata": {},
   "outputs": [
    {
     "name": "stdout",
     "output_type": "stream",
     "text": [
      "Se usara la distribucion kde\n"
     ]
    }
   ],
   "source": [
    "bn = bayes_naive('kde')"
   ]
  },
  {
   "cell_type": "code",
   "execution_count": null,
   "metadata": {},
   "outputs": [
    {
     "name": "stdout",
     "output_type": "stream",
     "text": [
      "Fitting con kde\n"
     ]
    }
   ],
   "source": [
    "pxjIwi, pwi, Iwi, classes, attributes, newdistributions = bn.fit(predictoras, apredecir, distributions)"
   ]
  },
  {
   "cell_type": "code",
   "execution_count": null,
   "metadata": {},
   "outputs": [],
   "source": [
    "age = 54\n",
    "sex = 2\n",
    "chest_pain_type = 0\n",
    "resting_blood_pressure = \n",
    "cholesterol = 233\n",
    "fasting_blood_sugar = 1\n",
    "resting_ecg = 0\n",
    "max_heart_rate = 150\n",
    "exercise_induced_angina = 0\n",
    "st_depression = 2.3\n",
    "slope = 1\n",
    "number_of_major_vessels = 0\n",
    "thal = 3"
   ]
  },
  {
   "cell_type": "code",
   "execution_count": null,
   "metadata": {},
   "outputs": [
    {
     "data": {
      "text/plain": [
       "0"
      ]
     },
     "execution_count": 20,
     "metadata": {},
     "output_type": "execute_result"
    }
   ],
   "source": [
    "bn.predict(age, sex, chest_pain_type, resting_blood_pressure, cholesterol, fasting_blood_sugar, resting_ecg, max_heart_rate, exercise_induced_angina, st_depression, slope, number_of_major_vessels, thal) "
   ]
  },
  {
   "cell_type": "code",
   "execution_count": null,
   "metadata": {},
   "outputs": [
    {
     "name": "stdout",
     "output_type": "stream",
     "text": [
      "Fitting con kde\n"
     ]
    }
   ],
   "source": [
    "testdf = bn.probar_el_clasificador()"
   ]
  },
  {
   "cell_type": "code",
   "execution_count": null,
   "metadata": {},
   "outputs": [
    {
     "data": {
      "image/png": "[encoded data removed]",
      "text/plain": [
       "<Figure size 600x600 with 1 Axes>"
      ]
     },
     "metadata": {},
     "output_type": "display_data"
    }
   ],
   "source": [
    "bn.confusion_matrix()"
   ]
  },
  {
   "cell_type": "code",
   "execution_count": null,
   "metadata": {},
   "outputs": [
    {
     "name": "stdout",
     "output_type": "stream",
     "text": [
      "              precision    recall  f1-score   support\n",
      "\n",
      "           0       0.74      0.88      0.80        32\n",
      "           1       0.14      0.17      0.15        12\n",
      "           2       0.00      0.00      0.00         7\n",
      "           3       0.33      0.14      0.20         7\n",
      "           4       0.17      0.33      0.22         3\n",
      "\n",
      "    accuracy                           0.52        61\n",
      "   macro avg       0.28      0.30      0.28        61\n",
      "weighted avg       0.46      0.52      0.48        61\n",
      "\n"
     ]
    }
   ],
   "source": [
    "bn.reporte_de_clasificacion()"
   ]
  },
  {
   "cell_type": "markdown",
   "metadata": {},
   "source": [
    "## **Ejemplo Normal**"
   ]
  },
  {
   "cell_type": "code",
   "execution_count": null,
   "metadata": {},
   "outputs": [
    {
     "name": "stdout",
     "output_type": "stream",
     "text": [
      "Se usara la distribucion normal\n"
     ]
    }
   ],
   "source": [
    "bn = bayes_naive('Normal')"
   ]
  },
  {
   "cell_type": "code",
   "execution_count": null,
   "metadata": {},
   "outputs": [
    {
     "name": "stdout",
     "output_type": "stream",
     "text": [
      "Se usara la distribucion normal\n"
     ]
    }
   ],
   "source": [
    "bn = bayes_naive('normal')"
   ]
  },
  {
   "cell_type": "code",
   "execution_count": null,
   "metadata": {},
   "outputs": [
    {
     "name": "stdout",
     "output_type": "stream",
     "text": [
      "Fitting con normal\n"
     ]
    }
   ],
   "source": [
    "pxjIwi, pwi, Iwi, classes, attributes, newdistributions = bn.fit(predictoras, apredecir, distributions)"
   ]
  },
  {
   "cell_type": "code",
   "execution_count": null,
   "metadata": {},
   "outputs": [],
   "source": [
    "age = 63\n",
    "sex = 1\n",
    "chest_pain_type = 3\n",
    "resting_blood_pressure = 145\n",
    "cholesterol = 233\n",
    "fasting_blood_sugar = 1\n",
    "resting_ecg = 0\n",
    "max_heart_rate = 150\n",
    "exercise_induced_angina = 0\n",
    "st_depression = 2.3\n",
    "slope = 1\n",
    "number_of_major_vessels = 0\n",
    "thal = 3"
   ]
  },
  {
   "cell_type": "code",
   "execution_count": null,
   "metadata": {},
   "outputs": [
    {
     "data": {
      "text/plain": [
       "0"
      ]
     },
     "execution_count": 28,
     "metadata": {},
     "output_type": "execute_result"
    }
   ],
   "source": [
    "bn.predict(age, sex, chest_pain_type, resting_blood_pressure, cholesterol, fasting_blood_sugar, resting_ecg, max_heart_rate, exercise_induced_angina, st_depression, slope, number_of_major_vessels, thal) "
   ]
  },
  {
   "cell_type": "code",
   "execution_count": null,
   "metadata": {},
   "outputs": [
    {
     "name": "stdout",
     "output_type": "stream",
     "text": [
      "Fitting con normal\n"
     ]
    }
   ],
   "source": [
    "testdf = bn.probar_el_clasificador()"
   ]
  },
  {
   "cell_type": "code",
   "execution_count": null,
   "metadata": {},
   "outputs": [
    {
     "data": {
      "image/png": "[encoded data removed]",
      "text/plain": [
       "<Figure size 600x600 with 1 Axes>"
      ]
     },
     "metadata": {},
     "output_type": "display_data"
    }
   ],
   "source": [
    "bn.confusion_matrix('Greens')"
   ]
  },
  {
   "cell_type": "code",
   "execution_count": null,
   "metadata": {},
   "outputs": [
    {
     "name": "stdout",
     "output_type": "stream",
     "text": [
      "              precision    recall  f1-score   support\n",
      "\n",
      "           0       0.94      0.47      0.62        32\n",
      "           1       0.32      0.67      0.43        12\n",
      "           2       0.00      0.00      0.00         7\n",
      "           3       0.20      0.29      0.24         7\n",
      "           4       0.00      0.00      0.00         3\n",
      "\n",
      "    accuracy                           0.41        61\n",
      "   macro avg       0.29      0.28      0.26        61\n",
      "weighted avg       0.58      0.41      0.44        61\n",
      "\n"
     ]
    }
   ],
   "source": [
    "bn.reporte_de_clasificacion()"
   ]
  }
 ],
 "metadata": {
  "kernelspec": {
   "display_name": "data-mining",
   "language": "python",
   "name": "python3"
  },
  "language_info": {
   "codemirror_mode": {
    "name": "ipython",
    "version": 3
   },
   "file_extension": ".py",
   "mimetype": "text/x-python",
   "name": "python",
   "nbconvert_exporter": "python",
   "pygments_lexer": "ipython3",
   "version": "3.12.8"
  }
 },
 "nbformat": 4,
 "nbformat_minor": 2
}
