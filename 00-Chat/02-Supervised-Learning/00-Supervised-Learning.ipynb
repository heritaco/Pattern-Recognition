{
  "cells": [
    {
      "cell_type": "markdown",
      "metadata": {
        "id": "oQG0GQWVq36n"
      },
      "source": [
        "<div style=\"position: relative; text-align: center; padding: 30px;\">\n",
        "  <h1><strong>Supervised Learning</strong></h1>\n",
        "</div>\n"
      ]
    },
    {
      "cell_type": "markdown",
      "metadata": {},
      "source": [
        "**Supervised learning** is a type of machine learning where a model is trained using labeled data, meaning each input in the dataset is paired with a corresponding output or label. The goal is to learn a mapping function $f: \\mathcal{X} \\to \\mathcal{Y}$ that can predict the correct output $y$ for any given input $x$. Supervised learning is widely used in tasks such as classification, where the output is a discrete label (e.g., \"spam\" or \"not spam\"), and regression, where the output is a continuous value (e.g., predicting house prices). By minimizing the error between predicted and actual outputs, supervised learning models aim to generalize well to unseen data, making them essential for solving real-world problems like fraud detection, image recognition, and sentiment analysis."
      ]
    },
    {
      "cell_type": "markdown",
      "metadata": {
        "id": "wOUcszZiq50j"
      },
      "source": [
        "### **Learning a class from examples**"
      ]
    },
    {
      "cell_type": "markdown",
      "metadata": {},
      "source": [
        "Let us say we want to learn the class, $C$, of a sedan car. We start with a **set of examples** of various cars and conduct a survey where people examine these cars and **label them**.\n"
      ]
    },
    {
      "cell_type": "markdown",
      "metadata": {},
      "source": [
        "#### *Clases*"
      ]
    },
    {
      "cell_type": "markdown",
      "metadata": {},
      "source": [
        "En **supervised learning** (aprendizaje supervisado), una **clase** es una categoría o etiqueta que se asigna a un conjunto de datos en el proceso de **entrenamiento**. Es el valor que el modelo intenta predecir a partir de las características o atributos de los datos de entrada.\n",
        "\n",
        "**Definición formal:**\n",
        "- En un **problema de clasificación**, los datos de entrada ($x$) están asociados con una etiqueta de clase $y$, que puede ser un valor discreto (como \"spam\" o \"no spam\", \"enfermo\" o \"sano\", etc.). \n",
        "- El modelo aprende a mapear las características de entrada ($x$) a la clase correspondiente ($y$).\n",
        "\n",
        " **Ejemplo:**\n",
        "Supongamos que estás entrenando un modelo para clasificar correos electrónicos como \"spam\" o \"no spam\". En este caso:\n",
        "- **Características**: El contenido del correo, el remitente, la hora de envío, etc.\n",
        "- **Clase**: Las clases posibles son **spam** y **no spam**. Cada correo electrónico tendrá una etiqueta asociada que es su clase (ya sea \"spam\" o \"no spam\").\n",
        "\n",
        " **Tipos de clases:**\n",
        "1. **Clases binarias (Clasificación binaria)**: Solo hay dos posibles clases. Ejemplos:\n",
        "   - **Spam vs No spam**.\n",
        "   - **Enfermo vs Sano**.\n",
        "2. **Clases multiclase**: Hay más de dos posibles clases. Ejemplos:\n",
        "   - **Clasificación de animales**: Perro, Gato, Caballo.\n",
        "   - **Clasificación de géneros musicales**: Pop, Rock, Jazz, etc.\n",
        "3. **Clases ordinales**: Las clases tienen un orden natural, pero las distancias entre ellas no son necesariamente iguales. Ejemplos:\n",
        "   - **Nivel de educación**: Primaria, Secundaria, Universitaria.\n",
        "   - **Clasificación de satisfacción**: Muy insatisfecho, Insatisfecho, Neutral, Satisfecho, Muy satisfecho.\n",
        "\n",
        " **¿Cómo se usan las clases en el entrenamiento?**\n",
        "Durante el entrenamiento, el modelo recibe ejemplos etiquetados (conjunto de entrenamiento) que contienen:\n",
        "- Las características ($x_1, x_2, \\dots, x_n$) de los datos.\n",
        "- Las clases asociadas $y_1, y_2, \\dots, y_n$ que son las etiquetas correctas.\n",
        "\n",
        "El modelo ajusta sus parámetros para aprender a predecir las clases correctas a partir de las características, minimizando el error entre las predicciones y las clases reales.\n",
        "\n",
        " **Resumen:**\n",
        "En resumen, una **clase** en **supervised learning** es el valor o etiqueta discreta que se asigna a un conjunto de datos y que el modelo intenta predecir. Estas clases son fundamentales en problemas de **clasificación**."
      ]
    },
    {
      "cell_type": "markdown",
      "metadata": {},
      "source": [
        "###"
      ]
    },
    {
      "cell_type": "markdown",
      "metadata": {
        "id": "Cjb0bVlaq9s3"
      },
      "source": [
        "Those cars that participants believe fit the characteristics of a sedan are marked as **positive examples**, while all other cars are marked as **negative examples**.\n",
        "\n",
        "The goal of **class learning** is to derive a **description** that **applies** to all positive examples and **excludes** all negative examples.\n",
        "\n",
        "With this description, we can **make predictions**: when presented with a new car, we can determine whether it is a sedan based on the learned description.\n",
        "\n",
        "After some discussions with experts in the field, let us say that we reach the conclusion that among all features a car may have, the **features that separate** a sedan car from other cars are the **price** and **engine power**. These two attributes are the **inputs** to the class recognizer.\n",
        "\n",
        "Note that when we decide on this particular **input representation**, we are ignoring various other attributes as irrelevant."
      ]
    },
    {
      "cell_type": "markdown",
      "metadata": {
        "id": "guNM-1HDtFiI"
      },
      "source": [
        "Let us denote price as the first input attribute $x_1$ (e.g., in U.S. dollars) and size as the second attribute $x_2$ e.g., the car's length in meters). Thus we represent each car using the **feature vector**\n",
        "$$x = \\left[\\begin{matrix} x_1 \\\\ x_2 \\end{matrix} \\right]$$\n",
        "and its **label** denotes its type\n",
        "$$ r = \\begin{cases}1 \\qquad \\text{if $x$ is a positive example} \\\\ 0 \\qquad \\text{if $x$ is a negative example} \\end{cases}$$\n",
        "\n",
        "Each car is represented by such an ordered pair $(x, r)$ and the **training set** contains $N$ such examples\n",
        "$$X = \\{(x^i, r^i)\\}^N_{i=1}$$\n",
        "where $i$ indexes different examples in the set; it does not represent time or any such order."
      ]
    },
    {
      "cell_type": "markdown",
      "metadata": {},
      "source": [
        "#### *Chat*"
      ]
    },
    {
      "cell_type": "markdown",
      "metadata": {
        "id": "G8E2snPmr2PI"
      },
      "source": [
        " Ejemplo:\n",
        "\n",
        "Imagina que tienes un conjunto de coches y sus características:\n",
        "\n",
        "1. Coche 1:\n",
        "   - Precio $x_1 = 30,000$ USD\n",
        "   - Tamaño $x_2 = 4.5$ metros\n",
        "   - Etiqueta $r = 1$ (ejemplo positivo, por ejemplo, un coche de lujo)\n",
        "\n",
        "2. Coche 2:\n",
        "   - Precio $x_1 = 10,000$ USD\n",
        "   - Tamaño $x_2 = 3.8$ metros\n",
        "   - Etiqueta $r = 0$ (ejemplo negativo, por ejemplo, un coche económico)\n",
        "\n",
        "El conjunto de entrenamiento para estos dos ejemplos sería:\n",
        "\n",
        "$$\n",
        "X = \\left\\{\n",
        "\\left( \\left[\\begin{matrix} 30000 \\\\ 4.5 \\end{matrix} \\right], 1 \\right),\n",
        "\\left( \\left[\\begin{matrix} 10000 \\\\ 3.8 \\end{matrix} \\right], 0 \\right)\n",
        "\\right\\}\n",
        "$$"
      ]
    },
    {
      "cell_type": "markdown",
      "metadata": {},
      "source": [
        "1. **Índice arriba: $x^i$**\n",
        "\n",
        "Cuando se usa el índice en la parte superior, como en $x^i$, se suele indicar que el índice hace referencia a una **posición** dentro de un conjunto de objetos o un conjunto de entrenamiento. Esto es común en notaciones que involucran sumatorias o productos y tiene el sentido de \"el $i$-ésimo elemento\". También se utiliza en otros contextos como vectores o matrices, donde los exponentes pueden denotar alguna operación sobre el índice.\n",
        "\n",
        "Por ejemplo:\n",
        "\n",
        "- $x^i$ puede denotar el $i$-ésimo vector de características de un conjunto de entrenamiento.\n",
        "- $r^i$ puede denotar la etiqueta asociada al $i$-ésimo ejemplo.\n",
        "\n",
        "Es una forma muy común en matemáticas, especialmente cuando se habla de **conjuntos indexados**.\n",
        "\n",
        " 2. **Índice abajo: $x_i$**\n",
        "\n",
        "La notación con el índice en la parte inferior, como $x_i$, es más frecuente cuando se hace referencia a **componentes** de un vector o matriz. Esta notación es útil cuando quieres denotar el $i$-ésimo componente de un vector $x$, por ejemplo, el $i$-ésimo valor en el vector $x = [x_1, x_2, \\dots, x_n]$.\n",
        "\n",
        "Por ejemplo:\n",
        "\n",
        "- $x_i$ podría referirse al $i$-ésimo atributo de un vector de características (como el precio o tamaño de un coche, en tu ejemplo).\n",
        "- Si tienes un conjunto de datos $X = \\{x_1, x_2, \\dots, x_N\\}$, $x_i$ se refiere a las características del $i$-ésimo ejemplo.\n",
        "\n",
        " Diferencia clave entre $x^i$ y $x_i$:\n",
        "\n",
        "- **$x^i$**: Se refiere a la $i$-ésima **entidad completa** (por ejemplo, el vector de características completo del $i$-ésimo ejemplo). Es una forma más general y común en contextos de clasificación, redes neuronales, y conjuntos de entrenamiento.\n",
        "- **$x_i$**: Se refiere a la $i$-ésima **componente** del vector $x$. Se usa cuando estamos hablando de un vector y queremos denotar un componente específico dentro de ese vector.\n",
        "\n",
        "**Resumen:**\n",
        "\n",
        "- $x^i$ denota el $i$-ésimo **elemento o vector completo** del conjunto de entrenamiento.\n",
        "- $x_i$ denota el $i$-ésimo **componente** dentro de un vector o lista.\n",
        "\n",
        "Ambas notaciones son correctas, pero se usan en contextos distintos. En el caso que mencionabas, cuando estamos describiendo un conjunto de ejemplos de entrenamiento, se usa más comúnmente **el índice arriba** (como $x^i$) para indicar el $i$-ésimo ejemplo completo en el conjunto.\n",
        "\n",
        "\n",
        "Cuando escribimos $x^1$, estamos denotando el **primer vector de características** (o el primer ejemplo) en un conjunto de datos. Este vector de características, como mencionabas, está compuesto por varias componentes, por ejemplo, los atributos del coche: su precio, tamaño, etc.\n",
        "\n",
        "Entonces, si $x^1$ es el primer vector de características, podría representarse como:\n",
        "\n",
        "$$\n",
        "x^1 = \\left[ x_1, x_2, \\dots, x_n \\right]\n",
        "$$\n",
        "\n",
        "donde:\n",
        "\n",
        "- $x_1$ es el primer atributo (por ejemplo, el precio del coche).\n",
        "- $x_2$ es el segundo atributo (por ejemplo, el tamaño del coche).\n",
        "- Y así sucesivamente hasta $x_n$, que es el $n$-ésimo atributo de ese coche.\n",
        "\n",
        "Cada vector $x^i$ (como $x^1, x^2, \\dots, x^N$) representa un **ejemplo completo** de datos (es decir, todas las características de un coche) y tiene múltiples **componentes** dentro del vector."
      ]
    },
    {
      "cell_type": "markdown",
      "metadata": {
        "id": "Qk7Lu5lMuYrK"
      },
      "source": [
        "Our training data can now be plotted in the two-dimensional $(x_1, x_2)$ space where each instance $i$ is a data point at coordinates $$(x^i_\n",
        "1, x^i_2)$$ and its class, namely, positive versus negative, is given by $r^i$."
      ]
    },
    {
      "cell_type": "code",
      "execution_count": null,
      "metadata": {
        "id": "yfvGQoThORBO"
      },
      "outputs": [],
      "source": [
        "import pandas as pd\n",
        "import seaborn as sns\n",
        "import matplotlib.pyplot as plt"
      ]
    },
    {
      "cell_type": "code",
      "execution_count": null,
      "metadata": {
        "colab": {
          "base_uri": "https://localhost:8080/",
          "height": 542
        },
        "id": "jcXcMCO9OP1P",
        "outputId": "ed195bf9-5feb-44c1-bf56-7daebfac12cc"
      },
      "outputs": [
        {
          "data": {
            "image/png": "[encoded data removed]",
            "text/plain": [
              "<Figure size 800x600 with 1 Axes>"
            ]
          },
          "metadata": {},
          "output_type": "display_data"
        }
      ],
      "source": [
        "data = { # Create a dictionary\n",
        "    \"Price\":        [10, 11, 13, 15, 18, 9.8, 11.5, 12.5, 15, 12.5, 14, 14, 18.1, 18.5, 19], # Create a list of prices \n",
        "    \"Engine Power\": [9, 10, 9.6, 10.3, 7, 18, 15, 14, 16, 14.5, 15.5, 21, 20, 15, 14],\n",
        "    \"Class\":        [\"O\", \"O\", \"O\", \"O\", \"O\", \"O\", \"S\", \"S\", \"S\", \"S\", \"S\", \"O\", \"O\", \"O\", \"O\"]\n",
        "}\n",
        "\n",
        "df = pd.DataFrame(data)\n",
        "fig, ax = plt.subplots(figsize=(8, 6))\n",
        "sns.scatterplot(data=data, x=\"Price\", y=\"Engine Power\", hue=\"Class\",\n",
        "                palette=['blue', 'red'], s=100)\n",
        "handles, labels  =  ax.get_legend_handles_labels()\n",
        "ax.legend(handles, ['Other', 'Sedan'])\n",
        "ax.add_patch(\n",
        "    plt.Rectangle((11, 12), 7, 5,   # Alto\n",
        "        fill=True, alpha=0.1, color=\"red\"\n",
        "    )\n",
        ")\n",
        "ax.text(11, 17.1, \"$C$\", color=\"red\")\n",
        "plt.xlabel(\"Price\")\n",
        "plt.ylabel(\"Engine Power\")\n",
        "plt.show()"
      ]
    },
    {
      "cell_type": "markdown",
      "metadata": {
        "id": "ckVO5fRZQk7q"
      },
      "source": [
        "Suppose we propose a rule to classify cars based on a range of both attributes,\n",
        "$$\\mathscr{H}: (p_1 \\leq \\text{price} \\leq p2) \\ \\land (e_1 \\leq \\text{engine power} \\leq e_2)$$\n",
        "for suitable values of $p_1, \\ p_2, \\ e_1, \\ e_2$ (**parameters**). That is, we assume that C is a rectangle in the engine power-price space."
      ]
    },
    {
      "cell_type": "markdown",
      "metadata": {
        "id": "WmVFWOkPSROv"
      },
      "source": [
        "The inequality $\\mathscr{H}$ is the **hypothesis class** from which we belive $C$ is drawn, namely, the set of rectangles. The **learning algorihtm** then finds the **particular hypothesis** $h\\in \\mathscr{H}$, to approximate $C$ as closely as possible."
      ]
    },
    {
      "cell_type": "markdown",
      "metadata": {
        "id": "5_fwpFyITCve"
      },
      "source": [
        "Though we define the hypothesis class, the values of the **parameters** are not known; that is, though we choose $\\mathscr{H}$, we do not know which particular $h\\in \\mathscr{H}$ is equal, or closest, to $C$. But once we restrict our attention to this hypothesis class, learning the class reduces to the easier\n",
        "problem of finding the four parameters that define $h$."
      ]
    },
    {
      "cell_type": "markdown",
      "metadata": {
        "id": "GxvvBfznTT4a"
      },
      "source": [
        "The aim is to find $h\\in \\mathscr{H}$ that is as similar as possible to $C$. Let us say the hypothesis $h$ makes a **prediction** for an **instance** $x$ such that\n",
        "$$h(x) = \\begin{cases}1 \\ \\text{if $h$ classifies $x$ as a positive example}\\\\ 0 \\ \\text{if $h$ classifies $x$ as a negative example} \\end{cases}$$"
      ]
    },
    {
      "cell_type": "markdown",
      "metadata": {},
      "source": [
        "### **Empirical error**"
      ]
    },
    {
      "cell_type": "markdown",
      "metadata": {
        "id": "EY7_UaYSTyhE"
      },
      "source": [
        "In real life we do not know $C(x)$, so we cannot evaluate how well $h(x)$ matches $C(x)$.\n",
        "What we have is the **training set** $X$, which is a small subset of the set of all possible empirical error x.\n",
        "\n",
        "The **empirical error** is the proportion of training instances where predictions of $h$ do not match the required values given in $X$. The error of hypothesis $h$ given the training set $X$ is\n",
        "$$E(h|X) = \\sum_{i=1}^N 1\\left(h(x^i) \\neq r^i\\right)$$\n",
        "where $1(a \\neq b)$ is 1 if a $a\\neq b$ and is 0 if $a = b$."
      ]
    },
    {
      "cell_type": "markdown",
      "metadata": {
        "id": "AkVpqFuZ7zOE"
      },
      "source": [
        "In our example, the hypothesis class $\\mathscr{H}$ is the set of all possible rectangles. Each quadruple $(p_1^h, p_2^h, e_1^h, e_2^h)$ defines one hypothesis, $h$, from $\\mathscr{H}$, and we need to choose the best one, or in other words, we need to find the values of these four parameters **given the training set**, to include all the positive examples and none of the negative examples."
      ]
    },
    {
      "cell_type": "markdown",
      "metadata": {},
      "source": [
        "### **Generalization**"
      ]
    },
    {
      "cell_type": "markdown",
      "metadata": {
        "id": "toGGbGHg9YWC"
      },
      "source": [
        "There are infinitely many such $h$ for which this is satisfied, namely, for which the error, $E$, is 0, but given a future example, different candidate hypotheses may make different predictions.\n",
        "\n",
        "This is the problem of **generalization**, that is, how well our\n",
        "hypothesis will **correctly classify future examples** that are not part of the training set."
      ]
    },
    {
      "cell_type": "markdown",
      "metadata": {
        "id": "wShH-K6IFFCg"
      },
      "source": [
        "One possibility is to find the most **specific hypothesis**, $S$, that is the\n",
        "tightest rectangle that includes all the positive examples and none of the negative examples. Note that the actual class C may be larger than S but is most general never smaller.\n",
        "\n",
        "The most **general hypothesis**, $G$, is the largest rectangle we\n",
        "can draw that includes all the positive examples and none of the negative examples.\n",
        "\n",
        "Any $h \\in \\mathscr{H}$ between $S$ and $G$ is a valid hypothesis with no error, said to be **consistent** with the training set, and such $h$ make\n",
        "up the **version space**. Given another training set, $S$, $G$, version space, the parameters and thus the learned hypothesis, $h$, can be different."
      ]
    },
    {
      "cell_type": "code",
      "execution_count": null,
      "metadata": {
        "colab": {
          "base_uri": "https://localhost:8080/",
          "height": 542
        },
        "id": "V3GRE1DUA6qi",
        "outputId": "d7483cc7-9853-4e2b-89b3-77a19d803a46"
      },
      "outputs": [
        {
          "data": {
            "image/png": "[encoded data removed]",
            "text/plain": [
              "<Figure size 800x600 with 1 Axes>"
            ]
          },
          "execution_count": 107,
          "metadata": {},
          "output_type": "execute_result"
        }
      ],
      "source": [
        "ax.add_patch(\n",
        "    plt.Rectangle((11.4, 13.9), 3.7, 2.3, fill=False,  edgecolor=\"black\")\n",
        ")\n",
        "ax.text(15.2, 16.1, \"$S$\")\n",
        "ax.add_patch(\n",
        "    plt.Rectangle((9.9, 10.5), 8.1, 10.3, fill=False, edgecolor=\"black\")\n",
        ")\n",
        "ax.text(18.1, 10.5, \"$G$\")\n",
        "fig"
      ]
    },
    {
      "cell_type": "markdown",
      "metadata": {
        "id": "5EVQaExpqi1_"
      },
      "source": [
        "### **Learning Multiple Classes**"
      ]
    },
    {
      "cell_type": "markdown",
      "metadata": {
        "id": "YnA5q1TUqmVi"
      },
      "source": [
        "In our example of learning a sedan car, we have positive examples belonging to the class sedan car and the negative examples belonging to all other cars. This is a **two-class problem**.\n",
        "\n",
        "In the general case, we have $K$ classes denoted as $C_l, \\  l= 1,\\ldots,K$, and an input instance belongs **to one and exactly one** of them.\n",
        "\n",
        "The training set is now of the form\n",
        "$$X =\\left\\{x^i, r^i\\right\\}^N_{i=1}$$\n",
        "where $r$ has $K$ dimensions and\n",
        "$$r_l^i = \\begin{cases} 1 \\quad \\text{if} \\ x^i\\in C_l\\\\ 0 \\quad \\ \\text{if} \\  x^i\\in C_j, \\ j\\neq l \\end{cases}$$"
      ]
    },
    {
      "cell_type": "markdown",
      "metadata": {
        "id": "4Zqt5tH4ruRz"
      },
      "source": [
        "In machine learning for **classification**, we would like **to learn the boundary separating** the instances of one class from the instances of all other classes.\n",
        "\n",
        "Thus we view a **$K$-class classification problem** as $K$ two-class problems. The training examples belonging to $C_l$ are the positive instances\n",
        "of hypothesis $h_l$ and the examples of all other classes are the negative instances of $h_l$.\n",
        "\n",
        "Thus in a $K$-class problem, we have $K$ hypotheses\n",
        "to learn such that\n",
        "$$h_l(x^i) = \\begin{cases} 1 \\quad \\text{if} \\ x^i\\in C_l\\\\ 0 \\quad \\ \\text{if} \\  x^i\\in C_j, \\ j\\neq l \\end{cases}$$\n",
        "\n",
        "The **total empirical error** takes a sum over the predictions for all classes over all instances:\n",
        "$$E\\left(\\{h_l\\}_{l=1}^K \\ | \\ X \\right) = \\sum_{i=1}^N \\sum_{l=1}^K 1(h_l(x^i) \\neq r_l^i)$$\n",
        "\n",
        "For a given instance $x$, ideally only one of $h_l(x), l = 1,\\ldots, K$ is 1 and we canchoose a class. But when no, or two or more, $h_l(x)$ is 1, we cannot choose a class, and this is the case of doubt and the classifier **rejects** such cases."
      ]
    },
    {
      "cell_type": "markdown",
      "metadata": {
        "id": "zEm7edpIEuPJ"
      },
      "source": [
        "### **Vapnik-Chervonenkis (VC) Dimension**"
      ]
    },
    {
      "cell_type": "markdown",
      "metadata": {
        "id": "XyJq1YSWEy2g"
      },
      "source": [
        "We **assume** that $\\mathscr{H}$ includes $C$; that is, **there exists** $h \\in \\mathscr{H}$, such that $E(h|X)$ is 0. Given a hypothesis class $\\mathscr{H}$, it may be the case that **we cannot learn C**; that is, there exists no $h \\in \\mathscr{H}$ for which the error is 0. Thus, in any application, we need to make sure that $\\mathscr{H}$ is flexible enough, or has enough **capacity**, to learn C."
      ]
    },
    {
      "cell_type": "markdown",
      "metadata": {
        "id": "on4BrxyOHEfw"
      },
      "source": [
        "Let us say we have a dataset containing $N$ points. These $N$ points can be labeled in $2^N$ ways as positive and negative. Therefore, $2^N$ different **learning problems** can be defined by $N$ data points.\n",
        "\n",
        "If for **any** of these problems, we can find a hypothesis $h\\in \\mathscr{H}$ that separates the positive examples from the negative, then we say $\\mathscr{H}$ **shatters** N points. That is, any\n",
        "learning problem definable by $N$ examples **can be learned** with no error by a hypothesis drawn from  $\\mathscr{H}$.\n",
        "\n",
        "The maximum number of points that can be shattered by  $\\mathscr{H}$ is called the **Vapnik-Chervonenkis (VC) dimension** of  $\\mathscr{H}$, is denoted as $VC(\\mathscr{H})$, and measures the **capacity** of $\\mathscr{H}$."
      ]
    },
    {
      "cell_type": "markdown",
      "metadata": {
        "id": "9Nv9zBplLHwt"
      },
      "source": [
        "#### *Example*"
      ]
    },
    {
      "cell_type": "markdown",
      "metadata": {
        "id": "mbVv222nLIvW"
      },
      "source": [
        "Then $VC(\\mathscr{H})$, when $\\mathscr{H}$ is the hypothesis class of axis-aligned rectangles in two dimensions, is four. In calculating the\n",
        "$VC$ dimension, it is enough that we find four points that can be shattered;\n",
        "it is not necessary that we be able to shatter any four points in two dimensions. For example, four points placed on a line cannot be shattered\n",
        "by rectangles. However, we cannot place five points in two dimensions\n",
        "anywhere such that a rectangle can separate the positive and negative\n",
        "examples for all possible labelings."
      ]
    },
    {
      "cell_type": "markdown",
      "metadata": {
        "id": "7rc-C_5WLnCl"
      },
      "source": [
        "VC dimension may seem pessimistic. It tells us that using a rectangle\n",
        "as our hypothesis class, we can learn only datasets containing four points\n",
        "and not more. A learning algorithm that can learn datasets of four points\n",
        "is not very useful.\n",
        "\n",
        "However, this is because the **VC dimension** is **independent**\n",
        "of the **probability distribution** from which instances are drawn. In real life, the world is smoothly changing, instances close by most of the time have the same labels, and we need not worry about all possible labelings. There are a lot of datasets containing many more data points than four that are learnable by our hypothesis class."
      ]
    },
    {
      "cell_type": "markdown",
      "metadata": {
        "id": "Yd92CqPTMF3A"
      },
      "source": [
        "VC dimension of some popular classifiers:\n",
        "\n",
        "- **Linear classifiers** in $\\mathbb{R}^d$,\n",
        "$$ \\mathscr{F} = \\left\\{f: f(x) = sign(w^T x), \\ w\\in \\mathbb{R}^d\\right\\}$$\n",
        "is $d$.\n",
        "- **Affine classifiers**\n",
        "$$ \\mathscr{F}^{'} = \\left\\{f: f(x) = sign(w^T x+w_0), \\ w\\in \\mathbb{R}^d, \\ w_0\\in \\mathbb{R}\\right\\}$$\n",
        "is $d+1$\n",
        "- The **$k$-Nearest neighbors algorithm** using $k=1$ is **infinite**\n",
        "- **Support Vector Machines (SVM)** with radial basis kernel have **infinite** VC dimension."
      ]
    },
    {
      "cell_type": "markdown",
      "metadata": {},
      "source": [
        "<style>\n",
        ".bubble {\n",
        "  max-width: 70%;\n",
        "  width: fit-content;\n",
        "  word-wrap: break-word; \n",
        "  padding: 10px;\n",
        "  border-radius: 10px;\n",
        "  color: #ffffff;\n",
        "}\n",
        ".left {\n",
        "  background-color: #333333;\n",
        "}\n",
        ".right {\n",
        "  background-color: #4285F4;\n",
        "  text-align: right;\n",
        "  margin-left: auto;\n",
        "}\n",
        "</style>\n",
        "\n",
        "<div class=\"bubble right\">\n",
        "Dame más ejemplos\n",
        "\n",
        ".\n",
        "</div>"
      ]
    },
    {
      "cell_type": "markdown",
      "metadata": {},
      "source": [
        "La **dimensión VC** (Vapnik-Chervonenkis) es una medida que indica la capacidad de un modelo de aprendizaje o una familia de funciones para **clasificar conjuntos de datos de forma perfecta**. Es el tamaño máximo de un conjunto de puntos que puede ser **completamente \"shattereado\"** por la familia de funciones (es decir, clasificado de todas las maneras posibles). A continuación, te doy ejemplos de la dimensión VC para diferentes familias de clasificadores:\n",
        "\n",
        "\n",
        "\n",
        "\n",
        "\n",
        "\n",
        "\n",
        "\n",
        "\n",
        "\n",
        "\n",
        "\n",
        "\n",
        "\n",
        "\n",
        "\n",
        "\n",
        "\n",
        "\n",
        "\n",
        "\n"
      ]
    },
    {
      "cell_type": "markdown",
      "metadata": {},
      "source": [
        "1. **Rectas en el plano ($\\mathbb{R}^2$)**\n",
        "- **Modelo**: Clasificadores lineales en el plano.\n",
        "- **Dimensión VC**: $3$.\n",
        "  - Tres puntos en $\\mathbb{R}^2$ pueden ser separados en cualquier configuración (e.g., etiquetas como $\\{+1, -1\\}$) con una línea recta.\n",
        "  - Sin embargo, no se puede garantizar lo mismo para cuatro puntos en disposición específica (como vértices de un cuadrado)."
      ]
    },
    {
      "cell_type": "markdown",
      "metadata": {},
      "source": [
        "2. **Hiperplanos en $\\mathbb{R}^n$**\n",
        "- **Modelo**: Clasificadores lineales en espacios de mayor dimensión.\n",
        "- **Dimensión VC**: $n+1$.\n",
        "  - Un hiperplano puede separar hasta $n+1$ puntos en cualquier configuración, pero no $n+2$."
      ]
    },
    {
      "cell_type": "markdown",
      "metadata": {},
      "source": [
        "3. **Parábolas en el plano ($\\mathbb{R}^2$)**\n",
        "- **Modelo**: Conjunto de parábolas en 2D.\n",
        "- **Dimensión VC**: $5$.\n",
        "  - Hasta 5 puntos en el plano pueden ser clasificados de todas las maneras posibles por parábolas.\n",
        "  - No se puede garantizar lo mismo para 6 puntos en configuraciones específicas."
      ]
    },
    {
      "cell_type": "markdown",
      "metadata": {},
      "source": [
        "4. **Círculos en el plano ($\\mathbb{R}^2$)**\n",
        "- **Modelo**: Conjuntos definidos por círculos.\n",
        "- **Dimensión VC**: $3$.\n",
        "  - Tres puntos en el plano pueden ser separados en cualquier configuración por un círculo (dentro o fuera del círculo).\n",
        "  - Cuatro puntos no pueden ser siempre separados en todas las combinaciones posibles."
      ]
    },
    {
      "cell_type": "markdown",
      "metadata": {},
      "source": [
        "5. **Intervalos en la recta ($\\mathbb{R}$)**\n",
        "- **Modelo**: Clasificadores definidos por intervalos $[a, b]$.\n",
        "- **Dimensión VC**: $2$.\n",
        "  - Se pueden clasificar hasta dos puntos en la línea real en todas las configuraciones posibles con un intervalo.\n",
        "  - Tres puntos no pueden ser clasificados en todas las configuraciones posibles.\n",
        "\n",
        "\n",
        "\n",
        "\n",
        "\n",
        "\n",
        "\n",
        "\n",
        "\n"
      ]
    },
    {
      "cell_type": "markdown",
      "metadata": {},
      "source": [
        "6. **Conjuntos finitos de funciones constantes**\n",
        "- **Modelo**: Clasificadores que siempre predicen una constante (e.g., $f(x) = c$).\n",
        "- **Dimensión VC**: $1$.\n",
        "  - Solo un punto puede ser clasificado correctamente de todas las maneras posibles (si $f(x) = c$, no puede \"adaptarse\" a configuraciones más complejas)."
      ]
    },
    {
      "cell_type": "markdown",
      "metadata": {},
      "source": [
        "7. **Redes neuronales con una capa oculta y activaciones lineales por partes**\n",
        "- **Modelo**: Red neuronal con $W$ pesos ajustables.\n",
        "- **Dimensión VC**: Proporcional a $W$ (generalmente se aproxima como $W + 1$).\n",
        "  - Por ejemplo, una red con 10 pesos ajustables tendrá una dimensión VC de aproximadamente $11$."
      ]
    },
    {
      "cell_type": "markdown",
      "metadata": {},
      "source": [
        "\n",
        "\n",
        "\n",
        "8. **Máquinas de soporte vectorial (SVM) con kernel lineal**\n",
        "- **Modelo**: SVM en espacios de características lineales.\n",
        "- **Dimensión VC**: Depende de las dimensiones del espacio de entrada.\n",
        "  - Por ejemplo, si el espacio tiene $d$ dimensiones, la VC-dimensión está acotada por $d+1$.\n",
        "\n",
        "\n",
        "\n",
        "\n"
      ]
    },
    {
      "cell_type": "markdown",
      "metadata": {},
      "source": [
        "9. **Conjuntos de funciones polinomiales de grado $d$ en $\\mathbb{R}$**\n",
        "- **Modelo**: Polinomios de grado $d$.\n",
        "- **Dimensión VC**: $d+1$.\n",
        "  - Por ejemplo, un polinomio cuadrático ($d=2$) tiene dimensión VC igual a $3$."
      ]
    },
    {
      "cell_type": "markdown",
      "metadata": {},
      "source": [
        "<style>\n",
        ".bubble {\n",
        "  max-width: 70%;\n",
        "  width: fit-content;\n",
        "  word-wrap: break-word; \n",
        "  padding: 10px;\n",
        "  border-radius: 10px;\n",
        "  color: #ffffff;\n",
        "}\n",
        ".left {\n",
        "  background-color: #333333;\n",
        "}\n",
        ".right {\n",
        "  background-color: #4285F4;\n",
        "  text-align: right;\n",
        "  margin-left: auto;\n",
        "}\n",
        "</style>\n",
        "\n",
        "<div class=\"bubble right\">\n",
        "¿Cómo encuentro la dimensión VC de algo?\n",
        "\n",
        ".\n",
        "</div>"
      ]
    },
    {
      "cell_type": "markdown",
      "metadata": {},
      "source": [
        "Para encontrar la **dimensión VC** de una familia de clasificadores o funciones, debes determinar el **número máximo de puntos** que pueden ser **shattereados** por esa familia. Un conjunto de puntos se dice que es **shattereado** si la familia de funciones puede clasificar esos puntos en **todas las configuraciones posibles de etiquetas binarias** ($+1$ y $-1$). El proceso se realiza en los siguientes pasos:\n",
        "\n",
        "\n",
        "\n",
        "\n",
        "**1. Define la familia de funciones o clasificadores**\n",
        "Primero, debes tener claro cuál es la familia de clasificadores que estás analizando. Ejemplos:\n",
        "- Líneas rectas (clasificadores lineales) en $\\mathbb{R}^2$.\n",
        "- Hiperplanos en $\\mathbb{R}^n$.\n",
        "- Círculos en el plano.\n",
        "- Polinomios de grado $d$.\n",
        "- Redes neuronales con activaciones específicas.\n",
        "\n",
        "\n",
        "\n",
        "\n",
        "**2. Encuentra el conjunto de puntos máximo que puede ser shattereado**\n",
        "Este es el núcleo del problema. Sigue los siguientes subpasos:\n",
        "\n",
        "**a) Escoge un conjunto de puntos arbitrarios**\n",
        "Supón que tomas $n$ puntos en tu espacio de entrada. Estos puntos deben ser elegidos de forma general (sin degeneraciones o simetrías específicas que podrían facilitar o dificultar la clasificación).\n",
        "\n",
        "**b) Determina si puedes generar todas las configuraciones de etiquetas posibles**\n",
        "Para $n$ puntos, hay $2^n$ combinaciones posibles de etiquetas ($+1, -1$). Verifica si la familia de funciones puede clasificar los puntos para **cada configuración de etiquetas**.\n",
        "\n",
        "- **Si es posible para todas las configuraciones**, entonces el conjunto de puntos es **shattereado** por la familia de funciones.\n",
        "- Si no es posible para al menos una configuración, entonces $n$ **no puede ser la dimensión VC**.\n",
        "\n",
        "**c) Incrementa $n$ y repite**\n",
        "- Aumenta el número de puntos $n$ y vuelve a verificar si puedes shatterear todas las configuraciones.\n",
        "- La **dimensión VC** será el valor máximo de $n$ tal que los puntos pueden ser shattereados. Para $n+1$ puntos, ya no será posible shatterear todas las configuraciones.\n",
        "\n",
        "\n",
        "\n",
        "\n",
        "**3. Ejemplo: Líneas rectas en $\\mathbb{R}^2$**\n",
        "Paso 1: Familia de clasificadores\n",
        "- Funciones lineales de la forma $f(x, y) = ax + by + c$ que dividen el plano en dos regiones.\n",
        "\n",
        "Paso 2: Determinar la dimensión VC\n",
        "- **Caso $n = 1$:** Un punto puede ser clasificado como $+1$ o $-1$ sin problemas.\n",
        "- **Caso $n = 2$:** Dos puntos pueden ser clasificados de cualquier forma (uno como $+1$, el otro como $-1$, o ambos iguales), ya que siempre puedes trazar una línea entre ellos.\n",
        "- **Caso $n = 3$:** Tres puntos no colineales pueden ser separados en cualquier configuración. Ejemplo:\n",
        "  - $\\{+1, -1, +1\\}$: Separa con una línea que pase entre el segundo y tercer punto.\n",
        "- **Caso $n = 4$:** Si los cuatro puntos forman un cuadrado, no siempre es posible separar todas las configuraciones (por ejemplo, $\\{+1, -1, +1, -1\\}$).\n",
        "\n",
        "Por lo tanto, la **dimensión VC** de las líneas rectas en $\\mathbb{R}^2$ es $3$.\n",
        "\n",
        "\n",
        "\n",
        "\n",
        "**4. Observaciones importantes**\n",
        "- **Teoría combinatoria:** Si tienes intuición en combinatoria, puedes razonar sobre cuántas configuraciones posibles de etiquetas pueden cubrirse con las funciones dadas.\n",
        "- **Pruebas formales:** Para casos complejos (e.g., redes neuronales), se usan herramientas matemáticas avanzadas, como conteos combinatorios y teoría de la probabilidad.\n",
        "- **Propiedades geométricas:** Algunas familias, como círculos o parábolas, requieren analizar propiedades geométricas del espacio."
      ]
    },
    {
      "cell_type": "markdown",
      "metadata": {},
      "source": [
        "<style>\n",
        ".bubble {\n",
        "  max-width: 70%;\n",
        "  width: fit-content;\n",
        "  word-wrap: break-word; \n",
        "  padding: 10px;\n",
        "  border-radius: 10px;\n",
        "  color: #ffffff;\n",
        "}\n",
        ".left {\n",
        "  background-color: #333333;\n",
        "}\n",
        ".right {\n",
        "  background-color: #4285F4;\n",
        "  text-align: right;\n",
        "  margin-left: auto;\n",
        "}\n",
        "</style>\n",
        "\n",
        "<div class=\"bubble right\">\n",
        "no se consideran los casos colineales?\n",
        "\n",
        ".\n",
        "</div>"
      ]
    },
    {
      "cell_type": "markdown",
      "metadata": {},
      "source": [
        "¡Muy buena pregunta! En el cálculo de la **dimensión VC**, **los puntos deben ser escogidos de manera \"general\"** para garantizar que no haya una configuración especial (como colinealidad o simetrías específicas) que reduzca artificialmente la capacidad del clasificador. Esto significa que **los casos colineales no se consideran como un obstáculo** al determinar la dimensión VC porque no representan la situación más general del modelo.\n",
        "\n",
        "\n",
        "\n",
        "\n",
        "**Por qué no se consideran los puntos colineales:**\n",
        "1. **La dimensión VC mide la capacidad máxima del modelo:**\n",
        "   La dimensión VC es el **número máximo de puntos** que pueden ser **shattereados en cualquier configuración**. Si los puntos son colineales, introduces restricciones geométricas que dificultan la separación, pero esto no refleja la capacidad completa del clasificador en situaciones generales.\n",
        "\n",
        "2. **Se consideran puntos en posición general:**\n",
        "   Para evitar casos degenerados (como colinealidad en clasificadores lineales o coplanaridad en clasificadores no lineales), los puntos deben ser tomados en **posición general**. Esto significa que:\n",
        "   - En $\\mathbb{R}^2$, los puntos no deben ser colineales.\n",
        "   - En $\\mathbb{R}^3$, los puntos no deben ser coplanarios.\n",
        "   - En general, los puntos no deben satisfacer restricciones que limiten la capacidad del clasificador.\n",
        "\n",
        "3. **Restricciones degeneradas no reflejan la realidad:**\n",
        "   Los puntos colineales restringen las posibles configuraciones que el clasificador puede manejar. Esto no refleja el caso general donde los datos son distribuidos de forma más libre. Por ejemplo:\n",
        "   - Si estás evaluando líneas rectas en $\\mathbb{R}^2$, los puntos colineales siempre se podrán separar perfectamente porque caen en una sola dimensión, lo cual subestima la capacidad real del clasificador en el plano.\n",
        "\n",
        "\n",
        "\n",
        "\n",
        "**Ejemplo: Líneas rectas en $\\mathbb{R}^2$**\n",
        "1. **Caso general (no colineales):**\n",
        "   Tres puntos no colineales en $\\mathbb{R}^2$ **pueden ser clasificados de todas las maneras posibles** ($2^3 = 8$ combinaciones), ya que puedes trazar líneas para separar cualquier configuración.\n",
        "\n",
        "2. **Caso degenerado (colineales):**\n",
        "   Tres puntos colineales **no pueden ser clasificados de todas las maneras posibles**. Por ejemplo:\n",
        "   - La configuración $\\{+1, -1, +1\\}$ no es separable con una línea recta porque están alineados.\n",
        "\n",
        "En este caso, la colinealidad restringe las configuraciones posibles, pero no se toma en cuenta al calcular la dimensión VC porque **se buscan configuraciones generales y no degeneradas**.\n",
        "\n",
        "\n",
        "\n",
        "\n",
        "**Regla clave:**\n",
        "**Para calcular la dimensión VC, los puntos deben ser colocados en configuraciones que maximicen la capacidad del clasificador.** Esto implica evitar restricciones geométricas especiales como colinealidad o coplanaridad, ya que estas no representan el comportamiento general del modelo. "
      ]
    },
    {
      "cell_type": "markdown",
      "metadata": {
        "id": "J83uvB7VF1lN"
      },
      "source": [
        "### **Noise**"
      ]
    },
    {
      "cell_type": "markdown",
      "metadata": {
        "id": "zHx9_zXSF2-4"
      },
      "source": [
        "**Noise** is any unwanted anomaly in the data and due to noise, the class\n",
        "may be more difficult to learn and zero error may be infeasible with a simple hypothesis class.\n",
        "\n",
        "There are several interpretations of noise:\n",
        "- There may be **imprecision in recording the input attributes**, which may\n",
        "shift the data points in the input space.\n",
        "- There may be **errors in labeling** the data points, which may relabel positive instances as negative and vice versa. This is sometimes called\n",
        "**teacher noise**.\n",
        "- There may be **additional attributes**, which we have not taken into account,\n",
        "that affect the label of an instance. Such attributes may be hidden or latent in that they may be **unobservable**. The effect of these neglected attributes is thus modeled as a random component and is included in noise."
      ]
    },
    {
      "cell_type": "markdown",
      "metadata": {
        "id": "1fzsOTuzdNGk"
      },
      "source": [
        "### **Model Selection**"
      ]
    },
    {
      "cell_type": "markdown",
      "metadata": {
        "id": "5_SYizpKdPBL"
      },
      "source": [
        "Each **hypothesis class** has a certain **capacity** and can **learn** only certain functions. The class of functions that can be learned can be extended by using a hypothesis class with larger capacity, containing more complex hypotheses. For example, the hypothesis class that is a union of two rectangles has higher capacity, but its hypotheses are more complex.\n",
        "\n",
        "Thus learning is not possible without **inductive bias**, and now the question is how to choose the right bias. This is called **model selection**, which is choosing between possible $\\mathscr{h}$.\n",
        "\n",
        "In answering this question, we should\n",
        "remember that the **aim** of machine learning is rarely to replicate the training data but the **prediction for new cases**.\n",
        "\n",
        "That is we would like to be able to generate the right output for an input instance outside the training set, one for which the correct output is not given in the training set. How well a model trained on the training set predicts the right output for new generalization instances is called **generalization**.\n",
        "\n",
        "For best generalization, we should match the complexity of the hypothesis\n",
        "class $\\mathscr{h}$ with the complexity of the function underlying the data.\n"
      ]
    },
    {
      "cell_type": "markdown",
      "metadata": {
        "id": "7Nu79MgNfbKI"
      },
      "source": [
        "- If $\\mathcal{H}$ is less complex than the function, we have **underfitting**. In\n",
        "such a case, as we increase the complexity, the training error decreases.\n",
        "\n",
        "- If we have $\\mathcal{H}$ that is too complex, the data is not enough to constrain\n",
        "it and we may end up with a bad hypothesis, $h$. This is called **overfitting**. In such a case, having more training data helps but only up to a certain point. Given a training\n",
        "set and hypothesis set, we can find $h\\in \\mathcal{H}$ that has the minimum training error but if $\\mathcal{H}$ is not chosen well, no matter which $h$ we pick, we will not have\n",
        "good generalization."
      ]
    },
    {
      "cell_type": "markdown",
      "metadata": {
        "id": "_PzjlZKCGoyx"
      },
      "source": [
        "In all **learning algorithms** that are trained from example data,\n",
        "there is a trade-off between three factors:\n",
        "- The **complexity of the hypothesis** we fit to data, namely, the **capacity**\n",
        "of the hypothesis class.\n",
        "- The amount of **training data**.\n",
        "- The **generalization error** on new examples."
      ]
    },
    {
      "cell_type": "markdown",
      "metadata": {
        "id": "66q0u4xqG3Oj"
      },
      "source": [
        "As the amount of training data increases, the generalization error decreases.\n",
        "\n",
        "As the complexity of the model class $\\mathscr{H}$ increases, the generalization error decreases first and then starts to increase."
      ]
    },
    {
      "cell_type": "markdown",
      "metadata": {
        "id": "gdri17GSHRbC"
      },
      "source": [
        "We can **measure** the **generalization ability** of a hypothesis, namely, the\n",
        "**quality** of its inductive bias, if we have access to data outside the training set.\n",
        "\n",
        " We simulate this by dividing the training set we have into two parts.\n",
        "We use one part for **training** (i.e., to fit a hypothesis), and the remaining part is called the **validation set** and is used to test the generalization ability."
      ]
    },
    {
      "cell_type": "markdown",
      "metadata": {
        "id": "adOjU3A-HtfL"
      },
      "source": [
        "That is, given a set of possible hypothesis classes $\\mathscr{H}_i$, for each\n",
        "we fit the best $h_i \\in \\mathscr{H}_i$ on the training set. Then, assuming large enough\n",
        "training and validation sets, the hypothesis that is the most accurate on\n",
        "the validation set is the best one (the one that has the best inductive bias). This process is called **cross-validation**."
      ]
    },
    {
      "cell_type": "markdown",
      "metadata": {
        "id": "IJ8UTTzcIHMp"
      },
      "source": [
        "Note that if we need **to report the error** to give an idea about the expected error of our best model, we should not use the validation error.\n",
        "We have used the **validation set to choose the best model**, and it has effectively become a part of the training set. We need a third set, a **test set**, containing examples not used in training or validation"
      ]
    },
    {
      "cell_type": "markdown",
      "metadata": {
        "id": "A5KXO0g_oCgc"
      },
      "source": [
        "### **Learning theory**"
      ]
    },
    {
      "cell_type": "markdown",
      "metadata": {
        "id": "jcSlVXDkKY7M"
      },
      "source": [
        "**Machine learning** works from data. In **supervised learning**, the machine is given both input data and output labels, from which it produces a model that can predict the label for any input. In **unsupervised learning**, the machine is only given a set of input data from which it should extract knowledge."
      ]
    },
    {
      "cell_type": "markdown",
      "metadata": {
        "id": "dmAOLBWF8BzJ"
      },
      "source": [
        "### **Input data**"
      ]
    },
    {
      "cell_type": "markdown",
      "metadata": {
        "id": "WfP4bL-xoU8p"
      },
      "source": [
        "We denote an input by $x$  and assume that all inputs are taken from **a set of possible inputs**, known as the **input space** $\\mathcal{X}$\n",
        "\n",
        "In this course, we assume that the inputs are real $d$-dimensional vectors, i.e.,\n",
        "$$x\\in \\mathcal{X} \\subseteq \\mathbb{R}^d$$\n",
        "The word **features** will refer to the components x\n",
        "$$x_j \\in \\mathbb{R}^d, \\quad j=1,\\ldots,d$$\n",
        "of the input vectors\n",
        "$$x=[x_1,\\ldots,x_d]^T$$\n",
        "\n",
        "We will often consider sets of input vectors indexed by $i$ as $x_i$ or $x^i$. In this case, the $j$ th component of $x_i$ is denoted $x_{ij}$.\n",
        "\n",
        "We will also consider inputs as **random vectors** $X$. In this context, $x$ refers to a realization of $X$.\n"
      ]
    },
    {
      "cell_type": "markdown",
      "metadata": {
        "id": "Gcz_fIfw8BS8"
      },
      "source": [
        "### **Output labels**"
      ]
    },
    {
      "cell_type": "markdown",
      "metadata": {
        "id": "buy0XOg68G0q"
      },
      "source": [
        "We denote a **label** by $y$ and assume that all labels for a given problem are taken from a set of possible labels $\\mathcal{Y}$.\n",
        "\n",
        "We restain ourselves to labels  $y$ that are either taken from a discrete set of integers, i.e., \n",
        "$\\mathcal{Y}\\subset \\mathbb{Z}$, due we are dealing with a **classification problem**. (In the case of a regression problem $\\mathcal{Y}\\subseteq \\mathbb{R}$).\n",
        "\n",
        "Most of the time, we will also consider labels as random variables $Y$  taking values in $\\mathcal{Y}$ In this context, $y$ refers to a realization of $Y$."
      ]
    },
    {
      "cell_type": "markdown",
      "metadata": {},
      "source": [
        "> En este contexto, \"la realización de\" significa el valor específico que toma una variable aleatoria en un caso particular o experimento dado."
      ]
    },
    {
      "cell_type": "markdown",
      "metadata": {
        "id": "GZeGvYpOcSX0"
      },
      "source": [
        "### **Machine Learning**"
      ]
    },
    {
      "cell_type": "markdown",
      "metadata": {
        "id": "4_1T_ocgcVOt"
      },
      "source": [
        "**Machine learning** is concerned with obtaining a **mapping** from the input space $\\mathcal{X}$  to the space of labels $\\mathcal{Y}$ from data in the case where the desired mapping cannot be explicited as a simple algorithm.\n",
        "\n",
        "If the available data contains only examples from $\\mathcal{X}$ , then this is **unsupervised learning**.\n",
        "\n",
        "If for each datum from $\\mathcal{X}$  the corresponding label in $\\mathcal{Y}$  is also given, then this is **supervised learning**."
      ]
    },
    {
      "cell_type": "markdown",
      "metadata": {},
      "source": [
        "> **\"mapping\"** se refiere a una **función** o una relación que asigna elementos de un conjunto a elementos de otro. Es una manera formal de describir cómo un modelo o algoritmo aprende una relación entre los **datos de entrada** y sus correspondientes **salidas**.\n",
        " \n",
        "> Definición en el contexto de machine learning:\n",
        "> Un **mapping** es una función $f: \\mathcal{X} \\to \\mathcal{Y}$, donde:\n",
        "> - $\\mathcal{X}$ es el **espacio de entrada** (también llamado dominio, por ejemplo, características o variables independientes).\n",
        "> - $\\mathcal{Y}$ es el **espacio de salida** (también llamado codominio, por ejemplo, etiquetas o variables dependientes).\n",
        "> - $f$ es la función que el modelo intenta aprender para predecir $y$ dados $x$, es decir, $f(x) = y$.\n",
        "\n",
        "> **Ejemplo:**\n",
        "> - Si estás trabajando en un problema de clasificación, el mapping sería una función que asigna un conjunto de características ($x$) a una clase específica ($y$).\n",
        "> - Si estás en un problema de regresión, el mapping asigna $x$ a un valor numérico $y$."
      ]
    },
    {
      "cell_type": "markdown",
      "metadata": {},
      "source": [
        "<!-- > Definición de Machine Learning (ML): -->\n",
        "\n",
        "> **Machine Learning** es una rama de la inteligencia artificial que se centra en el desarrollo de **algoritmos y modelos matemáticos** que permiten a las computadoras aprender patrones a partir de **datos** sin ser programadas explícitamente para realizar tareas específicas.\n",
        "\n",
        "> De manera formal:\n",
        "> **Machine Learning** es el estudio de algoritmos que permiten construir un **mapping** $f: \\mathcal{X} \\to \\mathcal{Y}$, tal que el modelo pueda hacer predicciones o tomar decisiones basadas en datos de entrada $\\mathcal{X}$, optimizando alguna métrica de rendimiento y generalizando a nuevos datos.\n",
        "\n",
        "> Elementos principales:\n",
        "> 1. **Datos ($\\mathcal{X}, \\mathcal{Y}$)**: Observaciones que consisten en entradas ($x$) y salidas ($y$).\n",
        "> 2. **Modelo o Mapping ($f$)**: Relación que el algoritmo aprende entre entradas y salidas.\n",
        "> 3. **Entrenamiento**: Proceso de ajustar $f$ con los datos de entrenamiento para minimizar el error.\n",
        "> 4. **Generalización**: Habilidad del modelo para predecir correctamente en datos no vistos (de prueba)."
      ]
    },
    {
      "cell_type": "markdown",
      "metadata": {
        "id": "wTi-6sml9K-3"
      },
      "source": [
        "### **Predictive models**"
      ]
    },
    {
      "cell_type": "markdown",
      "metadata": {
        "id": "jG_Y33ZLKq4H"
      },
      "source": [
        "In a **machine learning problem** characterized by a given input space and a given label space, a **predictive model** is a function that assigns a label to every possible input; and we call **predictions** the outputs of such a function."
      ]
    },
    {
      "cell_type": "markdown",
      "metadata": {
        "id": "wy7PyS7G9PeM"
      },
      "source": [
        "Given an input space $\\mathcal{X}$ and a label space $\\mathcal{Y}$, a **predictive model** is a function\n",
        "$$f: \\ \\mathcal{X} \\rightarrow \\mathcal{Y}$$\n",
        "that maps any input vector $x$ to a label $f(x)$, called a **prediction**.\n"
      ]
    },
    {
      "cell_type": "markdown",
      "metadata": {
        "id": "MILiHsK2K_Tp"
      },
      "source": [
        "Thus, **learning** can be formulated as the search for a model in the space of all such functions, denoted $\\mathcal{Y}^{\\mathcal{X}}$."
      ]
    },
    {
      "cell_type": "markdown",
      "metadata": {
        "id": "1JISM5QyLBOX"
      },
      "source": [
        "However, this approach is usually not as directly implemented by learning algorithms for two major reasons:\n",
        "-  This approach might be **algorithmically intractable**, since it is very difficult for an algorithm to implement any function from the input space to the label space.\n",
        "- Even if we could implement all these functions, we would not be able to determine which one is the best one and the algorithm would be prone to **overfitting**."
      ]
    },
    {
      "cell_type": "markdown",
      "metadata": {
        "id": "ahO3PrjDK0PC"
      },
      "source": [
        "Instead of searching for a model in the set of all such function $\\mathcal{Y}^{\\mathcal{X}}$. most **learning algorithms** consider a restricted model space\n",
        "$$\\mathcal{F} \\subset \\mathcal{Y}^{\\mathcal{X}}$$\n",
        "also called a **function class**."
      ]
    },
    {
      "cell_type": "markdown",
      "metadata": {
        "id": "4ewJMEW9VtV8"
      },
      "source": [
        "A popular example of such a function class is the set of all **linear classifiers** for two class problem. With input space $\\mathcal{X}\\subseteq \\mathbb{R}^d$ and label space and label space $\\mathcal{Y} = \\{-1,1\\}$, this can be represented as\n",
        "$$\\mathcal{F} = \\{ f\\in \\mathcal{Y}^{\\mathcal{X}}: \\quad f(x) = \\text{sign}(w^Tx + w_0), \\ w\\in \\mathbb{R}^d, \\ w_0\\in \\mathbb{R}\\}$$\n",
        "Here, the parameters of the model that have to be learned from data are the components of the parameter vector $w$ and the bias $w_0$. This means that any pair $(w, w_0)$ uniquely defines a model $f$ in the function class $\\mathcal{F}$."
      ]
    },
    {
      "cell_type": "markdown",
      "metadata": {
        "id": "l7WU5wK5--H2"
      },
      "source": [
        "In a **supervised learning problem** with input space $\\mathcal{X}$ and label space  $\\mathcal{Y}$, a **learning algorithm** $\\mathcal{A}$ is a mapping of the form\n",
        "$$A: \\ \\left(\\mathcal{F},\\ \\{(x_i,y_i)\\}^N_{i=1}\\right)\\rightarrow f\\in \\mathcal{F}$$\n",
        "where $\\mathcal{F}$ is a set of possible models, $$\\{(x_i,\\ y_i)\\}^N_{i=1} \\in (\\mathcal{X}, \\mathcal{Y})^N$$\n",
        " is a training set and $f$ is the returned predictive model."
      ]
    },
    {
      "cell_type": "markdown",
      "metadata": {
        "id": "WbyP27O1LgWH"
      },
      "source": [
        "In machine learning, we often encounter **parameterized function classes** for which the class of functions itself is defined up to the value of some parameters. A typical example is the class of polynomials parametrized by the degree of the polynomials.\n",
        "\n",
        "In order to distinguish between the **parameters of the model** and the **parameters of the model class**, we call the latter **hyperparameters**.\n",
        "\n",
        "The distinction between parameters and hyperparameters is of primary importance in order to understand the overall learning procedure. Indeed, while the values of the parameters are automatically determined by the learning algorithm, the hyperparameters must be tuned by the user."
      ]
    },
    {
      "cell_type": "markdown",
      "metadata": {
        "id": "kNh-Okcn_2li"
      },
      "source": [
        "Some learning algorithms have one or more parameters that have to **be tuned by the user**. To differentiate these from the model parameters that **are learned** when applying the algorithm, we call the parameters of an algorithm its **hyperparameters**. In this case, the mapping takes the form\n",
        "$$A: \\ \\left(\\mathcal{F},\\ \\{(x_i,y_i)\\}^N_{i=1},\\ \\gamma\\right)\\rightarrow f\\in \\mathcal{F}$$\n",
        "for a generic (and possibly multidimensional) hyperparameter $\\gamma$.\n",
        ".\n",
        "\n"
      ]
    },
    {
      "cell_type": "markdown",
      "metadata": {
        "id": "qd6a2_knZIcx"
      },
      "source": [
        "### **The risk and the loss function**"
      ]
    },
    {
      "cell_type": "markdown",
      "metadata": {
        "id": "3LVo_KkQZKXO"
      },
      "source": [
        "In supervised learning, a **loss function** $$\\mathcal{l}: \\mathcal{Y}\\times \\mathcal{Y}\\rightarrow \\mathbb{R}^{+}$$\n",
        "computes a **pointwise measure** $\\mathcal{l}(y,\\hat{y})$ of the error between a label $y$  and its estimate $\\hat{y}$.\n",
        "\n",
        "For all $(y,\\hat{y})\\in \\mathcal{Y}^2$, a loss function satisfies\n",
        "$$\\mathcal{l}(y,\\hat{y})\\geq 0$$\n",
        "$$\\hat{y}=y \\quad \\Rightarrow  \\quad l(y, \\hat{y})=0$$"
      ]
    },
    {
      "cell_type": "markdown",
      "metadata": {
        "id": "OusLCQizWJ2A"
      },
      "source": [
        "The **risk** of a learning machine or model is the amount of **prediction error** that can be **expected** when using that model. The main goal in supervised learning is to **minimize this risk** in order to obtain the most accurate model.\n",
        "\n",
        "In the sentence above, the \"amount of error\" is measured via a loss function."
      ]
    },
    {
      "cell_type": "markdown",
      "metadata": {
        "id": "kS2mX2noJqXU"
      },
      "source": [
        "Given a loss function $\\mathcal{l}$, the **risk** of a model $f$ is defined as the expectation of the loss function applied to the output of the model:\n",
        "$$R(f)=E_{X,Y}[\\mathcal{l}(Y, f(X))]$$\n"
      ]
    },
    {
      "cell_type": "markdown",
      "metadata": {
        "id": "pGggPD-5WcXr"
      },
      "source": [
        "The **risk** is not a quantity that can be computed exactly, since it measures the quality of predictions of unknown phenomena, and in practice must be estimated."
      ]
    },
    {
      "cell_type": "markdown",
      "metadata": {
        "id": "PUiDib3RWsOh"
      },
      "source": [
        "### **Estimating the risk with a test sample**"
      ]
    },
    {
      "cell_type": "markdown",
      "metadata": {
        "id": "JowIzBbGW3IV"
      },
      "source": [
        "The most simple estimate of the risk is the **test error**.  It is the average loss computed on an **independent and identically** distributed data sample, called the **test sample**.\n",
        "\n",
        "If the test sample is not independent of the training sample, the test error cannot be considered as an estimate of the risk."
      ]
    },
    {
      "cell_type": "markdown",
      "metadata": {
        "id": "wxDTBubKWvZt"
      },
      "source": [
        "The **risk** is defined as the expectation of the loss function and thus cannot be computed without knowledge of the **true data distribution**.\n",
        "\n",
        "The **test error** is a simple estimate of the risk that can be computed from data. Assume that we have access to both a training sample\n",
        "$$D={(X_i,Y_i)}^N_{i=1}$$\n",
        "and a test sample\n",
        "$$D_{test}={(X_i^{'},Y_i^{'})}^{N_t}_{i=1}$$\n",
        "of $N$ and $N_t$ independent and identically distributed copies of $(X,Y)$.\n",
        "\n",
        "Note that this also implies the independence of $D$\n",
        " and $D_{test}$."
      ]
    },
    {
      "cell_type": "markdown",
      "metadata": {
        "id": "phtQhfc3X7Cl"
      },
      "source": [
        "The procedure is as follows: we train a model $f$  on the training sample and then **estimate its risk** from the test sample by computing the test error\n",
        "$$R_{test}(f)=\\frac{1}{N_t}\\sum_{i=1} \\mathcal{l}\\left(Y_i^{'}, \\ f(X_i^{'})\\right)$$\n",
        "The **law of large numbers** tells us that this estimate converges as $N_t$ tends towards infinity to the expectation of the loss function, i.e., to the risk of $f$.\n",
        "."
      ]
    },
    {
      "cell_type": "markdown",
      "metadata": {
        "id": "O0qua1xdqOT1"
      },
      "source": [
        "### **Model selection**"
      ]
    },
    {
      "cell_type": "markdown",
      "metadata": {
        "id": "cE9-3erTqU_X"
      },
      "source": [
        "Given a function class $\\mathcal{F}_{\\rho}$ **parametrized** by $\\rho$ and a learning algorithm\n",
        "$$A: \\ \\left(\\mathcal{F}_{\\rho},\\ \\{(x_i,y_i), \\}^N_{i=1}, \\ \\gamma\\right)\\rightarrow f\\in \\mathcal{F}_{\\rho}$$\n",
        "parametrized by $\\gamma$, **model selection** amounts to finding the values of the hyperparameters $\\rho$ and $\\gamma$ that **minimize the risk** of the resulting model $f$.\n",
        "\n",
        "This task is intrinsically impossible since the risk cannot be computed exactly without access to the true data distribution, assumed to be unknown in supervised learning."
      ]
    },
    {
      "cell_type": "markdown",
      "metadata": {
        "id": "Px2qB79fteoY"
      },
      "source": [
        "### **Estimation versus approximation error**"
      ]
    },
    {
      "cell_type": "markdown",
      "metadata": {
        "id": "NasMPZmpuHdp"
      },
      "source": [
        "The **estimation erro**r is the error implied by the fact that the algorithm works with a **finite training set** that only partially reflects the true distribution of the data. By considering that the training set is obtained by randomly sampling the true distribution, this also incurs a certain variability in the resulting model.\n",
        "\n",
        "The **approximation error** is the error implied by the **choice of function class** and is defined as the difference in risk obtained by the best model within the function class and the optimal model."
      ]
    },
    {
      "cell_type": "markdown",
      "metadata": {
        "id": "cagFGmkruRgY"
      },
      "source": [
        "Given a supervised learning problem with a fixed distribution of the random pair of inputs $X\\in \\mathcal{X}$ and labels $Y\\in \\mathcal{Y}$, one can define the **optimal target model** $t$ as the one with minimal risk\n",
        "$$R^{∗}=R(t)=\\inf_{f:\\mathcal{X}\\rightarrow \\mathcal{Y}} R(f)$$\n",
        "In this definition, the minimum is considered over all possible functions from the input space $\\mathcal{X}$  to the label space $\\mathcal{Y}$\n",
        "\n",
        "Another important model when considering algorithms working with a restricted function class $\\mathcal{F}$, is the **best model within the class**:\n",
        "$$f^{∗}=\\arg\\min_{f∈\\mathcal{F}} R(f)$$"
      ]
    },
    {
      "cell_type": "markdown",
      "metadata": {
        "id": "kdmUosKEvBnr"
      },
      "source": [
        "With these definitions, the excess in error of a model $f$\n",
        " can be decomposed as\n",
        "$$R(f)−R^{∗}=[R(f)−R(f^{∗})]+[R(f^{*})-R^{*}]$$\n",
        "where the **estimation error** (first term) reflects the inability of the learning algorithm to find the best model $f^{*}$ in the class $\\mathcal{F}$, while the **approximation error** (second term) is induced by the limited capacity of the chosen function class $\\mathcal{F}$."
      ]
    },
    {
      "cell_type": "markdown",
      "metadata": {
        "id": "GA-iIFh2xEhV"
      },
      "source": [
        "### **Regularization**"
      ]
    },
    {
      "cell_type": "markdown",
      "metadata": {
        "id": "aOc3rnPXxF5B"
      },
      "source": [
        "**Regularization** is a versatile approach to the problem of **overfitting**, which can be seen as a **modification of empirical risk minimization** with control of the **model complexity**.\n",
        "\n",
        "In this approach, we minimize a trade-off between the training error and a regularization term which penalizes complex models."
      ]
    },
    {
      "cell_type": "markdown",
      "metadata": {
        "id": "R_3kfPDAyPFt"
      },
      "source": [
        "**Regularized learning** in a function class $\\mathcal{F}$ can be posed as the **functional optimization problem**\n",
        "$$min_{f\\in \\mathcal{F}} R_{emp}(f)+\\lambda \\Omega(f)$$\n",
        "where $R_{emp}(f)$ is the empirical risk of $f$\n",
        "$$R_{emp}(f)=\\sum_{i=1}^N \\mathcal{l}(y_i,f(x_i))$$\n",
        "using a loss function $\\mathcal{l}$, $\\Omega:\\mathcal{F}\\rightarrow \\mathbb{R}^+$ is a **regularizer** which penalizes too complex functions $f$, and $\\lambda>0$  is a hyperparameter tuning the trade-off between the fit to the training data and the regularization.\n"
      ]
    },
    {
      "cell_type": "markdown",
      "metadata": {
        "id": "Y8-xk6kkbmnf"
      },
      "source": [
        "### **References**"
      ]
    },
    {
      "cell_type": "markdown",
      "metadata": {
        "id": "I2XJ__9lbqFx"
      },
      "source": [
        "- Alpaydin, E. (2010) *Introduction to Machine Learning**, 2nd ed., The MIT Press.\n",
        "\n",
        "- Lauer, F. (2014) [*An Interactive Journey into Machine Learning*](https://mlweb.loria.fr/book/en/machinelearning.html)"
      ]
    }
  ],
  "metadata": {
    "colab": {
      "provenance": []
    },
    "kernelspec": {
      "display_name": "Python 3",
      "name": "python3"
    },
    "language_info": {
      "name": "python"
    }
  },
  "nbformat": 4,
  "nbformat_minor": 0
}
