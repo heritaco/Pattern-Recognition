{
 "cells": [
  {
   "cell_type": "markdown",
   "metadata": {},
   "source": [
    "| $X_1$  | $X_2$  | $X_3$  | $Y$    |\n",
    "|------|------|------|------|\n",
    "| 1    | 0    | 25   | 1    |\n",
    "| 0    | 1    | 35   | 0    |\n",
    "| 1    | 1    | 35   | 1    |\n",
    "| 0    | 0    | 18   | 0    |\n",
    "| 1    | 1    | 40   | 1    |\n",
    "| 0    | 0    | 25   | 0    |\n",
    "| 1    | 0    | 30   | 1    |\n",
    "| 0    | 1    | 20   | 1    |\n",
    "| 1    | 1    | 30   | 1    |\n",
    "| 1    | 0    | 18   | 0    |"
   ]
  },
  {
   "cell_type": "markdown",
   "metadata": {},
   "source": [
    "Tenemos $\\omega_0$ que son a los que no se les dió crédito y a los que sí $\\omega_1$. Calculamos sus probabilidades:\n",
    "\n",
    "$$\\mathbb{P}[\\omega_0] = \\frac{4}{10} $$\n",
    "$$\\mathbb{P}[\\omega_1] = \\frac{6}{10} $$"
   ]
  },
  {
   "cell_type": "markdown",
   "metadata": {},
   "source": [
    "## **Probabilidades Condicionales**"
   ]
  },
  {
   "cell_type": "markdown",
   "metadata": {},
   "source": [
    "Tabla de los que sí les dieron crédito\n",
    "\n",
    "| $X_1$  | $X_2$  | $X_3$  | $Y$    |\n",
    "|------|------|------|------|\n",
    "| 1    | 0    | 25   | 1    |\n",
    "| 1    | 1    | 35   | 1    |\n",
    "| 1    | 1    | 40   | 1    |\n",
    "| 1    | 0    | 30   | 1    |\n",
    "| 0    | 1    | 20   | 1    |\n",
    "| 1    | 1    | 30   | 1    |"
   ]
  },
  {
   "cell_type": "markdown",
   "metadata": {},
   "source": [
    "**Para $X_1$:**\n",
    "$$\\mathbb{P}[X_1 = 1 | \\omega_1] = \\frac{5}{6}$$\n",
    "$$\\mathbb{P}[X_1 = 0 | \\omega_1] = \\frac{1}{6}$$"
   ]
  },
  {
   "cell_type": "markdown",
   "metadata": {},
   "source": [
    "**Para $X_2$:**\n",
    "$$\\mathbb{P}[X_2 = 1 | \\omega_1] = \\frac{4}{6}$$\n",
    "$$\\mathbb{P}[X_2 = 0 | \\omega_1] = \\frac{2}{6}$$"
   ]
  },
  {
   "cell_type": "markdown",
   "metadata": {},
   "source": [
    "**Para $X_3$:**\n",
    "\n",
    "Asumimos que es normal\n",
    "\n",
    "\n",
    "$$\\mathbb{P}[X_3 = x | \\omega_1] =  N(\\mu, \\sigma)$$\n",
    "\n",
    "$$ \\bar{x} = 30 $$\n",
    "\n",
    "$$ s^2 = 50 $$\n",
    "\n",
    "$$ s = 7.07 $$\n"
   ]
  },
  {
   "cell_type": "markdown",
   "metadata": {},
   "source": [
    "Tabla de los que no les dieron crédito\n",
    "\n",
    "| $X_1$  | $X_2$  | $X_3$  | $Y$    |\n",
    "|------|------|------|------|\n",
    "| 0    | 1    | 35   | 0    |\n",
    "| 0    | 0    | 18   | 0    |\n",
    "| 0    | 0    | 25   | 0    |\n",
    "| 1    | 0    | 18   | 0    |"
   ]
  },
  {
   "cell_type": "markdown",
   "metadata": {},
   "source": [
    "**Para $X_1$:**\n",
    "$$\\mathbb{P}[X_1 = 1 | \\omega_0] = \\frac{1}{4}$$\n",
    "$$\\mathbb{P}[X_1 = 0 | \\omega_0] = \\frac{3}{4}$$"
   ]
  },
  {
   "cell_type": "markdown",
   "metadata": {},
   "source": [
    "**Para $X_2$:**\n",
    "$$\\mathbb{P}[X_2 = 1 | \\omega_0] = \\frac{1}{4}$$\n",
    "$$\\mathbb{P}[X_2 = 0 | \\omega_0] = \\frac{3}{4}$$"
   ]
  },
  {
   "cell_type": "markdown",
   "metadata": {},
   "source": [
    "**Para $X_3$:**\n",
    "\n",
    "Asumimos que es normal\n",
    "\n",
    "\n",
    "$$\\mathbb{P}[X_3 = x | \\omega_1] =  N(\\mu, \\sigma)$$\n",
    "\n",
    "$$ \\bar{x} = 24 $$\n",
    "\n",
    "$$ s^2 = 64 $$\n",
    "\n",
    "$$ s = 8.04 $$\n"
   ]
  },
  {
   "cell_type": "markdown",
   "metadata": {},
   "source": [
    "## **Queremos calcular de otro patron**"
   ]
  },
  {
   "cell_type": "markdown",
   "metadata": {},
   "source": [
    "| $X_1$  | $X_2$  | $X_3$  | $Y$    |\n",
    "|------|------|------|------|\n",
    "| 1   | 0    | 21   | ??    |"
   ]
  },
  {
   "cell_type": "markdown",
   "metadata": {},
   "source": [
    "$$\n",
    "\\begin{align*}\n",
    "\\text{Le damos el crédito} & \\quad \\text{vs} \\quad \\text{No damos el crédito} \\\\\n",
    "P(\\omega_1 |x) & \\quad \\text{vs} \\quad P(\\omega_2 |x) \\\\\n",
    "P(X| \\omega_1)P(\\omega_1) & \\quad \\text{vs} \\quad P(X| \\omega_0)P(\\omega_0) \\\\\n",
    "\\prod_{i = 1}^M P(X_i = x| \\omega_1)P(\\omega_1) & \\quad \\text{vs} \\quad \\prod_{i = 1}^M P(X_i = x| \\omega_0)P(\\omega_0) \\\\\n",
    "P(X_1 = 1| \\omega_1)P(X_2 = 0| \\omega_1)P(X_3 = 21| \\omega_1)P(\\omega_1)\n",
    "& \\quad \\text{vs} \\quad \n",
    "P(X_1 = 1| \\omega_0)P(X_2 = 0| \\omega_0)P(X_3 = 21| \\omega_0)\\\\\n",
    "\\left(\\frac{5}{6}\\right)\\left(\\frac{2}{6}\\right) \\mathcal{N}(21 \\mid 30,7.07)\\left(\\frac{6}{10}\\right) & \\quad \\text{vs} \\quad \\left(\\frac{1}{4}\\right)\\left(\\frac{3}{4}\\right)\\mathcal{N}(21 \\mid24,8.04)\\left(\\frac{4}{10}\\right)\\\\\n",
    "\\left(\\frac{5}{6}\\right)\\left(\\frac{2}{6}\\right) (0.02509)\\left(\\frac{6}{10}\\right) & \\quad \\text{vs} \\quad \\left(\\frac{1}{4}\\right)\\left(\\frac{3}{4}\\right)(0.04628)\\left(\\frac{4}{10}\\right)\\\\\n",
    "0.0041816 & \\quad \\text{vs} \\quad 0.003471 \\\\\n",
    "\\end{align*}\n",
    "$$"
   ]
  },
  {
   "cell_type": "markdown",
   "metadata": {},
   "source": [
    "$$\\omega_m = \\arg \\max_{\\omega_i} \\prod_{j=1}^l p(x_k|\\omega_i), \\qquad i=1,2,\\ldots,M$$\n",
    "\n",
    "El más grande es 1, entonces le damos el crédito"
   ]
  },
  {
   "cell_type": "markdown",
   "metadata": {},
   "source": [
    "# **Apéndice**"
   ]
  },
  {
   "cell_type": "markdown",
   "metadata": {},
   "source": [
    "## **Normal**"
   ]
  },
  {
   "cell_type": "markdown",
   "metadata": {},
   "source": [
    "\n",
    "\n",
    "$$ \\mathcal{N}(\\mu, \\sigma) = \\frac{1}{\\sigma \\sqrt{2\\pi}} e^{-\\frac{1}{2} \\left(\\frac{x - \\mu}{\\sigma}\\right)^2} $$\n",
    "\n",
    "$$ \\bar{x} = \\frac{1}{n} \\sum_{i=1}^{n} x_i $$\n",
    "\n",
    "$$ s = \\sqrt{\\frac{1}{n-1} \\sum_{i=1}^{n} (x_i - \\bar{x})^2} $$"
   ]
  },
  {
   "cell_type": "markdown",
   "metadata": {},
   "source": [
    "## **Poisson**"
   ]
  },
  {
   "cell_type": "markdown",
   "metadata": {},
   "source": [
    "\n",
    "$$ P(X = k) = \\frac{\\lambda^k e^{-\\lambda}}{k!} $$\n",
    "\n",
    "$$ \\mu = \\lambda $$\n",
    "\n",
    "$$ \\sigma^2 = \\lambda $$"
   ]
  }
 ],
 "metadata": {
  "language_info": {
   "name": "python"
  }
 },
 "nbformat": 4,
 "nbformat_minor": 2
}
