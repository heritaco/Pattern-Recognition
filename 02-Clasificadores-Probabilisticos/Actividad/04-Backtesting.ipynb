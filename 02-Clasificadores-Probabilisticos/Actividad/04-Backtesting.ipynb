{
 "cells": [
  {
   "cell_type": "markdown",
   "metadata": {},
   "source": [
    "# la Resting ECG de la clase dos es bernoulli! y la estamos tratando como multinomial"
   ]
  },
  {
   "cell_type": "markdown",
   "metadata": {},
   "source": [
    "# Es mejor que cada una tenga su distribucion"
   ]
  },
  {
   "cell_type": "code",
   "execution_count": 2,
   "metadata": {},
   "outputs": [],
   "source": [
    "import pandas as pd\n",
    "import numpy as np\n",
    "from scipy.stats import norm, bernoulli, multinomial, gaussian_kde, shapiro, kstest, poisson"
   ]
  },
  {
   "cell_type": "code",
   "execution_count": 3,
   "metadata": {},
   "outputs": [],
   "source": [
    "cleavland = pd.read_csv('05-heart+disease/processed.cleveland.data', header=None, encoding='ISO-8859-1')\n",
    "hungary = pd.read_csv('05-heart+disease/processed.hungarian.data', header=None, encoding='ISO-8859-1')\n",
    "switzerland = pd.read_csv('05-heart+disease/processed.switzerland.data', header=None, encoding='ISO-8859-1')\n",
    "va = pd.read_csv('05-heart+disease/processed.va.data', header=None, encoding='ISO-8859-1')"
   ]
  },
  {
   "cell_type": "code",
   "execution_count": 4,
   "metadata": {},
   "outputs": [],
   "source": [
    "attributes = [\"Age\", \"Sex\", \"Chest Pain Type\", \"Resting Blood Pressure\", \"Cholesterol\", \"Fasting Blood Sugar\", \"Resting ECG\", \"Max Heart Rate\", \"Exercise Induced Angina\", \"ST Depression\", \"Slope\", \"Number of Major Vessels\", \"Thal\", \"Diagnosis of Heart Disease\"]\n",
    "\n",
    "cleavland.columns = attributes\n",
    "hungary.columns = attributes\n",
    "switzerland.columns = attributes\n",
    "va.columns = attributes"
   ]
  },
  {
   "cell_type": "code",
   "execution_count": 5,
   "metadata": {},
   "outputs": [],
   "source": [
    "df = pd.concat([cleavland, hungary, switzerland, va], ignore_index=True)"
   ]
  },
  {
   "cell_type": "code",
   "execution_count": 6,
   "metadata": {},
   "outputs": [],
   "source": [
    "df.replace(\"?\", np.nan, inplace=True)\n",
    "df.dropna(inplace=True)\n",
    "df = df.apply(pd.to_numeric)"
   ]
  },
  {
   "cell_type": "code",
   "execution_count": 20,
   "metadata": {},
   "outputs": [],
   "source": [
    "classes = df.iloc[:, -1].unique() # M\n",
    "total = len(df)                   # N\n",
    "attributes = df.columns           # X_i i \\in {1, 2, ...}\n",
    "\n",
    "Iwi = []        # Table of instances for each class\n",
    "pwi = []        # a priori probability\n",
    "pxjIwi = []     # p(X_j|w_i) for each class\n",
    "\n",
    "for i in range(len(classes)):                   # For every class\n",
    "\n",
    "    Iwi.append(df[df.iloc[:, -1] == classes[i]])         # Append the instances of the class\n",
    "    pwi.append(len(Iwi[i])/total)               # Append the a priori probability\n",
    "    \n",
    "    pxjIwi.append([])                           # Append an empty list for the conditional probability - chat\n",
    "\n",
    "    for attribute in attributes[:-1]:        # For every attribute except the last one (target variable)\n",
    "\n",
    "        unique_values = Iwi[i][attribute].unique()\n",
    "\n",
    "        # Poisson distribution\n",
    "        if len(unique_values) < 10:\n",
    "        # Test if the attribute is Poisson distributed\n",
    "            mean = Iwi[i][attribute].mean()\n",
    "            ks_test = kstest(Iwi[i][attribute], 'poisson', args=(mean,))\n",
    "            if ks_test.pvalue > 0.05:\n",
    "                lambda_ = Iwi[i][attribute].mean()  # Calculate the mean\n",
    "                un_pxiIwi = poisson(lambda_)            # Create a Poisson distribution\n",
    "\n",
    "        # Multinomial distribution\n",
    "            else:\n",
    "                un_pxiIwi = Iwi[i][attribute].value_counts(normalize=True)  # Calculate the probability\n",
    "                un_pxiIwi = multinomial(1, un_pxiIwi)                        # Create a Multinomial distribution \n",
    "\n",
    "        # Normal distribution\n",
    "        else: \n",
    "            shapiro_test = shapiro(Iwi[i][attribute])\n",
    "            if shapiro_test.pvalue > 0.05:\n",
    "                xbar = Iwi[i][attribute].mean()\n",
    "                s = Iwi[i][attribute].std()\n",
    "                un_pxiIwi = norm(xbar, s)             # Create a Normal distribution\n",
    "\n",
    "        # KDE distribution\n",
    "            else:\n",
    "                un_pxiIwi = gaussian_kde(Iwi[i][attribute]) # Calculate the probability\n",
    "\n",
    "        pxjIwi[i].append(un_pxiIwi)                    # Append the conditional probability"
   ]
  },
  {
   "cell_type": "code",
   "execution_count": 34,
   "metadata": {},
   "outputs": [],
   "source": [
    "def numtoarray(num, size):\n",
    "    array = [0] * size\n",
    "    array[num] = 1\n",
    "    return array\n",
    "\n",
    "def diagnostic(age, sex, chest_pain_type, resting_blood_pressure, cholesterol, fasting_blood_sugar, resting_ecg, max_heart_rate, exercise_induced_angina, st_depression, slope, number_of_major_vessels, thal):\n",
    "    \n",
    "    thalarray = [0, 0, 0]\n",
    "    if thal == 3:\n",
    "        thalarray[0] = 1\n",
    "    elif thal == 6:\n",
    "        thalarray[1] = 1\n",
    "    elif thal == 7:\n",
    "        thalarray[2] = 1\n",
    "\n",
    "    Pwis = []\n",
    "\n",
    "    for clase in range(len(classes)):\n",
    "\n",
    "        # Tienen que ir adentro porque los de la clase 3 no tienen Chest Pain Type 1\n",
    "\n",
    "        # Se convierten los valores a arrays de 0s y 1s\n",
    "        sexarray = numtoarray(sex, Iwi[clase][\"Sex\"].unique().size)\n",
    "        fbsarray = numtoarray(fasting_blood_sugar, Iwi[clase][\"Fasting Blood Sugar\"].unique().size)\n",
    "        eiaarray = numtoarray(exercise_induced_angina, Iwi[clase][\"Exercise Induced Angina\"].unique().size)\n",
    "\n",
    "        cptarray = numtoarray(chest_pain_type - 1, Iwi[clase][\"Chest Pain Type\"].unique().size)\n",
    "        recgarray = numtoarray(resting_ecg-1, Iwi[clase][\"Resting ECG\"].unique().size)\n",
    "        \n",
    "        slopearray = numtoarray(slope - 1, Iwi[clase][\"Slope\"].unique().size)\n",
    "        nomvarray = numtoarray(number_of_major_vessels - 1, Iwi[clase][\"Number of Major Vessels\"].unique().size)\n",
    "        \n",
    "        Page = pxjIwi[clase][0].pdf(age)\n",
    "        Psex = pxjIwi[clase][1].pmf(sexarray)\n",
    "        Pcpt = pxjIwi[clase][2].pmf(cptarray)\n",
    "        Prbp = pxjIwi[clase][3].pdf(resting_blood_pressure)\n",
    "        Pcho = pxjIwi[clase][4].pdf(cholesterol)\n",
    "        Pfbs = pxjIwi[clase][5].pmf(fbsarray)\n",
    "        Prec = pxjIwi[clase][6].pmf(recgarray)\n",
    "        Pmhr = pxjIwi[clase][7].pdf(max_heart_rate)\n",
    "        Peia = pxjIwi[clase][8].pmf(eiaarray)\n",
    "        Pstd = pxjIwi[clase][9].pdf(st_depression)\n",
    "        Pslo = pxjIwi[clase][10].pmf(slopearray)\n",
    "        Pnmv = pxjIwi[clase][11].pmf(nomvarray)\n",
    "        Ptal = pxjIwi[clase][12].pmf(thalarray)\n",
    "\n",
    "        listdep = [Page, Psex, Pcpt, Prbp, Pcho, Pfbs, Prec, Pmhr, Peia, Pstd, Pslo, Pnmv, Ptal]\n",
    "        \n",
    "        for i in range(len(listdep)):\n",
    "            if type(listdep[i]) == np.ndarray:\n",
    "                listdep[i] = listdep[i][0]\n",
    "                if np.isnan(listdep[i]):\n",
    "                    listdep[i] = 0\n",
    "\n",
    "        product = 1\n",
    "        for i in range(len(listdep)):\n",
    "            product *= listdep[i]\n",
    "\n",
    "        Pwi = pwi[clase] * product\n",
    "        Pwis.append(Pwi)\n",
    "\n",
    "        print(f\"Diagnosis of heart disease {clase} is {Pwi}\")\n",
    "\n",
    "    argmax = np.argmax(Pwis)\n",
    "    print(f\"The most likely diagnosis is {argmax}\")"
   ]
  },
  {
   "cell_type": "code",
   "execution_count": 35,
   "metadata": {},
   "outputs": [
    {
     "data": {
      "text/html": [
       "<div>\n",
       "<style scoped>\n",
       "    .dataframe tbody tr th:only-of-type {\n",
       "        vertical-align: middle;\n",
       "    }\n",
       "\n",
       "    .dataframe tbody tr th {\n",
       "        vertical-align: top;\n",
       "    }\n",
       "\n",
       "    .dataframe thead th {\n",
       "        text-align: right;\n",
       "    }\n",
       "</style>\n",
       "<table border=\"1\" class=\"dataframe\">\n",
       "  <thead>\n",
       "    <tr style=\"text-align: right;\">\n",
       "      <th></th>\n",
       "      <th>Age</th>\n",
       "      <th>Sex</th>\n",
       "      <th>Chest Pain Type</th>\n",
       "      <th>Resting Blood Pressure</th>\n",
       "      <th>Cholesterol</th>\n",
       "      <th>Fasting Blood Sugar</th>\n",
       "      <th>Resting ECG</th>\n",
       "      <th>Max Heart Rate</th>\n",
       "      <th>Exercise Induced Angina</th>\n",
       "      <th>ST Depression</th>\n",
       "      <th>Slope</th>\n",
       "      <th>Number of Major Vessels</th>\n",
       "      <th>Thal</th>\n",
       "      <th>Diagnosis of Heart Disease</th>\n",
       "    </tr>\n",
       "  </thead>\n",
       "  <tbody>\n",
       "    <tr>\n",
       "      <th>0</th>\n",
       "      <td>63.0</td>\n",
       "      <td>1.0</td>\n",
       "      <td>1.0</td>\n",
       "      <td>145.0</td>\n",
       "      <td>233.0</td>\n",
       "      <td>1.0</td>\n",
       "      <td>2.0</td>\n",
       "      <td>150.0</td>\n",
       "      <td>0.0</td>\n",
       "      <td>2.3</td>\n",
       "      <td>3.0</td>\n",
       "      <td>0.0</td>\n",
       "      <td>6.0</td>\n",
       "      <td>0</td>\n",
       "    </tr>\n",
       "  </tbody>\n",
       "</table>\n",
       "</div>"
      ],
      "text/plain": [
       "    Age  Sex  Chest Pain Type  Resting Blood Pressure  Cholesterol  \\\n",
       "0  63.0  1.0              1.0                   145.0        233.0   \n",
       "\n",
       "   Fasting Blood Sugar  Resting ECG  Max Heart Rate  Exercise Induced Angina  \\\n",
       "0                  1.0          2.0           150.0                      0.0   \n",
       "\n",
       "   ST Depression  Slope  Number of Major Vessels  Thal  \\\n",
       "0            2.3    3.0                      0.0   6.0   \n",
       "\n",
       "   Diagnosis of Heart Disease  \n",
       "0                           0  "
      ]
     },
     "execution_count": 35,
     "metadata": {},
     "output_type": "execute_result"
    }
   ],
   "source": [
    "Iwi[0].head(1)"
   ]
  },
  {
   "cell_type": "code",
   "execution_count": 40,
   "metadata": {},
   "outputs": [
    {
     "name": "stdout",
     "output_type": "stream",
     "text": [
      "Diagnosis of heart disease 0 is 2.1504607816211743e-15\n",
      "Diagnosis of heart disease 1 is 8.648423286501891e-14\n",
      "Diagnosis of heart disease 2 is 2.6762107320948123e-15\n",
      "Diagnosis of heart disease 3 is 3.1215439686172804e-14\n",
      "Diagnosis of heart disease 4 is 2.0428926280977344e-15\n",
      "The most likely diagnosis is 1\n"
     ]
    }
   ],
   "source": [
    "diagnostic(63, 1, 1, 145, 233, 1, 2, 150, 0, 2.3, 3, 0, 6)"
   ]
  },
  {
   "cell_type": "code",
   "execution_count": 24,
   "metadata": {},
   "outputs": [
    {
     "data": {
      "text/plain": [
       "2"
      ]
     },
     "execution_count": 24,
     "metadata": {},
     "output_type": "execute_result"
    }
   ],
   "source": [
    "Iwi[2][\"Resting ECG\"].unique().size"
   ]
  },
  {
   "cell_type": "code",
   "execution_count": 33,
   "metadata": {},
   "outputs": [
    {
     "data": {
      "text/plain": [
       "[0, 0, 1]"
      ]
     },
     "execution_count": 33,
     "metadata": {},
     "output_type": "execute_result"
    }
   ],
   "source": [
    "numtoarray(2, 3)"
   ]
  },
  {
   "cell_type": "code",
   "execution_count": 31,
   "metadata": {},
   "outputs": [
    {
     "data": {
      "text/plain": [
       "[0, 0]"
      ]
     },
     "execution_count": 31,
     "metadata": {},
     "output_type": "execute_result"
    }
   ],
   "source": [
    "array = [0] * 2\n",
    "array"
   ]
  },
  {
   "cell_type": "code",
   "execution_count": 23,
   "metadata": {},
   "outputs": [
    {
     "data": {
      "text/plain": [
       "<scipy.stats._multivariate.multinomial_frozen at 0x1688bb23170>"
      ]
     },
     "execution_count": 23,
     "metadata": {},
     "output_type": "execute_result"
    }
   ],
   "source": [
    "pxjIwi[2][6]"
   ]
  }
 ],
 "metadata": {
  "kernelspec": {
   "display_name": "Python 3",
   "language": "python",
   "name": "python3"
  },
  "language_info": {
   "codemirror_mode": {
    "name": "ipython",
    "version": 3
   },
   "file_extension": ".py",
   "mimetype": "text/x-python",
   "name": "python",
   "nbconvert_exporter": "python",
   "pygments_lexer": "ipython3",
   "version": "3.12.1"
  }
 },
 "nbformat": 4,
 "nbformat_minor": 2
}
