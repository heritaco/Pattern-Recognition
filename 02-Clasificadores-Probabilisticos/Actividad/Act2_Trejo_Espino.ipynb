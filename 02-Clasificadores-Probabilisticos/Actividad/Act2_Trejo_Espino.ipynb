{
 "cells": [
  {
   "cell_type": "markdown",
   "metadata": {},
   "source": [
    "<div style=\"position: relative; text-align: center; padding: 30px;\">\n",
    "  <h1><strong>Clasificador de Bayes Ingenuo</strong></h1>\n",
    "  <h3><strong>Walter y Heri</strong></h3>\n",
    "</div>"
   ]
  },
  {
   "cell_type": "markdown",
   "metadata": {},
   "source": [
    "**Objetivo**\n",
    "El objetivo de esta actividad es que cada equipo implemente su propio clasificador bayesiano y lo implemente utilizando la base de datos Heart Disease.\n",
    "\n",
    "**Instrucciones**\n",
    "\n",
    "1. Diseña una clase que implemente un clasificador bayesiano ingenuo (sin usar funciones de sklearn):\n",
    "   - La clase debe construirse recibiendo un único parámetro que indica si la distribución de variables continuas se estimará usando la normal o KDE.\n",
    "\n",
    "2. Método `.fit()`:\n",
    "   - Debe recibir como parámetros de entrada:\n",
    "     - Los datos de entrenamiento `X`, `y`. Donde `X` guarda los valores de las variables y `y` la clase a la que pertenece cada dato.\n",
    "     - Un diccionario que indique las variables (índices o nombres de columnas) que son \"continuas\", \"enteras\" y \"categóricas\".\n",
    "   - El método `.fit()` debe calcular:\n",
    "     - Las probabilidades a priori de cada clase en `Y`, es decir, `P(Y=y_i)`.\n",
    "     - Las funciones de masa o densidad de probabilidad condicionales `p(X_j = x | Y = y_i)`, para cada `j=1,...,L` y `y_i` para `i=1,...,M`, donde `L` es la dimensión de los datos y `M` el número de clases.\n",
    "     - Para las variables categóricas debe usar la distribución Bernoulli (o en general distribución categórica).\n",
    "     - Para las variables enteras calcular la media y estimar el pdf de una distribución Poisson.\n",
    "     - Para las variables continuas calcular la media y la varianza de los datos para estimar el pdf de la normal, o estimar el KDE, de acuerdo con el parámetro de la clase.\n",
    "\n",
    "3. Método `.predict()`:\n",
    "   - Debe recibir un vector `X_pred` que debe tener el mismo número de columnas que `X`.\n",
    "   - Calcular el clasificador bayesiano ingenuo `\\PI_{j=1}^L p(X_j=x_j | Y=y_i)P(Y=y_i)` para cada clase `i=1,...,M` y devolver el valor de `y_i` que lo maximiza.\n",
    "\n",
    "4. Prueba tu clasificador usando los datos de Heart Disease:\n",
    "   - Divide tus datos de entrenamiento y prueba de forma aleatoria. Usa proporciones 70-30 u 80-20.\n",
    "   - Elige entre 5 y 7 variables para tu clasificación. Debe incluir por lo menos una categórica, una entera y una continua.\n",
    "   - Calcula la exactitud global de tu clasificación.\n",
    "\n",
    "**Recomendaciones**\n",
    "\n",
    "- Para la normal se sugiere utilizar el método `.pdf()` de la función `scipy.stats.norm`.\n",
    "- Para la poisson se sugiere utilizar el método `.pdf()` de la función `scipy.stats.poisson`.\n",
    "- Para el KDE se sugiere utilizar el método `.evaluate()` de la función `scipy.stats.gaussian_kde`.\n",
    "\n",
    "Recuerda documentar adecuadamente tu código. Particularmente es importante que el método `fit` y `predict` estén documentados."
   ]
  },
  {
   "cell_type": "code",
   "execution_count": 1,
   "metadata": {},
   "outputs": [],
   "source": [
    "import pandas as pd\n",
    "import numpy as np\n",
    "from scipy.stats import norm, bernoulli, multinomial, gaussian_kde, shapiro, kstest, poisson\n",
    "from sklearn.metrics import confusion_matrix, ConfusionMatrixDisplay\n",
    "import matplotlib.pyplot as plt\n",
    "from sklearn import metrics\n",
    "import scipy.stats\n",
    "from sklearn.metrics import classification_report"
   ]
  },
  {
   "cell_type": "code",
   "execution_count": 2,
   "metadata": {},
   "outputs": [],
   "source": [
    "# intente con la multinomial (mala idea)\n",
    "def probability_categorical(attribute, value, Iwi):\n",
    "    exitoIwi = len(Iwi[Iwi[attribute] == value])\n",
    "    nIwi = len(Iwi)\n",
    "    p = exitoIwi/nIwi\n",
    "    return p"
   ]
  },
  {
   "cell_type": "code",
   "execution_count": 3,
   "metadata": {},
   "outputs": [],
   "source": [
    "def fit(predictoras, apredecir, dictionary_of_distributions, esnormal):\n",
    "    \n",
    "    # confirmation message\n",
    "    if esnormal: print('Fitting con normal')\n",
    "    else: print('Fitting con kde')\n",
    "    \n",
    "    # lo estaba haciendo con df :p\n",
    "    df = pd.concat([predictoras, apredecir], axis=1)\n",
    "\n",
    "    # para que los wi[i] esten boniton (wi[3] sean los de la clase 3)\n",
    "    df = df.sort_values(by=apredecir.name)\n",
    "    \n",
    "    classes = apredecir.unique()        # M\n",
    "    total = len(df)                     # total\n",
    "    attributes = predictoras.columns    # X_i i \\in {1, 2, ...}\n",
    "\n",
    "    Iwi = []        # Iwi (given wi)\n",
    "    pwi = []        # a priori probability\n",
    "    pxjIwi = []     # p(X_j|w_i) \n",
    "\n",
    "    newdistributions = {}   # diccionario con las distribuciones que se van a usar\n",
    "\n",
    "    for i in range(len(classes)):                   # For every class\n",
    "\n",
    "        # Las probabilidades a priori de cada clase en Y. Es decir, P(Y=y_i)\n",
    "\n",
    "        Iwi.append(df[df[apredecir.name] == classes[i]])    # un dataframe con las X que son de la clase i\n",
    "        pwi.append(len(Iwi[i])/total)                       # Append the a priori probability\n",
    "        pxjIwi.append([])                                   # las distribuciones condicionales de cada atributo \n",
    "\n",
    "        # creamos un diccionario con las distribuciones de cada atributo para la clase i\n",
    "        newdistributions[classes[i]] = {}                   # las distribuciones de cada atributo\n",
    "\n",
    "\n",
    "        # Las funciones de masa o densidad de probabilidad condicionales\n",
    "\n",
    "        for attribute in attributes:\n",
    "\n",
    "            if dictionary_of_distributions[attribute] == 'categorica':\n",
    "\n",
    "                if len(Iwi[i][attribute].unique()) == 2:\n",
    "                    newdistributions[classes[i]][attribute] = 'bernoulli'   # al final ya no se usa el diccionario, pero queda bonito\n",
    "                    teta = Iwi[i][attribute].mean()\n",
    "                    un_pxiIwi = bernoulli(teta)             \n",
    "                    pxjIwi[i].append(un_pxiIwi)                             # guardamos la distribucion condicional bernoulli\n",
    "                    \n",
    "                else: \n",
    "                    newdistributions[classes[i]][attribute] = 'multinomial' # avisamos que es multinomial\n",
    "                    # multinomial (1, p) es la distribucion de probabilidad de un vector de 1 elemento con probabilidad p\n",
    "                    un_pxiIwi = multinomial(1, Iwi[i][attribute].value_counts(normalize=True))  # vivi una falacia del concorde, pero no sabia como asignarle una distribucion a cada valor\n",
    "                    pxjIwi[i].append(un_pxiIwi)\n",
    "                    \n",
    "                    \n",
    "\n",
    "            elif dictionary_of_distributions[attribute] == 'entera':\n",
    "                newdistributions[classes[i]][attribute] = 'poisson'         # avisamos que es poisson\n",
    "                lambda_ = Iwi[i][attribute].mean()\n",
    "                un_pxiIwi = poisson(lambda_)\n",
    "                pxjIwi[i].append(un_pxiIwi)                                 # guardamos la distribucion condicional poisson   \n",
    "\n",
    "\n",
    "            elif dictionary_of_distributions[attribute] == 'continua':\n",
    "                # depende que se pidio\n",
    "                if esnormal:\n",
    "                    newdistributions[classes[i]][attribute] = 'normal'\n",
    "                    xbar = Iwi[i][attribute].mean()\n",
    "                    s = Iwi[i][attribute].std()\n",
    "                    un_pxiIwi = norm(xbar, s)\n",
    "                    pxjIwi[i].append(un_pxiIwi)\n",
    "                    \n",
    "                else:\n",
    "                    newdistributions[classes[i]][attribute] = 'kde'\n",
    "                    un_pxiIwi = gaussian_kde(Iwi[i][attribute])\n",
    "                    pxjIwi[i].append(un_pxiIwi)\n",
    "                    \n",
    "\n",
    "\n",
    "    return pxjIwi, pwi, Iwi, classes, attributes, newdistributions"
   ]
  },
  {
   "cell_type": "code",
   "execution_count": 4,
   "metadata": {},
   "outputs": [],
   "source": [
    "# la usamos para la multinomial\n",
    "def numtoarray(num, size):\n",
    "    # no acepta floats\n",
    "    num = int(num)\n",
    "    array = [0] * size\n",
    "    array[num] = 1  # ponemos un 1 en la posicion del num\n",
    "    return array"
   ]
  },
  {
   "cell_type": "code",
   "execution_count": 5,
   "metadata": {},
   "outputs": [],
   "source": [
    "def predict(pxjIwi, pwi, Iwi, classes, attributes, newdistributions, age, sex, chest_pain_type, resting_blood_pressure, cholesterol, fasting_blood_sugar, resting_ecg, max_heart_rate, exercise_induced_angina, st_depression, slope, number_of_major_vessels, thal):\n",
    "\n",
    "    # P(w_i|x) = P(w_i) * \\Pi p(X|w_i)\n",
    "    Pwis = []\n",
    "    \n",
    "    # its easier \n",
    "    attributes_values = [age, sex, chest_pain_type, resting_blood_pressure, cholesterol, fasting_blood_sugar, resting_ecg, max_heart_rate, exercise_induced_angina, st_depression, slope, number_of_major_vessels, thal]\n",
    "\n",
    "\n",
    "    for i in range(len(classes)):\n",
    "\n",
    "        # It depends on the distribution\n",
    "\n",
    "        # a priori probability\n",
    "        Pwi = pwi[i]\n",
    "        for attribute in range(len(attributes_values)):\n",
    "            \n",
    "            # el diccionario puede entrar a i porque es un num, attributes[attribute] es el nombre del atributo (attributes[0] = 'Age')\n",
    "            # newdistributions[1]['Age'] == 'kde' o 'normal' \n",
    "\n",
    "            # if its poisson\n",
    "            if type(pxjIwi[i][attribute]) == scipy.stats._discrete_distns.bernoulli_gen:\n",
    "                # pxjIwi[i][attribute] es donde esta una distribucion\n",
    "                evaluation = pxjIwi[i][attribute].pmf(attributes_values[attribute])\n",
    "                Pwi *= evaluation\n",
    "\n",
    "            # if its normal\n",
    "            elif type(pxjIwi[i][attribute]) == scipy.stats._continuous_distns.norm_gen:\n",
    "                evaluation = pxjIwi[i][attribute].pdf(attributes_values[attribute])\n",
    "                Pwi *= evaluation\n",
    "\n",
    "            # if its kde\n",
    "            elif type(pxjIwi[i][attribute]) == scipy.stats._kde.gaussian_kde:\n",
    "                evaluation = pxjIwi[i][attribute].pdf(attributes_values[attribute])\n",
    "                Pwi *= evaluation\n",
    "\n",
    "            # if its bernoulli\n",
    "            elif type(pxjIwi[i][attribute]) == scipy.stats._distn_infrastructure.rv_discrete_frozen:\n",
    "                evaluation = pxjIwi[i][attribute].pmf(attributes_values[attribute])\n",
    "                Pwi *= evaluation\n",
    "\n",
    "            # if its multinomial\n",
    "            elif type(pxjIwi[i][attribute]) == scipy.stats._multivariate.multinomial_frozen:\n",
    "\n",
    "                name_of_attribute = attributes[attribute]\n",
    "                \n",
    "                # the size of the array depends on the Iw_i    \n",
    "                num = attributes_values[attribute]\n",
    "                size = len(pxjIwi[i][attribute].p)\n",
    "\n",
    "                # unique values of the attribute\n",
    "                unique_values = Iwi[i][name_of_attribute].unique()\n",
    "                unique_values = unique_values.tolist()\n",
    "                unique_values.sort()\n",
    "\n",
    "                # replace the float for ints\n",
    "                unique_values = [int(i) for i in unique_values]\n",
    "\n",
    "                # get the index of the value\n",
    "                if num in unique_values:\n",
    "                    num = unique_values.index(num)\n",
    "\n",
    "                    # get the array because multinomial needs an array\n",
    "                    arrvalue = numtoarray(num, size)\n",
    "\n",
    "                    evaluation = pxjIwi[i][attribute].pmf(arrvalue)\n",
    "                    Pwi *= evaluation\n",
    "\n",
    "                else:\n",
    "                    # if the value is not in the unique values, then we return 0\n",
    "                    # (sometimes it can happen)\n",
    "                    evaluation = 0\n",
    "                    Pwi *= evaluation\n",
    "\n",
    "\n",
    "        # list of P(w_i|X)\n",
    "        Pwis.append(Pwi)\n",
    "\n",
    "    # because of the multlinamial, pwis is a list of nparrays\n",
    "    values_pwis = np.array(Pwis)\n",
    "    argmax = np.nanargmax(values_pwis)  # it must be nanargmax because it can have nan values (i suffured because of this)\n",
    "    \n",
    "    return argmax"
   ]
  },
  {
   "cell_type": "code",
   "execution_count": 6,
   "metadata": {},
   "outputs": [],
   "source": [
    "def probar_el_clasificador(predictoras, apredecir, classes, Iwi, distributions, esnormal, pxjIwi, pwi, attributes):\n",
    "\n",
    "    # Shuffle the rows\n",
    "    for clase in range(len(classes)):\n",
    "        # sample(frac=1) shuffles the rows of the dataframe and reset_index(drop=True) resets the index\n",
    "        Iwi[clase] = Iwi[clase].sample(frac=1).reset_index(drop=True)   \n",
    "\n",
    "\n",
    "    # Esto era le que estaba pensando de hacer muchos train y test y el promedio de los resultados\n",
    "\n",
    "    # Es un minitrain porque se divide por los Iwis ↓↓\n",
    "    minitrain = []\n",
    "    minitest = []\n",
    "\n",
    "    # Se hace asi para tener al menos un wi de cada clase\n",
    "    for clase in range(len(classes)): \n",
    "        minitrain.append(Iwi[clase].iloc[:  int(len(Iwi[clase])*0.8), :])   # 80% of the rows\n",
    "        minitest.append(Iwi[clase].iloc[int(len(Iwi[clase])*0.8):, :])      # 20% of the rows\n",
    "\n",
    "    # Un traindf ya es un train bien hecho con todas las clases (del 80%)\n",
    "    traindf = pd.concat(minitrain, ignore_index=True)\n",
    "    testdf = pd.concat(minitest, ignore_index=True)\n",
    "\n",
    "    # Vamos a .fit el traindf\n",
    "    predictoras_train = traindf[predictoras.columns]    # No es un iloc porque la que queremos predecir puede no ser la ultima\n",
    "    apredecir_train = traindf[apredecir.name]\n",
    "\n",
    "    # Fitteamos ajajja el modelo con el traindf\n",
    "\n",
    "    # fit(predictoras, apredecir, dictionary_of_distributions, esnormal=False):\n",
    "    # return pxjIwi, pwi, Iwi, classes, attributes, newdistributions\n",
    "    pxjIwi, pwi, Iwi, classes, attributes, newdistributions = fit(predictoras_train, apredecir_train, distributions, esnormal)\n",
    "\n",
    "    # Vector de predicciones\n",
    "    predictions = []\n",
    "    \n",
    "    # Vamos a .predict el testdf\n",
    "    for i in range(len(testdf)):    # con todos los datos del testdf\n",
    "\n",
    "        # lo siento se ve feo\n",
    "        agetest = testdf.iloc[i, 0]\n",
    "        sextest = testdf.iloc[i, 1]\n",
    "        chest_pain_typetest = testdf.iloc[i, 2]\n",
    "        resting_blood_pressuretest = testdf.iloc[i, 3]\n",
    "        cholesteroltest = testdf.iloc[i, 4]\n",
    "        fasting_blood_sugartest = testdf.iloc[i, 5]\n",
    "        resting_ecgtest = testdf.iloc[i, 6]\n",
    "        max_heart_ratetest = testdf.iloc[i, 7]\n",
    "        exercise_induced_anginatest = testdf.iloc[i, 8]\n",
    "        st_depressiontest = testdf.iloc[i, 9]\n",
    "        slopetest = testdf.iloc[i, 10]\n",
    "        number_of_major_vesselstest = testdf.iloc[i, 11]\n",
    "        thaltest = testdf.iloc[i, 12]\n",
    "\n",
    "        # def predict(pxjIwi, pwi, Iwi, classes, attributes, newdistributions, age, sex, chest_pain_type, resting_blood_pressure, cholesterol, fasting_blood_sugar, resting_ecg, max_heart_rate, exercise_induced_angina, st_depression, slope, number_of_major_vessels, thal):\n",
    "            # return argmax\n",
    "        predictpredict = predict(pxjIwi, pwi, Iwi, classes, attributes, distributions, agetest, sextest, chest_pain_typetest, resting_blood_pressuretest, cholesteroltest, fasting_blood_sugartest, resting_ecgtest, max_heart_ratetest, exercise_induced_anginatest, st_depressiontest, slopetest, number_of_major_vesselstest, thaltest)\n",
    "        predictions.append(predictpredict)\n",
    "        \n",
    "    # add the predictions to the dataframe\n",
    "    testdf[\"PREDICT PREDICT\"] = predictions\n",
    "\n",
    "    return testdf"
   ]
  },
  {
   "cell_type": "code",
   "execution_count": 7,
   "metadata": {},
   "outputs": [],
   "source": [
    "def matriz_confusion(y_true, y_pred, cmap='Blues', title='Matriz de Confusión', xlabel='Predicciones', ylabel='Verdaderos'):\n",
    "\n",
    "    cm = confusion_matrix(y_true, y_pred)\n",
    "\n",
    "    fig, ax = plt.subplots(figsize=(4, 4), dpi=150)\n",
    "    disp = ConfusionMatrixDisplay(confusion_matrix=cm)\n",
    "    disp.plot(cmap=cmap, ax=ax, colorbar=False)\n",
    "    # 'Accent', 'Accent_r', 'Blues', 'Blues_r', 'BrBG', 'BrBG_r', 'BuGn', 'BuGn_r', 'BuPu', 'BuPu_r', 'CMRmap', 'CMRmap_r', 'Dark2', 'Dark2_r', 'GnBu', 'GnBu_r', 'Grays', 'Greens', 'Greens_r', 'Greys', 'Greys_r', 'OrRd', 'OrRd_r', 'Oranges', 'Oranges_r', 'PRGn', 'PRGn_r', 'Paired', 'Paired_r', 'Pastel1', 'Pastel1_r', 'Pastel2', 'Pastel2_r', 'PiYG', 'PiYG_r', 'PuBu', 'PuBuGn', 'PuBuGn_r', 'PuBu_r', 'PuOr', 'PuOr_r', 'PuRd', 'PuRd_r', 'Purples', 'Purples_r', 'RdBu', 'RdBu_r', 'RdGy', 'RdGy_r', 'RdPu', 'RdPu_r', 'RdYlBu', 'RdYlBu_r', 'RdYlGn', 'RdYlGn_r', 'Reds', 'Reds_r', 'Set1', 'Set1_r', 'Set2', 'Set2_r', 'Set3', 'Set3_r', 'Spectral', 'Spectral_r', 'Wistia', 'Wistia_r', 'YlGn', 'YlGnBu', 'YlGnBu_r', 'YlGn_r', 'YlOrBr', 'YlOrBr_r', 'YlOrRd', 'YlOrRd_r', 'afmhot', 'afmhot_r', 'autumn', 'autumn_r', 'binary', 'binary_r', 'bone', 'bone_r', 'brg', 'brg_r', 'bwr', 'bwr_r', 'cividis', 'cividis_r', 'cool', 'cool_r', 'coolwarm', 'coolwarm_r', 'copper', 'copper_r', 'cubehelix', 'cubehelix_r', 'flag', 'flag_r', 'gist_earth', 'gist_earth_r', 'gist_gray', 'gist_gray_r', 'gist_grey', 'gist_heat', 'gist_heat_r', 'gist_ncar', 'gist_ncar_r', 'gist_rainbow', 'gist_rainbow_r', 'gist_stern', 'gist_stern_r', 'gist_yarg', 'gist_yarg_r', 'gist_yerg', 'gnuplot', 'gnuplot2', 'gnuplot2_r', 'gnuplot_r', 'gray', 'gray_r', 'grey', 'hot', 'hot_r', 'hsv', 'hsv_r', 'inferno', 'inferno_r', 'jet', 'jet_r', 'magma', 'magma_r', 'nipy_spectral', 'nipy_spectral_r', 'ocean', 'ocean_r', 'pink', 'pink_r', 'plasma', 'plasma_r', 'prism', 'prism_r', 'rainbow', 'rainbow_r', 'seismic', 'seismic_r', 'spring', 'spring_r', 'summer', 'summer_r', 'tab10', 'tab10_r', 'tab20', 'tab20_r', 'tab20b', 'tab20b_r', 'tab20c', 'tab20c_r', 'terrain', 'terrain_r', 'turbo', 'turbo_r', 'twilight', 'twilight_r', 'twilight_shifted', 'twilight_shifted_r', 'viridis', 'viridis_r', 'winter', 'winter_r'\n",
    "    \n",
    "    ax.set_title(f'{title}\\n', fontsize=10, fontweight='bold')\n",
    "    ax.set_xlabel(xlabel, fontsize=8)\n",
    "    ax.set_ylabel(ylabel, fontsize=8)\n",
    "    \n",
    "    plt.show()"
   ]
  },
  {
   "cell_type": "code",
   "execution_count": 8,
   "metadata": {},
   "outputs": [],
   "source": [
    "class bayes_naive:\n",
    "    # solo ponemos lo que teniamos en las funciones, es mas facil de leer asi, el trabajo de antes estaba feito\n",
    "    def __init__(self, normalokde):\n",
    "\n",
    "        if normalokde == 'normal' or normalokde == 'Normal':\n",
    "            self.esnormal = True\n",
    "            print('Se usara la distribucion normal')\n",
    "        else:\n",
    "            self.esnormal = False\n",
    "            print('Se usara la distribucion kde')\n",
    "\n",
    "    # fit(predictoras, apredecir, dictionary_of_distributions, esnormal=False):\n",
    "        # return pxjIwi, pwi, Iwi, classes, attributes, newdistributions\n",
    "    def fit(self, predictoras, apredecir, dictionary_of_distributions):\n",
    "        self.pxjIwi, self.pwi, self.Iwi, self.classes, self.attributes, self.newdistributions = fit(predictoras, apredecir, dictionary_of_distributions, self.esnormal)\n",
    "\n",
    "        self.predictoras = predictoras\n",
    "        self.apredecir = apredecir\n",
    "        self.dictionary_of_distributions = dictionary_of_distributions\n",
    "        \n",
    "        return self.pxjIwi, self.pwi, self.Iwi, self.classes, self.attributes, self.newdistributions\n",
    "\n",
    "    # def predict(pxjIwi, pwi, Iwi, classes, attributes, newdistributions, age, sex, chest_pain_type, resting_blood_pressure, cholesterol, fasting_blood_sugar, resting_ecg, max_heart_rate, exercise_induced_angina, st_depression, slope, number_of_major_vessels, thal):\n",
    "        # argmax\n",
    "    def predict(self, age, sex, chest_pain_type, resting_blood_pressure, cholesterol, fasting_blood_sugar, resting_ecg, max_heart_rate, exercise_induced_angina, st_depression, slope, number_of_major_vessels, thal):\n",
    "        return predict(self.pxjIwi, self.pwi, self.Iwi, self.classes, self.attributes, self.newdistributions, age, sex, chest_pain_type, resting_blood_pressure, cholesterol, fasting_blood_sugar, resting_ecg, max_heart_rate, exercise_induced_angina, st_depression, slope, number_of_major_vessels, thal)\n",
    "    \n",
    "    # probar_el_clasificador(predictoras, apredecir, classes, Iwi, distributions, esnormal, pxjIwi, pwi, attributes)\n",
    "        # return testdf\n",
    "    def probar_el_clasificador(self):\n",
    "        testdf = probar_el_clasificador(self.predictoras, self.apredecir, self.classes, self.Iwi, self.dictionary_of_distributions, self.esnormal, self.pxjIwi, self.pwi, self.attributes)\n",
    "        self.testdf = testdf\n",
    "        return testdf\n",
    "    \n",
    "    def confusion_matrix(self, cmap='Blues', xlabel='Predicciones', ylabel='Verdaderos'):\n",
    "        \"\"\"\n",
    "        ¡Le puedes poner color! \n",
    "        \"\"\"\n",
    "\n",
    "        if self.esnormal: title = 'Matriz de Confusión con distribución Normal'\n",
    "        else: title = 'Matriz de Confusión con distribución KDE'\n",
    "\n",
    "        self.y_pred = self.testdf['PREDICT PREDICT']\n",
    "        self.y_true = self.testdf[self.apredecir.name]\n",
    "        return matriz_confusion(self.y_true, self.y_pred, cmap, title, xlabel, ylabel)\n",
    "    \n",
    "    def reporte_de_clasificacion(self):\n",
    "        return print(classification_report(self.y_true, self.y_pred, zero_division=0))\n",
    "\n"
   ]
  },
  {
   "cell_type": "markdown",
   "metadata": {},
   "source": [
    "# **Ejemplo**"
   ]
  },
  {
   "cell_type": "code",
   "execution_count": 9,
   "metadata": {},
   "outputs": [],
   "source": [
    "cleavland = pd.read_csv('05-heart+disease/processed.cleveland.data', header=None, encoding='ISO-8859-1')\n",
    "hungary = pd.read_csv('05-heart+disease/processed.hungarian.data', header=None, encoding='ISO-8859-1')\n",
    "switzerland = pd.read_csv('05-heart+disease/processed.switzerland.data', header=None, encoding='ISO-8859-1')\n",
    "va = pd.read_csv('05-heart+disease/processed.va.data', header=None, encoding='ISO-8859-1')"
   ]
  },
  {
   "cell_type": "markdown",
   "metadata": {},
   "source": [
    "### **Info of variables**"
   ]
  },
  {
   "cell_type": "markdown",
   "metadata": {},
   "source": [
    "- **sex**: sex (1 = male; 0 = female)\n",
    "\n",
    "- **cp**: chest pain type\n",
    "  - Value 1: typical angina\n",
    "  - Value 2: atypical angina\n",
    "  - Value 3: non-anginal pain\n",
    "  - Value 4: asymptomatic\n",
    "\n",
    "- **trestbps**: resting blood pressure (in mm Hg on admission to the hospital)\n",
    "\n",
    "- **chol**: serum cholesterol in mg/dl\n",
    "\n",
    "- **fbs**: (fasting blood sugar > 120 mg/dl) (1 = true; 0 = false)\n",
    "\n",
    "- **restecg**: resting electrocardiographic results\n",
    "  - Value 0: normal\n",
    "  - Value 1: having ST-T wave abnormality (T wave inversions and/or ST elevation or depression of > 0.05 mV)\n",
    "  - Value 2: showing probable or definite left ventricular hypertrophy by Estes' criteria\n",
    "\n",
    "- **thalach**: maximum heart rate achieved\n",
    "\n",
    "- **exang**: exercise induced angina (1 = yes; 0 = no)\n",
    "\n",
    "- **oldpeak**: ST depression induced by exercise relative to rest\n",
    "\n",
    "- **slope**: the slope of the peak exercise ST segment\n",
    "  - Value 1: upsloping\n",
    "  - Value 2: flat\n",
    "  - Value 3: downsloping\n",
    "\n",
    "- **ca**: number of major vessels (0-3) colored by fluoroscopy\n",
    "\n",
    "- **thal**: \n",
    "  - Value 3: normal\n",
    "  - Value 6: fixed defect\n",
    "  - Value 7: reversible defect\n",
    "\n",
    "- **num**: diagnosis of heart disease (angiographic disease status)\n",
    "  - Value 0: < 50% diameter narrowing\n",
    "  - Value 1: > 50% diameter narrowing\n",
    "  - (in any major vessel: attributes 59 through 68 are vessels)\n",
    "  Hay "
   ]
  },
  {
   "cell_type": "code",
   "execution_count": 10,
   "metadata": {},
   "outputs": [],
   "source": [
    "attributes = [\"Age\", \"Sex\", \"Chest Pain Type\", \"Resting Blood Pressure\", \"Cholesterol\", \"Fasting Blood Sugar\", \"Resting ECG\", \"Max Heart Rate\", \"Exercise Induced Angina\", \"ST Depression\", \"Slope\", \"Number of Major Vessels\", \"Thal\", \"Diagnosis of Heart Disease\"]"
   ]
  },
  {
   "cell_type": "code",
   "execution_count": 11,
   "metadata": {},
   "outputs": [],
   "source": [
    "cleavland.columns = attributes\n",
    "hungary.columns = attributes\n",
    "switzerland.columns = attributes\n",
    "va.columns = attributes"
   ]
  },
  {
   "cell_type": "code",
   "execution_count": 12,
   "metadata": {},
   "outputs": [],
   "source": [
    "df = pd.concat([cleavland, hungary, switzerland, va], ignore_index=True)"
   ]
  },
  {
   "cell_type": "code",
   "execution_count": 13,
   "metadata": {},
   "outputs": [],
   "source": [
    "df.replace(\"?\", np.nan, inplace=True)\n",
    "df.dropna(inplace=True)\n",
    "df = df.apply(pd.to_numeric)"
   ]
  },
  {
   "cell_type": "code",
   "execution_count": 14,
   "metadata": {},
   "outputs": [],
   "source": [
    "distributions = {\n",
    "    'Age': 'continua',\n",
    "    'Sex': 'categorica',\n",
    "    'Chest Pain Type': 'entera', \n",
    "    'Resting Blood Pressure': 'continua',\n",
    "    'Cholesterol': 'continua',\n",
    "    'Fasting Blood Sugar': 'categorica', \n",
    "    'Resting ECG': 'categorica',\n",
    "    'Max Heart Rate': 'continua',\n",
    "    'Exercise Induced Angina': 'categorica',\n",
    "    'ST Depression': 'continua',\n",
    "    'Slope': 'categorica',\n",
    "    'Number of Major Vessels': 'categorica', \n",
    "    'Thal': 'categorica', \n",
    "    'Diagnosis of Heart Disease': 'categorica'\n",
    "}"
   ]
  },
  {
   "cell_type": "code",
   "execution_count": 15,
   "metadata": {},
   "outputs": [],
   "source": [
    "predictoras = df.iloc[:, :-1]\n",
    "apredecir = df.iloc[:, -1]"
   ]
  },
  {
   "cell_type": "markdown",
   "metadata": {},
   "source": [
    "## **Ejemplo KDE**"
   ]
  },
  {
   "cell_type": "code",
   "execution_count": 16,
   "metadata": {},
   "outputs": [
    {
     "name": "stdout",
     "output_type": "stream",
     "text": [
      "Se usara la distribucion kde\n"
     ]
    }
   ],
   "source": [
    "bn = bayes_naive('kde')"
   ]
  },
  {
   "cell_type": "code",
   "execution_count": 17,
   "metadata": {},
   "outputs": [
    {
     "name": "stdout",
     "output_type": "stream",
     "text": [
      "Fitting con kde\n"
     ]
    }
   ],
   "source": [
    "pxjIwi, pwi, Iwi, classes, attributes, newdistributions = bn.fit(predictoras, apredecir, distributions)"
   ]
  },
  {
   "cell_type": "code",
   "execution_count": 18,
   "metadata": {},
   "outputs": [],
   "source": [
    "age = 35\n",
    "sex = 1\n",
    "chest_pain_type = 1 \n",
    "resting_blood_pressure = 160\n",
    "cholesterol = 350\n",
    "fasting_blood_sugar = 1\n",
    "resting_ecg = 2\n",
    "max_heart_rate = 120\n",
    "exercise_induced_angina = 1\n",
    "st_depression = 2.3\n",
    "slope = 2\n",
    "number_of_major_vessels = 2\n",
    "thal = 6"
   ]
  },
  {
   "cell_type": "code",
   "execution_count": 19,
   "metadata": {},
   "outputs": [
    {
     "data": {
      "text/plain": [
       "3"
      ]
     },
     "execution_count": 19,
     "metadata": {},
     "output_type": "execute_result"
    }
   ],
   "source": [
    "bn.predict(age, sex, chest_pain_type, resting_blood_pressure, cholesterol, fasting_blood_sugar, resting_ecg, max_heart_rate, exercise_induced_angina, st_depression, slope, number_of_major_vessels, thal) "
   ]
  },
  {
   "cell_type": "code",
   "execution_count": 20,
   "metadata": {},
   "outputs": [
    {
     "name": "stdout",
     "output_type": "stream",
     "text": [
      "Fitting con kde\n"
     ]
    }
   ],
   "source": [
    "testdf = bn.probar_el_clasificador()"
   ]
  },
  {
   "cell_type": "code",
   "execution_count": 21,
   "metadata": {},
   "outputs": [
    {
     "data": {
      "image/png": "[encoded data removed]",
      "text/plain": [
       "<Figure size 600x600 with 1 Axes>"
      ]
     },
     "metadata": {},
     "output_type": "display_data"
    }
   ],
   "source": [
    "bn.confusion_matrix()"
   ]
  },
  {
   "cell_type": "code",
   "execution_count": 22,
   "metadata": {},
   "outputs": [
    {
     "name": "stdout",
     "output_type": "stream",
     "text": [
      "              precision    recall  f1-score   support\n",
      "\n",
      "           0       0.76      0.97      0.85        32\n",
      "           1       0.30      0.25      0.27        12\n",
      "           2       0.00      0.00      0.00         7\n",
      "           3       0.30      0.43      0.35         7\n",
      "           4       0.00      0.00      0.00         3\n",
      "\n",
      "    accuracy                           0.61        61\n",
      "   macro avg       0.27      0.33      0.29        61\n",
      "weighted avg       0.49      0.61      0.54        61\n",
      "\n"
     ]
    }
   ],
   "source": [
    "bn.reporte_de_clasificacion()"
   ]
  },
  {
   "cell_type": "markdown",
   "metadata": {},
   "source": [
    "## **Ejemplo Normal**"
   ]
  },
  {
   "cell_type": "code",
   "execution_count": 23,
   "metadata": {},
   "outputs": [
    {
     "name": "stdout",
     "output_type": "stream",
     "text": [
      "Se usara la distribucion normal\n"
     ]
    }
   ],
   "source": [
    "bn = bayes_naive('Normal')"
   ]
  },
  {
   "cell_type": "code",
   "execution_count": 24,
   "metadata": {},
   "outputs": [
    {
     "name": "stdout",
     "output_type": "stream",
     "text": [
      "Fitting con normal\n"
     ]
    }
   ],
   "source": [
    "pxjIwi, pwi, Iwi, classes, attributes, newdistributions = bn.fit(predictoras, apredecir, distributions)"
   ]
  },
  {
   "cell_type": "code",
   "execution_count": 25,
   "metadata": {},
   "outputs": [],
   "source": [
    "age = 63\n",
    "sex = 1\n",
    "chest_pain_type = 3\n",
    "resting_blood_pressure = 145\n",
    "cholesterol = 233\n",
    "fasting_blood_sugar = 1\n",
    "resting_ecg = 0\n",
    "max_heart_rate = 150\n",
    "exercise_induced_angina = 0\n",
    "st_depression = 2.3\n",
    "slope = 1\n",
    "number_of_major_vessels = 0\n",
    "thal = 3"
   ]
  },
  {
   "cell_type": "code",
   "execution_count": 26,
   "metadata": {},
   "outputs": [
    {
     "data": {
      "text/plain": [
       "0"
      ]
     },
     "execution_count": 26,
     "metadata": {},
     "output_type": "execute_result"
    }
   ],
   "source": [
    "bn.predict(age, sex, chest_pain_type, resting_blood_pressure, cholesterol, fasting_blood_sugar, resting_ecg, max_heart_rate, exercise_induced_angina, st_depression, slope, number_of_major_vessels, thal) "
   ]
  },
  {
   "cell_type": "code",
   "execution_count": 27,
   "metadata": {},
   "outputs": [
    {
     "name": "stdout",
     "output_type": "stream",
     "text": [
      "Fitting con normal\n"
     ]
    }
   ],
   "source": [
    "testdf = bn.probar_el_clasificador()"
   ]
  },
  {
   "cell_type": "code",
   "execution_count": 28,
   "metadata": {},
   "outputs": [
    {
     "data": {
      "image/png": "[encoded data removed]",
      "text/plain": [
       "<Figure size 600x600 with 1 Axes>"
      ]
     },
     "metadata": {},
     "output_type": "display_data"
    }
   ],
   "source": [
    "bn.confusion_matrix('Greens')"
   ]
  },
  {
   "cell_type": "code",
   "execution_count": 29,
   "metadata": {},
   "outputs": [
    {
     "name": "stdout",
     "output_type": "stream",
     "text": [
      "              precision    recall  f1-score   support\n",
      "\n",
      "           0       0.81      0.41      0.54        32\n",
      "           1       0.28      0.67      0.39        12\n",
      "           2       0.00      0.00      0.00         7\n",
      "           3       0.00      0.00      0.00         7\n",
      "           4       0.00      0.00      0.00         3\n",
      "\n",
      "    accuracy                           0.34        61\n",
      "   macro avg       0.22      0.21      0.19        61\n",
      "weighted avg       0.48      0.34      0.36        61\n",
      "\n"
     ]
    }
   ],
   "source": [
    "bn.reporte_de_clasificacion()"
   ]
  }
 ],
 "metadata": {
  "kernelspec": {
   "display_name": "data-mining",
   "language": "python",
   "name": "python3"
  },
  "language_info": {
   "codemirror_mode": {
    "name": "ipython",
    "version": 3
   },
   "file_extension": ".py",
   "mimetype": "text/x-python",
   "name": "python",
   "nbconvert_exporter": "python",
   "pygments_lexer": "ipython3",
   "version": "3.12.8"
  }
 },
 "nbformat": 4,
 "nbformat_minor": 2
}
