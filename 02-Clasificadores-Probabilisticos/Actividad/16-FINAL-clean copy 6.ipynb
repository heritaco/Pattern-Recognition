{
 "cells": [
  {
   "cell_type": "markdown",
   "metadata": {},
   "source": [
    "# la Resting ECG de la clase dos es bernoulli! y la estamos tratando como multinomial"
   ]
  },
  {
   "cell_type": "markdown",
   "metadata": {},
   "source": [
    "# Es mejor que cada una tenga su distribucion"
   ]
  },
  {
   "cell_type": "code",
   "execution_count": 30,
   "metadata": {},
   "outputs": [],
   "source": [
    "import pandas as pd\n",
    "import numpy as np\n",
    "from scipy.stats import norm, bernoulli, multinomial, gaussian_kde, shapiro, kstest, poisson\n",
    "from sklearn.metrics import confusion_matrix, ConfusionMatrixDisplay\n",
    "import matplotlib.pyplot as plt\n",
    "from sklearn import metrics\n",
    "import scipy.stats\n",
    "from sklearn.metrics import classification_report"
   ]
  },
  {
   "cell_type": "code",
   "execution_count": 31,
   "metadata": {},
   "outputs": [],
   "source": [
    "def probability_categorical(attribute, value, Iwi):\n",
    "    exitoIwi = len(Iwi[Iwi[attribute] == value])\n",
    "    nIwi = len(Iwi)\n",
    "    p = exitoIwi/nIwi\n",
    "    return p"
   ]
  },
  {
   "cell_type": "code",
   "execution_count": 32,
   "metadata": {},
   "outputs": [],
   "source": [
    "def fit(predictoras, apredecir, dictionary_of_distributions, esnormal=False):\n",
    "    # lo estaba haciendo con df, pero podria ser mejor\n",
    "    df = pd.concat([predictoras, apredecir], axis=1)\n",
    "\n",
    "    # para que los wi[i] esten boniton\n",
    "    df = df.sort_values(by=apredecir.name)\n",
    "\n",
    "    \n",
    "    classes = apredecir.unique()        # M\n",
    "    total = len(df)                     # total\n",
    "    attributes = predictoras.columns    # X_i i \\in {1, 2, ...}\n",
    "\n",
    "    Iwi = []        # Iwi (given wi)\n",
    "    pwi = []        # a priori probability\n",
    "    pxjIwi = []     # p(X_j|w_i) \n",
    "\n",
    "    newdistributions = {}\n",
    "\n",
    "    for i in range(len(classes)):                   # For every class\n",
    "\n",
    "        # Las probabilidades a priori de cada clase en Y. Es decir, P(Y=y_i)\n",
    "\n",
    "        Iwi.append(df[df[apredecir.name] == classes[i]])    # un dataframe con las X que son de la clase i\n",
    "        pwi.append(len(Iwi[i])/total)                       # Append the a priori probability\n",
    "        pxjIwi.append([])                                   # las distribuciones condicionales de cada atributo \n",
    "\n",
    "        # creamos un diccionario con las distribuciones de cada atributo para la clase i\n",
    "        newdistributions[classes[i]] = {}                   # las distribuciones de cada atributo\n",
    "\n",
    "\n",
    "        # Las funciones de masa o densidad de probabilidad condicionales\n",
    "\n",
    "        for attribute in attributes:\n",
    "\n",
    "            if dictionary_of_distributions[attribute] == 'categorica':\n",
    "\n",
    "                if len(Iwi[i][attribute].unique()) == 2:\n",
    "                    newdistributions[classes[i]][attribute] = 'bernoulli'   # al final ya no se usa, pero queda bonito\n",
    "                    teta = Iwi[i][attribute].mean()\n",
    "                    un_pxiIwi = bernoulli(teta)             \n",
    "                    pxjIwi[i].append(un_pxiIwi)                             # guardamos la distribucion condicional bernoulli\n",
    "                    \n",
    "                else: \n",
    "                    newdistributions[classes[i]][attribute] = 'multinomial' # avisamos que es multinomial\n",
    "                    # multinomial (1, p) es la distribucion de probabilidad de un vector de 1 elemento con probabilidad p\n",
    "                    un_pxiIwi = multinomial(1, Iwi[i][attribute].value_counts(normalize=True))\n",
    "                    pxjIwi[i].append(un_pxiIwi)\n",
    "                    \n",
    "                    \n",
    "\n",
    "            elif dictionary_of_distributions[attribute] == 'entera':\n",
    "                newdistributions[classes[i]][attribute] = 'poisson'         # avisamos que es poisson\n",
    "                lambda_ = Iwi[i][attribute].mean()\n",
    "                un_pxiIwi = poisson(lambda_)\n",
    "                pxjIwi[i].append(un_pxiIwi)                                 # guardamos la distribucion condicional poisson   \n",
    "\n",
    "\n",
    "            elif dictionary_of_distributions[attribute] == 'continua':\n",
    "                # depende que se pidio\n",
    "                if esnormal:\n",
    "                    newdistributions[classes[i]][attribute] = 'normal'\n",
    "                    xbar = Iwi[i][attribute].mean()\n",
    "                    s = Iwi[i][attribute].std()\n",
    "                    un_pxiIwi = norm(xbar, s)\n",
    "                    pxjIwi[i].append(un_pxiIwi)\n",
    "                    \n",
    "                else:\n",
    "                    newdistributions[classes[i]][attribute] = 'kde'\n",
    "                    un_pxiIwi = gaussian_kde(Iwi[i][attribute])\n",
    "                    pxjIwi[i].append(un_pxiIwi)\n",
    "                    \n",
    "\n",
    "\n",
    "    return pxjIwi, pwi, Iwi, classes, attributes, newdistributions"
   ]
  },
  {
   "cell_type": "code",
   "execution_count": 33,
   "metadata": {},
   "outputs": [],
   "source": [
    "# la usamos para la multinomial\n",
    "def numtoarray(num, size):\n",
    "    array = [0] * size\n",
    "    array[num] = 1\n",
    "    return array"
   ]
  },
  {
   "cell_type": "code",
   "execution_count": 34,
   "metadata": {},
   "outputs": [],
   "source": [
    "def predict(pxjIwi, pwi, Iwi, classes, attributes, newdistributions, age, sex, chest_pain_type, resting_blood_pressure, cholesterol, fasting_blood_sugar, resting_ecg, max_heart_rate, exercise_induced_angina, st_depression, slope, number_of_major_vessels, thal):\n",
    "\n",
    "    # P(w_i|x) = P(w_i) * P(x|w_i)\n",
    "    Pwis = []\n",
    "    \n",
    "    # its easier \n",
    "    attributes_values = [age, sex, chest_pain_type, resting_blood_pressure, cholesterol, fasting_blood_sugar, resting_ecg, max_heart_rate, exercise_induced_angina, st_depression, slope, number_of_major_vessels, thal]\n",
    "\n",
    "\n",
    "    for i in range(len(classes)):\n",
    "\n",
    "        # It depends on the distribution\n",
    "\n",
    "        # a priori probability\n",
    "        Pwi = pwi[i]\n",
    "        for attribute in range(len(attributes_values)):\n",
    "            \n",
    "            # el diccionario puede entrar a i porque es un num, attributes[attribute] es el nombre del atributo (attributes[0] = 'Age')\n",
    "            # newdistributions[1]['Age'] == 'kde' o 'normal' \n",
    "\n",
    "            # if its poisson\n",
    "            if newdistributions[i][attributes[attribute]] == scipy.stats._discrete_distns.bernoulli_gen:\n",
    "                # pxjIwi[i][attribute] es donde esta una distribucion\n",
    "                evaluation = pxjIwi[i][attribute].pmf(attributes_values[attribute])\n",
    "                Pwi *= evaluation\n",
    "\n",
    "            # if its normal\n",
    "            elif newdistributions[i][attributes[attribute]] == scipy.stats._continuous_distns.norm_gen:\n",
    "                evaluation = pxjIwi[i][attribute].pdf(attributes_values[attribute])\n",
    "                Pwi *= evaluation\n",
    "\n",
    "            # if its kde\n",
    "            elif newdistributions[i][attributes[attribute]] == scipy.stats._kde.gaussian_kde:\n",
    "                evaluation = pxjIwi[i][attribute].pdf(attributes_values[attribute])\n",
    "                Pwi *= evaluation\n",
    "\n",
    "            # if its bernoulli\n",
    "            elif type(pxjIwi[i][attribute]) == scipy.stats._distn_infrastructure.rv_discrete_frozen:\n",
    "                evaluation = pxjIwi[i][attribute].pmf(attributes_values[attribute])\n",
    "                Pwi *= evaluation\n",
    "\n",
    "            # if its multinomial\n",
    "            elif type(pxjIwi[i][attribute]) == scipy.stats._multivariate.multinomial_frozen:\n",
    "                arrvalue = numtoarray(attributes_values[attribute], len(pxjIwi[i][attribute].p))\n",
    "                evaluation = pxjIwi[i][attribute].pmf(arrvalue)\n",
    "                Pwi *= evaluation\n",
    "\n",
    "            \n",
    "        # list of probabilities|class\n",
    "        Pwis.append(Pwi)\n",
    "\n",
    "    # argmax\n",
    "    argmax = np.argmax(Pwis)\n",
    "\n",
    "    return argmax"
   ]
  },
  {
   "cell_type": "code",
   "execution_count": 35,
   "metadata": {},
   "outputs": [],
   "source": [
    "def probar_el_clasificador(predictoras, apredecir, classes, Iwi, distributions, esnormal, pxjIwi, pwi, attributes):\n",
    "\n",
    "    # Shuffle the rows\n",
    "    for clase in range(len(classes)):\n",
    "        Iwi[clase] = Iwi[clase].sample(frac=1).reset_index(drop=True)   \n",
    "\n",
    "    # Esto era le que estaba pensando de hacer muchos train y test y el promedio de los resultados\n",
    "\n",
    "    # Es un minitrain porque se divide por los Iwis ↓↓\n",
    "    minitrain = []\n",
    "    minitest = []\n",
    "\n",
    "    # Se hace asi para tener al menos un wi de cada clase\n",
    "    for clase in range(len(classes)): \n",
    "        minitrain.append(Iwi[clase].iloc[:  int(len(Iwi[clase])*0.8), :])   # 80% of the rows\n",
    "        minitest.append(Iwi[clase].iloc[int(len(Iwi[clase])*0.8):, :])      # 20% of the rows\n",
    "\n",
    "    # Un traindf ya es un train bien hecho con todas las clases (del 80%)\n",
    "    traindf = pd.concat(minitrain, ignore_index=True)\n",
    "    testdf = pd.concat(minitest, ignore_index=True)\n",
    "\n",
    "    # Vamos a .fit el traindf\n",
    "    predictoras_train = traindf[predictoras.columns]    # No es un iloc porque la que queremos predecir puede no ser la ultima\n",
    "    apredecir_train = traindf[apredecir.name]\n",
    "\n",
    "    # Fitteamos ajajja el modelo con el traindf\n",
    "\n",
    "    # fit(predictoras, apredecir, dictionary_of_distributions, esnormal=False):\n",
    "    # return pxjIwi, pwi, Iwi, classes, attributes, newdistributions\n",
    "    pxjIwi, pwi, Iwi, classes, attributes, newdistributions = fit(predictoras_train, apredecir_train, distributions, esnormal)\n",
    "\n",
    "    # Vector de predicciones\n",
    "    predictions = []\n",
    "    \n",
    "    # Vamos a .predict el testdf\n",
    "    for i in range(len(testdf)):    # con todos los datos del testdf\n",
    "        # def predict(pxjIwi, pwi, Iwi, classes, attributes, newdistributions, age, sex, chest_pain_type, resting_blood_pressure, cholesterol, fasting_blood_sugar, resting_ecg, max_heart_rate, exercise_induced_angina, st_depression, slope, number_of_major_vessels, thal):\n",
    "        # argmax\n",
    "\n",
    "        agetest = testdf.iloc[i, 0]\n",
    "        sextest = testdf.iloc[i, 1]\n",
    "        chest_pain_typetest = testdf.iloc[i, 2]\n",
    "        resting_blood_pressuretest = testdf.iloc[i, 3]\n",
    "        cholesteroltest = testdf.iloc[i, 4]\n",
    "        fasting_blood_sugartest = testdf.iloc[i, 5]\n",
    "        resting_ecgtest = testdf.iloc[i, 6]\n",
    "        max_heart_ratetest = testdf.iloc[i, 7]\n",
    "        exercise_induced_anginatest = testdf.iloc[i, 8]\n",
    "        st_depressiontest = testdf.iloc[i, 9]\n",
    "        slopetest = testdf.iloc[i, 10]\n",
    "        number_of_major_vesselstest = testdf.iloc[i, 11]\n",
    "        thaltest = testdf.iloc[i, 12]\n",
    "\n",
    "\n",
    "        predictpredict = predict(pxjIwi, pwi, Iwi, classes, attributes, distributions, agetest, sextest, chest_pain_typetest, resting_blood_pressuretest, cholesteroltest, fasting_blood_sugartest, resting_ecgtest, max_heart_ratetest, exercise_induced_anginatest, st_depressiontest, slopetest, number_of_major_vesselstest, thaltest)\n",
    "        predictions.append(predictpredict)\n",
    "\n",
    "    # add the predictions to the dataframe\n",
    "    # testdf[\"PREDICT PREDICT\"] = predictions\n",
    "\n",
    "    return testdf"
   ]
  },
  {
   "cell_type": "code",
   "execution_count": 36,
   "metadata": {},
   "outputs": [],
   "source": [
    "def matriz_confusion(y_true, y_pred, cmap='Blues', title='Matriz de Confusión', xlabel='Predicciones', ylabel='Verdaderos'):\n",
    "\n",
    "    cm = confusion_matrix(y_true, y_pred)\n",
    "\n",
    "    fig, ax = plt.subplots(figsize=(4, 4), dpi=150)\n",
    "    disp = ConfusionMatrixDisplay(confusion_matrix=cm)\n",
    "    disp.plot(cmap=cmap, ax=ax, colorbar=False)\n",
    "    # 'Accent', 'Accent_r', 'Blues', 'Blues_r', 'BrBG', 'BrBG_r', 'BuGn', 'BuGn_r', 'BuPu', 'BuPu_r', 'CMRmap', 'CMRmap_r', 'Dark2', 'Dark2_r', 'GnBu', 'GnBu_r', 'Grays', 'Greens', 'Greens_r', 'Greys', 'Greys_r', 'OrRd', 'OrRd_r', 'Oranges', 'Oranges_r', 'PRGn', 'PRGn_r', 'Paired', 'Paired_r', 'Pastel1', 'Pastel1_r', 'Pastel2', 'Pastel2_r', 'PiYG', 'PiYG_r', 'PuBu', 'PuBuGn', 'PuBuGn_r', 'PuBu_r', 'PuOr', 'PuOr_r', 'PuRd', 'PuRd_r', 'Purples', 'Purples_r', 'RdBu', 'RdBu_r', 'RdGy', 'RdGy_r', 'RdPu', 'RdPu_r', 'RdYlBu', 'RdYlBu_r', 'RdYlGn', 'RdYlGn_r', 'Reds', 'Reds_r', 'Set1', 'Set1_r', 'Set2', 'Set2_r', 'Set3', 'Set3_r', 'Spectral', 'Spectral_r', 'Wistia', 'Wistia_r', 'YlGn', 'YlGnBu', 'YlGnBu_r', 'YlGn_r', 'YlOrBr', 'YlOrBr_r', 'YlOrRd', 'YlOrRd_r', 'afmhot', 'afmhot_r', 'autumn', 'autumn_r', 'binary', 'binary_r', 'bone', 'bone_r', 'brg', 'brg_r', 'bwr', 'bwr_r', 'cividis', 'cividis_r', 'cool', 'cool_r', 'coolwarm', 'coolwarm_r', 'copper', 'copper_r', 'cubehelix', 'cubehelix_r', 'flag', 'flag_r', 'gist_earth', 'gist_earth_r', 'gist_gray', 'gist_gray_r', 'gist_grey', 'gist_heat', 'gist_heat_r', 'gist_ncar', 'gist_ncar_r', 'gist_rainbow', 'gist_rainbow_r', 'gist_stern', 'gist_stern_r', 'gist_yarg', 'gist_yarg_r', 'gist_yerg', 'gnuplot', 'gnuplot2', 'gnuplot2_r', 'gnuplot_r', 'gray', 'gray_r', 'grey', 'hot', 'hot_r', 'hsv', 'hsv_r', 'inferno', 'inferno_r', 'jet', 'jet_r', 'magma', 'magma_r', 'nipy_spectral', 'nipy_spectral_r', 'ocean', 'ocean_r', 'pink', 'pink_r', 'plasma', 'plasma_r', 'prism', 'prism_r', 'rainbow', 'rainbow_r', 'seismic', 'seismic_r', 'spring', 'spring_r', 'summer', 'summer_r', 'tab10', 'tab10_r', 'tab20', 'tab20_r', 'tab20b', 'tab20b_r', 'tab20c', 'tab20c_r', 'terrain', 'terrain_r', 'turbo', 'turbo_r', 'twilight', 'twilight_r', 'twilight_shifted', 'twilight_shifted_r', 'viridis', 'viridis_r', 'winter', 'winter_r'\n",
    "    \n",
    "    ax.set_title(title, fontsize=10, fontweight='bold')\n",
    "    ax.set_xlabel(xlabel)\n",
    "    ax.set_ylabel(ylabel)\n",
    "    \n",
    "    plt.show()"
   ]
  },
  {
   "cell_type": "code",
   "execution_count": 37,
   "metadata": {},
   "outputs": [],
   "source": [
    "class bayes_naive:\n",
    "\n",
    "    def __init__(self, normalokde):\n",
    "\n",
    "        if normalokde == 'normal':\n",
    "            self.esnormal = True\n",
    "        else:\n",
    "            self.esnormal = False\n",
    "\n",
    "    # fit(predictoras, apredecir, dictionary_of_distributions, esnormal=False):\n",
    "        # return pxjIwi, pwi, Iwi, classes, attributes, newdistributions\n",
    "    def fit(self, predictoras, apredecir, dictionary_of_distributions):\n",
    "        self.pxjIwi, self.pwi, self.Iwi, self.classes, self.attributes, self.newdistributions = fit(predictoras, apredecir, dictionary_of_distributions, self.esnormal)\n",
    "\n",
    "        self.predictoras = predictoras\n",
    "        self.apredecir = apredecir\n",
    "        self.dictionary_of_distributions = dictionary_of_distributions\n",
    "        \n",
    "        return self.pxjIwi, self.pwi, self.Iwi, self.classes, self.attributes, self.newdistributions\n",
    "\n",
    "    # def predict(pxjIwi, pwi, Iwi, classes, attributes, newdistributions, age, sex, chest_pain_type, resting_blood_pressure, cholesterol, fasting_blood_sugar, resting_ecg, max_heart_rate, exercise_induced_angina, st_depression, slope, number_of_major_vessels, thal):\n",
    "        # argmax\n",
    "    def predict(self, age, sex, chest_pain_type, resting_blood_pressure, cholesterol, fasting_blood_sugar, resting_ecg, max_heart_rate, exercise_induced_angina, st_depression, slope, number_of_major_vessels, thal):\n",
    "        return predict(self.pxjIwi, self.pwi, self.Iwi, self.classes, self.attributes, self.newdistributions, age, sex, chest_pain_type, resting_blood_pressure, cholesterol, fasting_blood_sugar, resting_ecg, max_heart_rate, exercise_induced_angina, st_depression, slope, number_of_major_vessels, thal)\n",
    "    \n",
    "    # probar_el_clasificador(predictoras, apredecir, classes, Iwi, distributions, esnormal, pxjIwi, pwi, attributes)\n",
    "        # return testdf\n",
    "    def probar_el_clasificador(self):\n",
    "        testdf = probar_el_clasificador(self.predictoras, self.apredecir, self.classes, self.Iwi, self.dictionary_of_distributions, self.esnormal, self.pxjIwi, self.pwi, self.attributes)\n",
    "        self.testdf = testdf\n",
    "        return testdf\n",
    "    \n",
    "    def confusion_matrix(self, cmap='Blues', title='Matriz de Confusión', xlabel='Predicciones', ylabel='Verdaderos'):\n",
    "        self.y_pred = self.testdf['PREDICT PREDICT']\n",
    "        self.y_true = self.testdf[self.apredecir.name]\n",
    "        return matriz_confusion(self.y_true, self.y_pred, cmap, title, xlabel, ylabel)\n",
    "    \n",
    "    def reporte_de_clasificacion(self):\n",
    "        return print(classification_report(self.y_true, self.y_pred))\n",
    "\n"
   ]
  },
  {
   "cell_type": "markdown",
   "metadata": {},
   "source": [
    "# **Ejemplo**"
   ]
  },
  {
   "cell_type": "code",
   "execution_count": 38,
   "metadata": {},
   "outputs": [],
   "source": [
    "cleavland = pd.read_csv('05-heart+disease/processed.cleveland.data', header=None, encoding='ISO-8859-1')\n",
    "hungary = pd.read_csv('05-heart+disease/processed.hungarian.data', header=None, encoding='ISO-8859-1')\n",
    "switzerland = pd.read_csv('05-heart+disease/processed.switzerland.data', header=None, encoding='ISO-8859-1')\n",
    "va = pd.read_csv('05-heart+disease/processed.va.data', header=None, encoding='ISO-8859-1')"
   ]
  },
  {
   "cell_type": "code",
   "execution_count": 39,
   "metadata": {},
   "outputs": [],
   "source": [
    "attributes = [\"Age\", \"Sex\", \"Chest Pain Type\", \"Resting Blood Pressure\", \"Cholesterol\", \"Fasting Blood Sugar\", \"Resting ECG\", \"Max Heart Rate\", \"Exercise Induced Angina\", \"ST Depression\", \"Slope\", \"Number of Major Vessels\", \"Thal\", \"Diagnosis of Heart Disease\"]"
   ]
  },
  {
   "cell_type": "code",
   "execution_count": 40,
   "metadata": {},
   "outputs": [],
   "source": [
    "cleavland.columns = attributes\n",
    "hungary.columns = attributes\n",
    "switzerland.columns = attributes\n",
    "va.columns = attributes"
   ]
  },
  {
   "cell_type": "code",
   "execution_count": 41,
   "metadata": {},
   "outputs": [],
   "source": [
    "df = pd.concat([cleavland, hungary, switzerland, va], ignore_index=True)"
   ]
  },
  {
   "cell_type": "code",
   "execution_count": 42,
   "metadata": {},
   "outputs": [],
   "source": [
    "df.replace(\"?\", np.nan, inplace=True)\n",
    "df.dropna(inplace=True)\n",
    "df = df.apply(pd.to_numeric)"
   ]
  },
  {
   "cell_type": "code",
   "execution_count": 43,
   "metadata": {},
   "outputs": [],
   "source": [
    "distributions = {\n",
    "    'Age': 'continua',\n",
    "    'Sex': 'categorica',\n",
    "    'Chest Pain Type': 'entera', \n",
    "    'Resting Blood Pressure': 'continua',\n",
    "    'Cholesterol': 'continua',\n",
    "    'Fasting Blood Sugar': 'categorica', \n",
    "    'Resting ECG': 'categorica',\n",
    "    'Max Heart Rate': 'continua',\n",
    "    'Exercise Induced Angina': 'categorica',\n",
    "    'ST Depression': 'continua',\n",
    "    'Slope': 'categorica',\n",
    "    'Number of Major Vessels': 'categorica', \n",
    "    'Thal': 'categorica', \n",
    "    'Diagnosis of Heart Disease': 'categorica'\n",
    "}"
   ]
  },
  {
   "cell_type": "code",
   "execution_count": 44,
   "metadata": {},
   "outputs": [],
   "source": [
    "predictoras = df.iloc[:, :-1]\n",
    "apredecir = df.iloc[:, -1]"
   ]
  },
  {
   "cell_type": "code",
   "execution_count": 45,
   "metadata": {},
   "outputs": [],
   "source": [
    "bn = bayes_naive('kde')"
   ]
  },
  {
   "cell_type": "code",
   "execution_count": 46,
   "metadata": {},
   "outputs": [],
   "source": [
    "pxjIwi, pwi, Iwi, classes, attributes, newdistributions = bn.fit(predictoras, apredecir, distributions)"
   ]
  },
  {
   "cell_type": "code",
   "execution_count": 47,
   "metadata": {},
   "outputs": [],
   "source": [
    "age = 63\n",
    "sex = 1\n",
    "chest_pain_type = 3\n",
    "resting_blood_pressure = 145\n",
    "cholesterol = 233\n",
    "fasting_blood_sugar = 1\n",
    "resting_ecg = 0\n",
    "max_heart_rate = 150\n",
    "exercise_induced_angina = 0\n",
    "st_depression = 2.3\n",
    "slope = 0\n",
    "number_of_major_vessels = 0\n",
    "thal = 1"
   ]
  },
  {
   "cell_type": "code",
   "execution_count": 48,
   "metadata": {},
   "outputs": [
    {
     "data": {
      "text/plain": [
       "2"
      ]
     },
     "execution_count": 48,
     "metadata": {},
     "output_type": "execute_result"
    }
   ],
   "source": [
    "bn.predict(age, sex, chest_pain_type, resting_blood_pressure, cholesterol, fasting_blood_sugar, resting_ecg, max_heart_rate, exercise_induced_angina, st_depression, slope, number_of_major_vessels, thal) "
   ]
  },
  {
   "cell_type": "code",
   "execution_count": 49,
   "metadata": {},
   "outputs": [
    {
     "ename": "KeyError",
     "evalue": "0",
     "output_type": "error",
     "traceback": [
      "\u001b[1;31m---------------------------------------------------------------------------\u001b[0m",
      "\u001b[1;31mKeyError\u001b[0m                                  Traceback (most recent call last)",
      "Cell \u001b[1;32mIn[49], line 1\u001b[0m\n\u001b[1;32m----> 1\u001b[0m testdf \u001b[38;5;241m=\u001b[39m \u001b[43mbn\u001b[49m\u001b[38;5;241;43m.\u001b[39;49m\u001b[43mprobar_el_clasificador\u001b[49m\u001b[43m(\u001b[49m\u001b[43m)\u001b[49m\n\u001b[0;32m      2\u001b[0m testdf \n",
      "Cell \u001b[1;32mIn[37], line 29\u001b[0m, in \u001b[0;36mbayes_naive.probar_el_clasificador\u001b[1;34m(self)\u001b[0m\n\u001b[0;32m     28\u001b[0m \u001b[38;5;28;01mdef\u001b[39;00m \u001b[38;5;21mprobar_el_clasificador\u001b[39m(\u001b[38;5;28mself\u001b[39m):\n\u001b[1;32m---> 29\u001b[0m     testdf \u001b[38;5;241m=\u001b[39m \u001b[43mprobar_el_clasificador\u001b[49m\u001b[43m(\u001b[49m\u001b[38;5;28;43mself\u001b[39;49m\u001b[38;5;241;43m.\u001b[39;49m\u001b[43mpredictoras\u001b[49m\u001b[43m,\u001b[49m\u001b[43m \u001b[49m\u001b[38;5;28;43mself\u001b[39;49m\u001b[38;5;241;43m.\u001b[39;49m\u001b[43mapredecir\u001b[49m\u001b[43m,\u001b[49m\u001b[43m \u001b[49m\u001b[38;5;28;43mself\u001b[39;49m\u001b[38;5;241;43m.\u001b[39;49m\u001b[43mclasses\u001b[49m\u001b[43m,\u001b[49m\u001b[43m \u001b[49m\u001b[38;5;28;43mself\u001b[39;49m\u001b[38;5;241;43m.\u001b[39;49m\u001b[43mIwi\u001b[49m\u001b[43m,\u001b[49m\u001b[43m \u001b[49m\u001b[38;5;28;43mself\u001b[39;49m\u001b[38;5;241;43m.\u001b[39;49m\u001b[43mdictionary_of_distributions\u001b[49m\u001b[43m,\u001b[49m\u001b[43m \u001b[49m\u001b[38;5;28;43mself\u001b[39;49m\u001b[38;5;241;43m.\u001b[39;49m\u001b[43mesnormal\u001b[49m\u001b[43m,\u001b[49m\u001b[43m \u001b[49m\u001b[38;5;28;43mself\u001b[39;49m\u001b[38;5;241;43m.\u001b[39;49m\u001b[43mpxjIwi\u001b[49m\u001b[43m,\u001b[49m\u001b[43m \u001b[49m\u001b[38;5;28;43mself\u001b[39;49m\u001b[38;5;241;43m.\u001b[39;49m\u001b[43mpwi\u001b[49m\u001b[43m,\u001b[49m\u001b[43m \u001b[49m\u001b[38;5;28;43mself\u001b[39;49m\u001b[38;5;241;43m.\u001b[39;49m\u001b[43mattributes\u001b[49m\u001b[43m)\u001b[49m\n\u001b[0;32m     30\u001b[0m     \u001b[38;5;28mself\u001b[39m\u001b[38;5;241m.\u001b[39mtestdf \u001b[38;5;241m=\u001b[39m testdf\n\u001b[0;32m     31\u001b[0m     \u001b[38;5;28;01mreturn\u001b[39;00m testdf\n",
      "Cell \u001b[1;32mIn[35], line 55\u001b[0m, in \u001b[0;36mprobar_el_clasificador\u001b[1;34m(predictoras, apredecir, classes, Iwi, distributions, esnormal, pxjIwi, pwi, attributes)\u001b[0m\n\u001b[0;32m     51\u001b[0m     number_of_major_vesselstest \u001b[38;5;241m=\u001b[39m testdf\u001b[38;5;241m.\u001b[39miloc[i, \u001b[38;5;241m11\u001b[39m]\n\u001b[0;32m     52\u001b[0m     thaltest \u001b[38;5;241m=\u001b[39m testdf\u001b[38;5;241m.\u001b[39miloc[i, \u001b[38;5;241m12\u001b[39m]\n\u001b[1;32m---> 55\u001b[0m     predictpredict \u001b[38;5;241m=\u001b[39m \u001b[43mpredict\u001b[49m\u001b[43m(\u001b[49m\u001b[43mpxjIwi\u001b[49m\u001b[43m,\u001b[49m\u001b[43m \u001b[49m\u001b[43mpwi\u001b[49m\u001b[43m,\u001b[49m\u001b[43m \u001b[49m\u001b[43mIwi\u001b[49m\u001b[43m,\u001b[49m\u001b[43m \u001b[49m\u001b[43mclasses\u001b[49m\u001b[43m,\u001b[49m\u001b[43m \u001b[49m\u001b[43mattributes\u001b[49m\u001b[43m,\u001b[49m\u001b[43m \u001b[49m\u001b[43mdistributions\u001b[49m\u001b[43m,\u001b[49m\u001b[43m \u001b[49m\u001b[43magetest\u001b[49m\u001b[43m,\u001b[49m\u001b[43m \u001b[49m\u001b[43msextest\u001b[49m\u001b[43m,\u001b[49m\u001b[43m \u001b[49m\u001b[43mchest_pain_typetest\u001b[49m\u001b[43m,\u001b[49m\u001b[43m \u001b[49m\u001b[43mresting_blood_pressuretest\u001b[49m\u001b[43m,\u001b[49m\u001b[43m \u001b[49m\u001b[43mcholesteroltest\u001b[49m\u001b[43m,\u001b[49m\u001b[43m \u001b[49m\u001b[43mfasting_blood_sugartest\u001b[49m\u001b[43m,\u001b[49m\u001b[43m \u001b[49m\u001b[43mresting_ecgtest\u001b[49m\u001b[43m,\u001b[49m\u001b[43m \u001b[49m\u001b[43mmax_heart_ratetest\u001b[49m\u001b[43m,\u001b[49m\u001b[43m \u001b[49m\u001b[43mexercise_induced_anginatest\u001b[49m\u001b[43m,\u001b[49m\u001b[43m \u001b[49m\u001b[43mst_depressiontest\u001b[49m\u001b[43m,\u001b[49m\u001b[43m \u001b[49m\u001b[43mslopetest\u001b[49m\u001b[43m,\u001b[49m\u001b[43m \u001b[49m\u001b[43mnumber_of_major_vesselstest\u001b[49m\u001b[43m,\u001b[49m\u001b[43m \u001b[49m\u001b[43mthaltest\u001b[49m\u001b[43m)\u001b[49m\n\u001b[0;32m     56\u001b[0m     predictions\u001b[38;5;241m.\u001b[39mappend(predictpredict)\n\u001b[0;32m     58\u001b[0m \u001b[38;5;66;03m# add the predictions to the dataframe\u001b[39;00m\n\u001b[0;32m     59\u001b[0m \u001b[38;5;66;03m# testdf[\"PREDICT PREDICT\"] = predictions\u001b[39;00m\n",
      "Cell \u001b[1;32mIn[34], line 22\u001b[0m, in \u001b[0;36mpredict\u001b[1;34m(pxjIwi, pwi, Iwi, classes, attributes, newdistributions, age, sex, chest_pain_type, resting_blood_pressure, cholesterol, fasting_blood_sugar, resting_ecg, max_heart_rate, exercise_induced_angina, st_depression, slope, number_of_major_vessels, thal)\u001b[0m\n\u001b[0;32m     15\u001b[0m Pwi \u001b[38;5;241m=\u001b[39m pwi[i]\n\u001b[0;32m     16\u001b[0m \u001b[38;5;28;01mfor\u001b[39;00m attribute \u001b[38;5;129;01min\u001b[39;00m \u001b[38;5;28mrange\u001b[39m(\u001b[38;5;28mlen\u001b[39m(attributes_values)):\n\u001b[0;32m     17\u001b[0m     \n\u001b[0;32m     18\u001b[0m     \u001b[38;5;66;03m# el diccionario puede entrar a i porque es un num, attributes[attribute] es el nombre del atributo (attributes[0] = 'Age')\u001b[39;00m\n\u001b[0;32m     19\u001b[0m     \u001b[38;5;66;03m# newdistributions[1]['Age'] == 'kde' o 'normal' \u001b[39;00m\n\u001b[0;32m     20\u001b[0m \n\u001b[0;32m     21\u001b[0m     \u001b[38;5;66;03m# if its poisson\u001b[39;00m\n\u001b[1;32m---> 22\u001b[0m     \u001b[38;5;28;01mif\u001b[39;00m \u001b[43mnewdistributions\u001b[49m\u001b[43m[\u001b[49m\u001b[43mi\u001b[49m\u001b[43m]\u001b[49m[attributes[attribute]] \u001b[38;5;241m==\u001b[39m scipy\u001b[38;5;241m.\u001b[39mstats\u001b[38;5;241m.\u001b[39m_discrete_distns\u001b[38;5;241m.\u001b[39mbernoulli_gen:\n\u001b[0;32m     23\u001b[0m         \u001b[38;5;66;03m# pxjIwi[i][attribute] es donde esta una distribucion\u001b[39;00m\n\u001b[0;32m     24\u001b[0m         evaluation \u001b[38;5;241m=\u001b[39m pxjIwi[i][attribute]\u001b[38;5;241m.\u001b[39mpmf(attributes_values[attribute])\n\u001b[0;32m     25\u001b[0m         Pwi \u001b[38;5;241m*\u001b[39m\u001b[38;5;241m=\u001b[39m evaluation\n",
      "\u001b[1;31mKeyError\u001b[0m: 0"
     ]
    }
   ],
   "source": [
    "testdf = bn.probar_el_clasificador()\n",
    "testdf "
   ]
  },
  {
   "cell_type": "code",
   "execution_count": null,
   "metadata": {},
   "outputs": [
    {
     "data": {
      "text/plain": [
       "43.0"
      ]
     },
     "execution_count": 174,
     "metadata": {},
     "output_type": "execute_result"
    }
   ],
   "source": [
    "testdf.iloc[1, 0]"
   ]
  },
  {
   "cell_type": "code",
   "execution_count": null,
   "metadata": {},
   "outputs": [
    {
     "data": {
      "text/plain": [
       "41.0"
      ]
     },
     "execution_count": 175,
     "metadata": {},
     "output_type": "execute_result"
    }
   ],
   "source": [
    "testdf.iloc[2, 0]"
   ]
  },
  {
   "cell_type": "code",
   "execution_count": null,
   "metadata": {},
   "outputs": [
    {
     "data": {
      "text/plain": [
       "0     0.0\n",
       "1     1.0\n",
       "2     1.0\n",
       "3     0.0\n",
       "4     0.0\n",
       "     ... \n",
       "56    0.0\n",
       "57    1.0\n",
       "58    0.0\n",
       "59    1.0\n",
       "60    1.0\n",
       "Name: Sex, Length: 61, dtype: float64"
      ]
     },
     "execution_count": 172,
     "metadata": {},
     "output_type": "execute_result"
    }
   ],
   "source": [
    "testdf.iloc[:, 1]"
   ]
  },
  {
   "cell_type": "code",
   "execution_count": null,
   "metadata": {},
   "outputs": [
    {
     "data": {
      "text/plain": [
       "1.0"
      ]
     },
     "execution_count": 173,
     "metadata": {},
     "output_type": "execute_result"
    }
   ],
   "source": [
    "testdf.iloc[1, 1]"
   ]
  },
  {
   "cell_type": "code",
   "execution_count": null,
   "metadata": {},
   "outputs": [
    {
     "data": {
      "text/plain": [
       "61"
      ]
     },
     "execution_count": 165,
     "metadata": {},
     "output_type": "execute_result"
    }
   ],
   "source": [
    "len(testdf)"
   ]
  },
  {
   "cell_type": "code",
   "execution_count": null,
   "metadata": {},
   "outputs": [
    {
     "ename": "KeyError",
     "evalue": "1",
     "output_type": "error",
     "traceback": [
      "\u001b[1;31m---------------------------------------------------------------------------\u001b[0m",
      "\u001b[1;31mKeyError\u001b[0m                                  Traceback (most recent call last)",
      "File \u001b[1;32mc:\\Users\\herie\\AppData\\Local\\Programs\\Python\\Python312\\Lib\\site-packages\\pandas\\core\\indexes\\base.py:3805\u001b[0m, in \u001b[0;36mIndex.get_loc\u001b[1;34m(self, key)\u001b[0m\n\u001b[0;32m   3804\u001b[0m \u001b[38;5;28;01mtry\u001b[39;00m:\n\u001b[1;32m-> 3805\u001b[0m     \u001b[38;5;28;01mreturn\u001b[39;00m \u001b[38;5;28;43mself\u001b[39;49m\u001b[38;5;241;43m.\u001b[39;49m\u001b[43m_engine\u001b[49m\u001b[38;5;241;43m.\u001b[39;49m\u001b[43mget_loc\u001b[49m\u001b[43m(\u001b[49m\u001b[43mcasted_key\u001b[49m\u001b[43m)\u001b[49m\n\u001b[0;32m   3806\u001b[0m \u001b[38;5;28;01mexcept\u001b[39;00m \u001b[38;5;167;01mKeyError\u001b[39;00m \u001b[38;5;28;01mas\u001b[39;00m err:\n",
      "File \u001b[1;32mindex.pyx:167\u001b[0m, in \u001b[0;36mpandas._libs.index.IndexEngine.get_loc\u001b[1;34m()\u001b[0m\n",
      "File \u001b[1;32mindex.pyx:196\u001b[0m, in \u001b[0;36mpandas._libs.index.IndexEngine.get_loc\u001b[1;34m()\u001b[0m\n",
      "File \u001b[1;32mpandas\\\\_libs\\\\hashtable_class_helper.pxi:7081\u001b[0m, in \u001b[0;36mpandas._libs.hashtable.PyObjectHashTable.get_item\u001b[1;34m()\u001b[0m\n",
      "File \u001b[1;32mpandas\\\\_libs\\\\hashtable_class_helper.pxi:7089\u001b[0m, in \u001b[0;36mpandas._libs.hashtable.PyObjectHashTable.get_item\u001b[1;34m()\u001b[0m\n",
      "\u001b[1;31mKeyError\u001b[0m: 1",
      "\nThe above exception was the direct cause of the following exception:\n",
      "\u001b[1;31mKeyError\u001b[0m                                  Traceback (most recent call last)",
      "Cell \u001b[1;32mIn[168], line 1\u001b[0m\n\u001b[1;32m----> 1\u001b[0m \u001b[43mtestdf\u001b[49m\u001b[43m[\u001b[49m\u001b[38;5;241;43m1\u001b[39;49m\u001b[43m]\u001b[49m\n",
      "File \u001b[1;32mc:\\Users\\herie\\AppData\\Local\\Programs\\Python\\Python312\\Lib\\site-packages\\pandas\\core\\frame.py:4090\u001b[0m, in \u001b[0;36mDataFrame.__getitem__\u001b[1;34m(self, key)\u001b[0m\n\u001b[0;32m   4088\u001b[0m \u001b[38;5;28;01mif\u001b[39;00m \u001b[38;5;28mself\u001b[39m\u001b[38;5;241m.\u001b[39mcolumns\u001b[38;5;241m.\u001b[39mnlevels \u001b[38;5;241m>\u001b[39m \u001b[38;5;241m1\u001b[39m:\n\u001b[0;32m   4089\u001b[0m     \u001b[38;5;28;01mreturn\u001b[39;00m \u001b[38;5;28mself\u001b[39m\u001b[38;5;241m.\u001b[39m_getitem_multilevel(key)\n\u001b[1;32m-> 4090\u001b[0m indexer \u001b[38;5;241m=\u001b[39m \u001b[38;5;28;43mself\u001b[39;49m\u001b[38;5;241;43m.\u001b[39;49m\u001b[43mcolumns\u001b[49m\u001b[38;5;241;43m.\u001b[39;49m\u001b[43mget_loc\u001b[49m\u001b[43m(\u001b[49m\u001b[43mkey\u001b[49m\u001b[43m)\u001b[49m\n\u001b[0;32m   4091\u001b[0m \u001b[38;5;28;01mif\u001b[39;00m is_integer(indexer):\n\u001b[0;32m   4092\u001b[0m     indexer \u001b[38;5;241m=\u001b[39m [indexer]\n",
      "File \u001b[1;32mc:\\Users\\herie\\AppData\\Local\\Programs\\Python\\Python312\\Lib\\site-packages\\pandas\\core\\indexes\\base.py:3812\u001b[0m, in \u001b[0;36mIndex.get_loc\u001b[1;34m(self, key)\u001b[0m\n\u001b[0;32m   3807\u001b[0m     \u001b[38;5;28;01mif\u001b[39;00m \u001b[38;5;28misinstance\u001b[39m(casted_key, \u001b[38;5;28mslice\u001b[39m) \u001b[38;5;129;01mor\u001b[39;00m (\n\u001b[0;32m   3808\u001b[0m         \u001b[38;5;28misinstance\u001b[39m(casted_key, abc\u001b[38;5;241m.\u001b[39mIterable)\n\u001b[0;32m   3809\u001b[0m         \u001b[38;5;129;01mand\u001b[39;00m \u001b[38;5;28many\u001b[39m(\u001b[38;5;28misinstance\u001b[39m(x, \u001b[38;5;28mslice\u001b[39m) \u001b[38;5;28;01mfor\u001b[39;00m x \u001b[38;5;129;01min\u001b[39;00m casted_key)\n\u001b[0;32m   3810\u001b[0m     ):\n\u001b[0;32m   3811\u001b[0m         \u001b[38;5;28;01mraise\u001b[39;00m InvalidIndexError(key)\n\u001b[1;32m-> 3812\u001b[0m     \u001b[38;5;28;01mraise\u001b[39;00m \u001b[38;5;167;01mKeyError\u001b[39;00m(key) \u001b[38;5;28;01mfrom\u001b[39;00m \u001b[38;5;21;01merr\u001b[39;00m\n\u001b[0;32m   3813\u001b[0m \u001b[38;5;28;01mexcept\u001b[39;00m \u001b[38;5;167;01mTypeError\u001b[39;00m:\n\u001b[0;32m   3814\u001b[0m     \u001b[38;5;66;03m# If we have a listlike key, _check_indexing_error will raise\u001b[39;00m\n\u001b[0;32m   3815\u001b[0m     \u001b[38;5;66;03m#  InvalidIndexError. Otherwise we fall through and re-raise\u001b[39;00m\n\u001b[0;32m   3816\u001b[0m     \u001b[38;5;66;03m#  the TypeError.\u001b[39;00m\n\u001b[0;32m   3817\u001b[0m     \u001b[38;5;28mself\u001b[39m\u001b[38;5;241m.\u001b[39m_check_indexing_error(key)\n",
      "\u001b[1;31mKeyError\u001b[0m: 1"
     ]
    }
   ],
   "source": [
    "testdf[1]"
   ]
  },
  {
   "cell_type": "code",
   "execution_count": null,
   "metadata": {},
   "outputs": [
    {
     "ename": "KeyError",
     "evalue": "'PREDICT PREDICT'",
     "output_type": "error",
     "traceback": [
      "\u001b[1;31m---------------------------------------------------------------------------\u001b[0m",
      "\u001b[1;31mKeyError\u001b[0m                                  Traceback (most recent call last)",
      "File \u001b[1;32mc:\\Users\\herie\\AppData\\Local\\Programs\\Python\\Python312\\Lib\\site-packages\\pandas\\core\\indexes\\base.py:3805\u001b[0m, in \u001b[0;36mIndex.get_loc\u001b[1;34m(self, key)\u001b[0m\n\u001b[0;32m   3804\u001b[0m \u001b[38;5;28;01mtry\u001b[39;00m:\n\u001b[1;32m-> 3805\u001b[0m     \u001b[38;5;28;01mreturn\u001b[39;00m \u001b[38;5;28;43mself\u001b[39;49m\u001b[38;5;241;43m.\u001b[39;49m\u001b[43m_engine\u001b[49m\u001b[38;5;241;43m.\u001b[39;49m\u001b[43mget_loc\u001b[49m\u001b[43m(\u001b[49m\u001b[43mcasted_key\u001b[49m\u001b[43m)\u001b[49m\n\u001b[0;32m   3806\u001b[0m \u001b[38;5;28;01mexcept\u001b[39;00m \u001b[38;5;167;01mKeyError\u001b[39;00m \u001b[38;5;28;01mas\u001b[39;00m err:\n",
      "File \u001b[1;32mindex.pyx:167\u001b[0m, in \u001b[0;36mpandas._libs.index.IndexEngine.get_loc\u001b[1;34m()\u001b[0m\n",
      "File \u001b[1;32mindex.pyx:196\u001b[0m, in \u001b[0;36mpandas._libs.index.IndexEngine.get_loc\u001b[1;34m()\u001b[0m\n",
      "File \u001b[1;32mpandas\\\\_libs\\\\hashtable_class_helper.pxi:7081\u001b[0m, in \u001b[0;36mpandas._libs.hashtable.PyObjectHashTable.get_item\u001b[1;34m()\u001b[0m\n",
      "File \u001b[1;32mpandas\\\\_libs\\\\hashtable_class_helper.pxi:7089\u001b[0m, in \u001b[0;36mpandas._libs.hashtable.PyObjectHashTable.get_item\u001b[1;34m()\u001b[0m\n",
      "\u001b[1;31mKeyError\u001b[0m: 'PREDICT PREDICT'",
      "\nThe above exception was the direct cause of the following exception:\n",
      "\u001b[1;31mKeyError\u001b[0m                                  Traceback (most recent call last)",
      "Cell \u001b[1;32mIn[166], line 1\u001b[0m\n\u001b[1;32m----> 1\u001b[0m \u001b[43mbn\u001b[49m\u001b[38;5;241;43m.\u001b[39;49m\u001b[43mconfusion_matrix\u001b[49m\u001b[43m(\u001b[49m\u001b[43m)\u001b[49m\n",
      "Cell \u001b[1;32mIn[152], line 35\u001b[0m, in \u001b[0;36mbayes_naive.confusion_matrix\u001b[1;34m(self, cmap, title, xlabel, ylabel)\u001b[0m\n\u001b[0;32m     34\u001b[0m \u001b[38;5;28;01mdef\u001b[39;00m \u001b[38;5;21mconfusion_matrix\u001b[39m(\u001b[38;5;28mself\u001b[39m, cmap\u001b[38;5;241m=\u001b[39m\u001b[38;5;124m'\u001b[39m\u001b[38;5;124mBlues\u001b[39m\u001b[38;5;124m'\u001b[39m, title\u001b[38;5;241m=\u001b[39m\u001b[38;5;124m'\u001b[39m\u001b[38;5;124mMatriz de Confusión\u001b[39m\u001b[38;5;124m'\u001b[39m, xlabel\u001b[38;5;241m=\u001b[39m\u001b[38;5;124m'\u001b[39m\u001b[38;5;124mPredicciones\u001b[39m\u001b[38;5;124m'\u001b[39m, ylabel\u001b[38;5;241m=\u001b[39m\u001b[38;5;124m'\u001b[39m\u001b[38;5;124mVerdaderos\u001b[39m\u001b[38;5;124m'\u001b[39m):\n\u001b[1;32m---> 35\u001b[0m     \u001b[38;5;28mself\u001b[39m\u001b[38;5;241m.\u001b[39my_pred \u001b[38;5;241m=\u001b[39m \u001b[38;5;28;43mself\u001b[39;49m\u001b[38;5;241;43m.\u001b[39;49m\u001b[43mtestdf\u001b[49m\u001b[43m[\u001b[49m\u001b[38;5;124;43m'\u001b[39;49m\u001b[38;5;124;43mPREDICT PREDICT\u001b[39;49m\u001b[38;5;124;43m'\u001b[39;49m\u001b[43m]\u001b[49m\n\u001b[0;32m     36\u001b[0m     \u001b[38;5;28mself\u001b[39m\u001b[38;5;241m.\u001b[39my_true \u001b[38;5;241m=\u001b[39m \u001b[38;5;28mself\u001b[39m\u001b[38;5;241m.\u001b[39mtestdf[\u001b[38;5;28mself\u001b[39m\u001b[38;5;241m.\u001b[39mapredecir\u001b[38;5;241m.\u001b[39mname]\n\u001b[0;32m     37\u001b[0m     \u001b[38;5;28;01mreturn\u001b[39;00m matriz_confusion(\u001b[38;5;28mself\u001b[39m\u001b[38;5;241m.\u001b[39my_true, \u001b[38;5;28mself\u001b[39m\u001b[38;5;241m.\u001b[39my_pred, cmap, title, xlabel, ylabel)\n",
      "File \u001b[1;32mc:\\Users\\herie\\AppData\\Local\\Programs\\Python\\Python312\\Lib\\site-packages\\pandas\\core\\frame.py:4090\u001b[0m, in \u001b[0;36mDataFrame.__getitem__\u001b[1;34m(self, key)\u001b[0m\n\u001b[0;32m   4088\u001b[0m \u001b[38;5;28;01mif\u001b[39;00m \u001b[38;5;28mself\u001b[39m\u001b[38;5;241m.\u001b[39mcolumns\u001b[38;5;241m.\u001b[39mnlevels \u001b[38;5;241m>\u001b[39m \u001b[38;5;241m1\u001b[39m:\n\u001b[0;32m   4089\u001b[0m     \u001b[38;5;28;01mreturn\u001b[39;00m \u001b[38;5;28mself\u001b[39m\u001b[38;5;241m.\u001b[39m_getitem_multilevel(key)\n\u001b[1;32m-> 4090\u001b[0m indexer \u001b[38;5;241m=\u001b[39m \u001b[38;5;28;43mself\u001b[39;49m\u001b[38;5;241;43m.\u001b[39;49m\u001b[43mcolumns\u001b[49m\u001b[38;5;241;43m.\u001b[39;49m\u001b[43mget_loc\u001b[49m\u001b[43m(\u001b[49m\u001b[43mkey\u001b[49m\u001b[43m)\u001b[49m\n\u001b[0;32m   4091\u001b[0m \u001b[38;5;28;01mif\u001b[39;00m is_integer(indexer):\n\u001b[0;32m   4092\u001b[0m     indexer \u001b[38;5;241m=\u001b[39m [indexer]\n",
      "File \u001b[1;32mc:\\Users\\herie\\AppData\\Local\\Programs\\Python\\Python312\\Lib\\site-packages\\pandas\\core\\indexes\\base.py:3812\u001b[0m, in \u001b[0;36mIndex.get_loc\u001b[1;34m(self, key)\u001b[0m\n\u001b[0;32m   3807\u001b[0m     \u001b[38;5;28;01mif\u001b[39;00m \u001b[38;5;28misinstance\u001b[39m(casted_key, \u001b[38;5;28mslice\u001b[39m) \u001b[38;5;129;01mor\u001b[39;00m (\n\u001b[0;32m   3808\u001b[0m         \u001b[38;5;28misinstance\u001b[39m(casted_key, abc\u001b[38;5;241m.\u001b[39mIterable)\n\u001b[0;32m   3809\u001b[0m         \u001b[38;5;129;01mand\u001b[39;00m \u001b[38;5;28many\u001b[39m(\u001b[38;5;28misinstance\u001b[39m(x, \u001b[38;5;28mslice\u001b[39m) \u001b[38;5;28;01mfor\u001b[39;00m x \u001b[38;5;129;01min\u001b[39;00m casted_key)\n\u001b[0;32m   3810\u001b[0m     ):\n\u001b[0;32m   3811\u001b[0m         \u001b[38;5;28;01mraise\u001b[39;00m InvalidIndexError(key)\n\u001b[1;32m-> 3812\u001b[0m     \u001b[38;5;28;01mraise\u001b[39;00m \u001b[38;5;167;01mKeyError\u001b[39;00m(key) \u001b[38;5;28;01mfrom\u001b[39;00m \u001b[38;5;21;01merr\u001b[39;00m\n\u001b[0;32m   3813\u001b[0m \u001b[38;5;28;01mexcept\u001b[39;00m \u001b[38;5;167;01mTypeError\u001b[39;00m:\n\u001b[0;32m   3814\u001b[0m     \u001b[38;5;66;03m# If we have a listlike key, _check_indexing_error will raise\u001b[39;00m\n\u001b[0;32m   3815\u001b[0m     \u001b[38;5;66;03m#  InvalidIndexError. Otherwise we fall through and re-raise\u001b[39;00m\n\u001b[0;32m   3816\u001b[0m     \u001b[38;5;66;03m#  the TypeError.\u001b[39;00m\n\u001b[0;32m   3817\u001b[0m     \u001b[38;5;28mself\u001b[39m\u001b[38;5;241m.\u001b[39m_check_indexing_error(key)\n",
      "\u001b[1;31mKeyError\u001b[0m: 'PREDICT PREDICT'"
     ]
    }
   ],
   "source": [
    "bn.confusion_matrix()"
   ]
  },
  {
   "cell_type": "code",
   "execution_count": null,
   "metadata": {},
   "outputs": [
    {
     "name": "stdout",
     "output_type": "stream",
     "text": [
      "              precision    recall  f1-score   support\n",
      "\n",
      "           0       0.73      0.94      0.82        32\n",
      "           1       0.29      0.17      0.21        12\n",
      "           2       0.14      0.14      0.14         7\n",
      "           3       0.33      0.29      0.31         7\n",
      "           4       0.00      0.00      0.00         3\n",
      "\n",
      "    accuracy                           0.57        61\n",
      "   macro avg       0.30      0.31      0.30        61\n",
      "weighted avg       0.49      0.57      0.52        61\n",
      "\n"
     ]
    },
    {
     "name": "stderr",
     "output_type": "stream",
     "text": [
      "c:\\Users\\herie\\AppData\\Local\\Programs\\Python\\Python312\\Lib\\site-packages\\sklearn\\metrics\\_classification.py:1509: UndefinedMetricWarning: Precision is ill-defined and being set to 0.0 in labels with no predicted samples. Use `zero_division` parameter to control this behavior.\n",
      "  _warn_prf(average, modifier, f\"{metric.capitalize()} is\", len(result))\n",
      "c:\\Users\\herie\\AppData\\Local\\Programs\\Python\\Python312\\Lib\\site-packages\\sklearn\\metrics\\_classification.py:1509: UndefinedMetricWarning: Precision is ill-defined and being set to 0.0 in labels with no predicted samples. Use `zero_division` parameter to control this behavior.\n",
      "  _warn_prf(average, modifier, f\"{metric.capitalize()} is\", len(result))\n",
      "c:\\Users\\herie\\AppData\\Local\\Programs\\Python\\Python312\\Lib\\site-packages\\sklearn\\metrics\\_classification.py:1509: UndefinedMetricWarning: Precision is ill-defined and being set to 0.0 in labels with no predicted samples. Use `zero_division` parameter to control this behavior.\n",
      "  _warn_prf(average, modifier, f\"{metric.capitalize()} is\", len(result))\n"
     ]
    }
   ],
   "source": [
    "bn.reporte_de_clasificacion()"
   ]
  }
 ],
 "metadata": {
  "kernelspec": {
   "display_name": "Python 3",
   "language": "python",
   "name": "python3"
  },
  "language_info": {
   "codemirror_mode": {
    "name": "ipython",
    "version": 3
   },
   "file_extension": ".py",
   "mimetype": "text/x-python",
   "name": "python",
   "nbconvert_exporter": "python",
   "pygments_lexer": "ipython3",
   "version": "3.12.1"
  }
 },
 "nbformat": 4,
 "nbformat_minor": 2
}
