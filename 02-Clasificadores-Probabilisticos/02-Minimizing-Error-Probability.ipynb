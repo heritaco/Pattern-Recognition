{
  "cells": [
    {
      "cell_type": "markdown",
      "metadata": {
        "id": "pZbBHMkl1OcQ"
      },
      "source": [
        "# **Minimizing the classification error probability**"
      ]
    },
    {
      "cell_type": "markdown",
      "metadata": {
        "id": "AnWr1XQ91RnX"
      },
      "source": [
        "Let $R_1$ be the region of the feature space in which we decide in favor of\n",
        "$\\omega_1$ and $R_2$ be the corresponding region for $\\omega_2$.\n",
        "\n",
        "Then an **error** is made if $x \\in R_1$, although it belongs to $\\omega_2$ or if $x \\in R_2$, although it belongs to $\\omega_1$. That is,\n",
        "$$P_e = P(x\\in R_2, \\omega_1) + P(x\\in R_1, \\omega_2)$$\n",
        "Where $P(\\cdot,\\cdot)$ is the **joint probability** of two events.\n"
      ]
    },
    {
      "cell_type": "markdown",
      "metadata": {
        "id": "8R72UDt82aR9"
      },
      "source": [
        "By definition, the **conditional probability** of $B$ assuming $A$ is\n",
        "$$P(B|A) = \\frac{P(B,A)}{P(A)}$$"
      ]
    },
    {
      "cell_type": "markdown",
      "metadata": {
        "id": "VDDzNl4m2pVr"
      },
      "source": [
        "Therefore, the total error becomes\n",
        "\\begin{align}\n",
        "P_e &=& P(x\\in R_2 | \\omega_1) P(\\omega_1)+P(x\\in R_1 | \\omega_2) P(\\omega_2)\\\\\n",
        "&=& P(\\omega_1) \\int_{R_2} p(x|\\omega_1)dx + P(\\omega_2) \\int_{R_1} p(x|\\omega_2)dx\\tag{eq1}\n",
        "\\end{align}\n"
      ]
    },
    {
      "cell_type": "markdown",
      "metadata": {},
      "source": [
        "Where $ p(x|\\omega_1)$ is the **conditional probability density function** of $x$ given $\\omega_1$, which describes how the values of $x$ are distributed within the class $\\omega_1$."
      ]
    },
    {
      "cell_type": "markdown",
      "metadata": {
        "id": "rpK6M1fc4Bv-"
      },
      "source": [
        "**Bayes' rule** states that\n",
        "$$P(\\omega_1 | x) = \\frac{p(x|\\omega_1)P(\\omega_1)}{p(x)}$$"
      ]
    },
    {
      "cell_type": "markdown",
      "metadata": {
        "id": "IiYNcMVH4akt"
      },
      "source": [
        "Factoring we obtain\n",
        "$$P(\\omega_1|x)p(x)= p(x|\\omega_1)P(\\omega_1) = P(x, \\omega_1) $$"
      ]
    },
    {
      "cell_type": "markdown",
      "metadata": {
        "id": "-W_Yb5Yn4bQy"
      },
      "source": [
        "Substituting in **(eq1)**, we have that"
      ]
    },
    {
      "cell_type": "markdown",
      "metadata": {},
      "source": [
        "$$P_e = \\int_{R_2} P(\\omega_1|x)p(x)dx+\\int_{R_1} P(\\omega_2|x)p(x)dx \\tag{eq2}$$"
      ]
    },
    {
      "cell_type": "markdown",
      "metadata": {
        "id": "wmeXvOfD86MV"
      },
      "source": [
        "By the **law of total probability**\n",
        "$$P(\\omega_1) = \\int_{\\Omega} P(\\omega_1 | x) p(x) dx$$"
      ]
    },
    {
      "cell_type": "markdown",
      "metadata": {
        "id": "X5OBhgx4IgyC"
      },
      "source": [
        "Since the uniont of the regions $R_1$, $R_2$ partition the space, that is\n",
        "$\\Omega = R_1 \\cup R_2$ and $R_1 \\cap R_2=\\emptyset$, we have that\n",
        "\\begin{align} P(\\omega_1) &=& \\int_{R_1 \\cup R_2} P(\\omega_1|x) p(x)dx \\\\\n",
        " &=& \\int_{R_1}  P(\\omega_1|x) p(x)dx + \\int_{R_2} P(\\omega_1|x) p(x)dx\\end{align}\n",
        "Then,\n",
        "$$\\int_{R_2} P(\\omega_1|x)p(x)dx= P(\\omega_1)-\\int_{R_1}P(\\omega_1|x)p(x)dx$$"
      ]
    },
    {
      "cell_type": "markdown",
      "metadata": {
        "id": "CJ_O9jkxJzLL"
      },
      "source": [
        "Substituting in **(eq2)**, we obtain\n",
        "\\begin{align} P_e &=& \\left( P(\\omega_1)-\\int_{R_1}P(\\omega_1|x)p(x)dx \\right)+\\int_{R_1} P(\\omega_2|x)p(x)dx\\\\\n",
        "&=& P(\\omega_1)+\\int_{R_1} \\left(-P(\\omega_1|x) +P(\\omega_2 | x) \\right)p(x) dx\\\\\n",
        "&=&P(\\omega_1)-\\int_{R_1} \\left(P(\\omega_1|x) -P(\\omega_2 | x) \\right)p(x) dx\n",
        "\\end{align}"
      ]
    },
    {
      "cell_type": "markdown",
      "metadata": {
        "id": "wi3LCP4cJ3mo"
      },
      "source": [
        "Because the first element is fixed, $P(\\omega_1)$, the **error is minimized** when the value of the integral is larger. This occurs when $R_1$ is the region of space in which\n",
        "$$P(\\omega_1 |x) > P(\\omega_2 |x)$$"
      ]
    },
    {
      "cell_type": "markdown",
      "metadata": {
        "id": "GUAeMkE4LlQZ"
      },
      "source": [
        "Then, $R_2$ becomes the region where the reverse is true. In other words, when\n",
        "$$P(\\omega_2 |x ) > P(\\omega_1|x)$$"
      ]
    },
    {
      "cell_type": "markdown",
      "metadata": {
        "id": "hCLfgcFILv_u"
      },
      "source": [
        "Therefore, the **error is minimized** if the partitioning regions $R_1$ and $R_2$ of the feature space are chosen so that\n",
        "$$R_1: \\qquad P(\\omega_1|x) > P(\\omega_2|x)$$\n",
        "$$R_2: \\qquad P(\\omega_2 |x) > P(\\omega_1|x)$$"
      ]
    },
    {
      "cell_type": "markdown",
      "metadata": {
        "id": "EWj3f4SVNez_"
      },
      "source": [
        "## **$M$-classes**"
      ]
    },
    {
      "cell_type": "markdown",
      "metadata": {
        "id": "Xcthneb_NhOc"
      },
      "source": [
        "So far, we have dealt with the simple case of two classes. Generalizations to\n",
        "the multiclass case are straightforward. In a classification task with $M$ classes, $\\omega1, \\omega_2,\\ldots, \\omega_M$, an unknown pattern, represented by the feature vector $x$, is assigned to class $\\omega_i$ if\n",
        "$$P(\\omega_1 | x) > P(\\omega_j |x), \\qquad \\forall j\\neq i$$"
      ]
    },
    {
      "cell_type": "markdown",
      "metadata": {
        "id": "MKBgTPsiNzXl"
      },
      "source": [
        "It can be shown that such a choice also **minimizes the probability of classification error**."
      ]
    },
    {
      "cell_type": "markdown",
      "metadata": {
        "id": "z16e1nmbOB45"
      },
      "source": [
        "# **Discriminant functions**"
      ]
    },
    {
      "cell_type": "markdown",
      "metadata": {
        "id": "ZWxo4qwkOHCR"
      },
      "source": [
        "It is by now clear that minimizing either the error probability  is equivalent to **partitioning** the feature space into $M$ regions, for a task with $M$ classes."
      ]
    },
    {
      "cell_type": "markdown",
      "metadata": {
        "id": "wZiqHiPyON38"
      },
      "source": [
        "If regions $R_i$, $R_j$ happen to be **contiguous**, then they are separated by a **decision surface** in the multidimensional feature space. For the minimum error probability case, this is described by the equation\n",
        "$$P(\\omega_i | x) - P(\\omega_j|x) = 0$$"
      ]
    },
    {
      "cell_type": "markdown",
      "metadata": {
        "id": "JUuWwqjSOaqY"
      },
      "source": [
        "From the one side of the surface this difference is positive, and from the other\n",
        "it is negative.\n",
        "\n",
        "Sometimes, instead of working directly with probabilities, it may be more convenient, from a mathematical point of view, to work with an equivalent function of them, for example,\n",
        "$$g_i(x) \\equiv f (P(\\omega_i |x))$$\n",
        "where $f(\\cdot)$ is a **monotonically increasing function**. $g_i(x)$ is known as a **discriminant function**."
      ]
    },
    {
      "cell_type": "markdown",
      "metadata": {
        "id": "jfuGZzbJOuQV"
      },
      "source": [
        "The **decision test**\n",
        "$$P(\\omega_i|x) > P(\\omega_j|x) \\qquad \\forall j\\neq i$$\n",
        "is now stated as\n",
        "$$\\text{classify} \\ x \\ \\text{in} \\ \\omega_i \\quad \\text{if} \\quad g_i(x) > g_j(x) \\quad j\\neq i$$"
      ]
    },
    {
      "cell_type": "markdown",
      "metadata": {
        "id": "ylTTqEaxO5Cd"
      },
      "source": [
        "The **decision surfaces**, separating contiguous regions, are described by\n",
        "$$g_{ij}(x) \\equiv g_i(x) - g_j(x) = 0, \\qquad i,j=1,2,\\ldots,M, \\ i\\neq j$$"
      ]
    },
    {
      "cell_type": "markdown",
      "metadata": {
        "id": "30N0v0yNPhAy"
      },
      "source": [
        "So far, we have approached the classification problem via **Bayesian probabilistic approache** and the goal was to **minimize the classification error probability** or the **risk**.\n",
        "\n",
        "However, as we will soon see, not all problems are well suited to such approaches.\n",
        "> For example, in many cases the involved pdfs are complicated and their estimation is not an easy task.\n",
        "\n",
        ">In such cases, it may be preferable to compute decision surfaces directly by means of alternative costs.\n",
        "\n",
        "Such approaches give rise to discriminant functions and decision surfaces, which\n",
        "are entities with no (necessary) relation to Bayesian classification, and they are, in general, **suboptimal** with respect to **Bayesian classifiers**."
      ]
    }
  ],
  "metadata": {
    "colab": {
      "provenance": []
    },
    "kernelspec": {
      "display_name": "Python 3",
      "name": "python3"
    },
    "language_info": {
      "name": "python"
    }
  },
  "nbformat": 4,
  "nbformat_minor": 0
}
